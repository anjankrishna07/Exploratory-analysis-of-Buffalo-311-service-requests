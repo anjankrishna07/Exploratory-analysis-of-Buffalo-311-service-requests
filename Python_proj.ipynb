{
 "cells": [
  {
   "cell_type": "markdown",
   "id": "50dae9e0",
   "metadata": {},
   "source": [
    "# Analysis of Buffalo 311 Service Requests"
   ]
  },
  {
   "cell_type": "code",
   "execution_count": 1,
   "id": "3cb98cfd",
   "metadata": {},
   "outputs": [
    {
     "name": "stderr",
     "output_type": "stream",
     "text": [
      "C:\\Users\\stjam\\anaconda3\\lib\\site-packages\\scipy\\__init__.py:146: UserWarning: A NumPy version >=1.16.5 and <1.23.0 is required for this version of SciPy (detected version 1.23.5\n",
      "  warnings.warn(f\"A NumPy version >={np_minversion} and <{np_maxversion}\"\n"
     ]
    }
   ],
   "source": [
    "import pandas as pd\n",
    "import sqlite3\n",
    "from sqlite3 import Error\n",
    "import pgeocode\n",
    "import matplotlib.pyplot as plt \n",
    "import seaborn as sns \n",
    "import plotly.express as px\n",
    "import plotly.graph_objects as go\n"
   ]
  },
  {
   "cell_type": "code",
   "execution_count": 2,
   "id": "353ebf7f",
   "metadata": {},
   "outputs": [],
   "source": [
    "\n",
    "def create_connection(db_file, delete_db=False):\n",
    "    import os\n",
    "    if delete_db and os.path.exists(db_file):\n",
    "        os.remove(db_file)\n",
    "\n",
    "    conn = None\n",
    "    try:\n",
    "        conn = sqlite3.connect(db_file)\n",
    "        conn.execute(\"PRAGMA foreign_keys = 1\")\n",
    "    except Error as e:\n",
    "        print(e)\n",
    "\n",
    "    return conn\n",
    "\n",
    "\n",
    "def create_table(conn, create_table_sql, drop_table_name=None):\n",
    "    \n",
    "    if drop_table_name: # You can optionally pass drop_table_name to drop the table. \n",
    "        try:\n",
    "            c = conn.cursor()\n",
    "            c.execute(\"\"\"DROP TABLE IF EXISTS %s\"\"\" % (drop_table_name))\n",
    "        except Error as e:\n",
    "            print(e)\n",
    "    \n",
    "    try:\n",
    "        c = conn.cursor()\n",
    "        c.execute(create_table_sql)\n",
    "    except Error as e:\n",
    "        print(e)\n",
    "        \n",
    "def execute_sql_statement(sql_statement, conn):\n",
    "    cur = conn.cursor()\n",
    "    cur.execute(sql_statement)\n",
    "\n",
    "    rows = cur.fetchall()\n",
    "\n",
    "    return rows\n"
   ]
  },
  {
   "cell_type": "markdown",
   "id": "9c4d91fd",
   "metadata": {},
   "source": [
    "## Creating Address Table"
   ]
  },
  {
   "cell_type": "code",
   "execution_count": 110,
   "id": "c59aac31",
   "metadata": {},
   "outputs": [
    {
     "name": "stdout",
     "output_type": "stream",
     "text": [
      "[('0', 'BRINKMAN', '14211', 'LOVEJOY', 'Genesee-Moselle'), ('0', 'CLINTON', '14206', 'ELLICOTT', 'Broadway Fillmore'), ('0', 'FUHRMANN BLVD', '14203', 'SOUTH', 'Central'), ('0', 'PORTER', '14201', 'NIAGARA', 'Central'), ('0', 'SHERMAN', '14212', 'ELLICOTT', 'Broadway Fillmore'), ('1', 'AGASSIZ', '14214', 'DELAWARE', 'Parkside'), ('1', 'ALICE', '14215', 'UNIVERSITY', 'Kensington-Bailey'), ('1', 'ALMA', '14215', 'MASTEN', 'Kenfield'), ('1', 'ANDREW', '14210', 'FILLMORE', 'Seneca Babcock'), ('1', 'ARGYLE', '14222', 'DELAWARE', 'Elmwood Bidwell'), ('1', 'ARUNDEL', '14216', 'DELAWARE', 'North Park'), ('1', 'ASHTON', '14220', 'SOUTH', 'Hopkins-Tifft'), ('1', 'AVERY', '14216', 'DELAWARE', 'North Park'), ('1', 'BABCOCK', '14210', 'FILLMORE', 'Seneca Babcock'), ('1', 'BAILEY', '14220', 'LOVEJOY', 'Hopkins-Tifft'), ('1', 'BEAN', '14202', 'ELLICOTT', 'Central'), ('1', 'BEARD', '14214', 'DELAWARE', 'Central Park'), ('1', 'BEARD', '14214', 'DELAWARE', 'North Park'), ('1', 'BERTHA', '14220', 'LOVEJOY', 'Hopkins-Tifft'), ('1', 'BEVERLY', '14208', 'MASTEN', 'Hamlin Park')]\n",
      "table [Address] already exists\n"
     ]
    }
   ],
   "source": [
    "\n",
    "with open('311_req_new_v3.csv') as file:\n",
    "    l = []\n",
    "\n",
    "    for i,f in enumerate(file):\n",
    "        if i != 0:\n",
    "            l.append((f.strip().split(',')[5],f.strip().split(',')[6], f.strip().split(',')[7],f.strip().split(',')[8],f.strip().split(',')[9]))\n",
    "    l1 = list(set(l))\n",
    "    l1.sort()\n",
    "    print(l1[0:20])\n",
    "\n",
    "norm_conn = create_connection('311_normalized.db')\n",
    "with norm_conn:\n",
    "    create_table_sql = \"\"\"CREATE TABLE [Address] (\n",
    "    [AddressID] integer NOT NULL PRIMARY KEY,\n",
    "    [addressno] text,\n",
    "    [addressline] text,\n",
    "    [zipcode] text,\n",
    "    [council] text,\n",
    "    [neighbourhood] text\n",
    "    );\"\"\"\n",
    "    create_table(norm_conn, create_table_sql,True)\n",
    "    sql = ''' INSERT INTO Address(addressno,addressline,zipcode,council,neighbourhood) VALUES(?,?,?,?,?) '''\n",
    "    cur = norm_conn.cursor()\n",
    "    cur.executemany(sql, l1)"
   ]
  },
  {
   "cell_type": "markdown",
   "id": "596f0458",
   "metadata": {},
   "source": [
    "## Creating Department Table"
   ]
  },
  {
   "cell_type": "code",
   "execution_count": null,
   "id": "755ce5a2",
   "metadata": {},
   "outputs": [],
   "source": [
    "with open('311_req_new_v3.csv') as file:\n",
    "    l = []\n",
    "    for i,f in enumerate(file):\n",
    "        if i != 0:\n",
    "            dep = f.split(',')[3]\n",
    "            l.append((dep,))\n",
    "    l1 = list(set(l))\n",
    "    l1.sort()\n",
    "\n",
    "norm_conn = create_connection('311_normalized.db')\n",
    "with norm_conn:\n",
    "    create_table_sql = \"\"\"CREATE TABLE [Department] (\n",
    "    [DepartmentID] integer NOT NULL PRIMARY KEY,\n",
    "    [Department] text not null\n",
    "    );\"\"\"\n",
    "    create_table(norm_conn, create_table_sql,True)\n",
    "    sql = ''' INSERT INTO Department(department) VALUES(?) '''\n",
    "    cur = norm_conn.cursor()\n",
    "    cur.executemany(sql, l1)"
   ]
  },
  {
   "cell_type": "markdown",
   "id": "1bbd9660",
   "metadata": {},
   "source": [
    "## Creating CaseType Table"
   ]
  },
  {
   "cell_type": "code",
   "execution_count": 112,
   "id": "b8a2a3f2",
   "metadata": {},
   "outputs": [
    {
     "name": "stdout",
     "output_type": "stream",
     "text": [
      "FOREIGN KEY constraint failed\n",
      "table CaseType already exists\n"
     ]
    }
   ],
   "source": [
    "norm_conn = create_connection('311_normalized.db')\n",
    "sql= 'select * from Department'\n",
    "data = execute_sql_statement(sql,norm_conn)\n",
    "\n",
    "dic_dep = {}\n",
    "for d in data:\n",
    "    dic_dep[d[1]] = d[0]\n",
    "    \n",
    "with open('311_req_new_v3.csv') as file:\n",
    "        l=file.readlines()\n",
    "DepartmentID=dic_dep\n",
    "Type=[(line.split(',')[4],DepartmentID[line.split(',')[3]]) for line in l[1:]]\n",
    "Type=set(Type)\n",
    "Type=list(Type)\n",
    "Type.sort()\n",
    "#print(Type)\n",
    "table='''CREATE TABLE CaseType(\n",
    "        TypeID Integer primary key, \n",
    "        Type Text not null,\n",
    "        DepartmentID Integer not null,\n",
    "        foreign key (DepartmentID) References Department(DepartmentID)\n",
    "    );'''\n",
    "conn=create_connection('311_normalized.db')\n",
    "c=conn.cursor()\n",
    "create_table(conn,table,drop_table_name='CaseType')\n",
    "insert=\"INSERT INTO CaseType(Type,DepartmentID) VALUES (?,?);\"\n",
    "c.executemany(insert,Type)\n",
    "conn.commit()"
   ]
  },
  {
   "cell_type": "markdown",
   "id": "6cf0be07",
   "metadata": {},
   "source": [
    "#### Creating dictionaries for Department, Address, CaseType with their respective ID values."
   ]
  },
  {
   "cell_type": "code",
   "execution_count": 113,
   "id": "2a64f0fb",
   "metadata": {},
   "outputs": [
    {
     "name": "stdout",
     "output_type": "stream",
     "text": [
      "[(1, 'Assessment & Taxation'), (2, 'Buffalo Fire Department'), (3, 'Buffalo Municipal Housing Authority'), (4, 'Buffalo Police Department'), (5, 'City Clerk'), (6, 'Community Services & Rec. Program.'), (7, 'DPIS'), (8, 'Dept of Law'), (9, 'Dept of Parking'), (10, 'Dept of Public Works'), (11, 'Human Resources'), (12, 'Knowledge Management'), (13, 'Management Information Systems'), (14, 'New Americans'), (15, 'Office of Strategic Planning'), (16, 'Office of the Mayor'), (17, 'Test'), (18, 'Utilities'), (19, 'Assessment & Taxation'), (20, 'Buffalo Fire Department'), (21, 'Buffalo Municipal Housing Authority'), (22, 'Buffalo Police Department'), (23, 'City Clerk'), (24, 'Community Services & Rec. Program.'), (25, 'DPIS'), (26, 'Dept of Law'), (27, 'Dept of Parking'), (28, 'Dept of Public Works'), (29, 'Human Resources'), (30, 'Knowledge Management'), (31, 'Management Information Systems'), (32, 'New Americans'), (33, 'Office of Strategic Planning'), (34, 'Office of the Mayor'), (35, 'Test'), (36, 'Utilities'), (37, 'Assessment & Taxation'), (38, 'Buffalo Fire Department'), (39, 'Buffalo Municipal Housing Authority'), (40, 'Buffalo Police Department'), (41, 'City Clerk'), (42, 'Community Services & Rec. Program.'), (43, 'DPIS'), (44, 'Dept of Law'), (45, 'Dept of Parking'), (46, 'Dept of Public Works'), (47, 'Human Resources'), (48, 'Knowledge Management'), (49, 'Management Information Systems'), (50, 'New Americans'), (51, 'Office of Strategic Planning'), (52, 'Office of the Mayor'), (53, 'Test'), (54, 'Utilities'), (55, 'Assessment & Taxation'), (56, 'Buffalo Fire Department'), (57, 'Buffalo Municipal Housing Authority'), (58, 'Buffalo Police Department'), (59, 'City Clerk'), (60, 'Community Services & Rec. Program.'), (61, 'DPIS'), (62, 'Dept of Law'), (63, 'Dept of Parking'), (64, 'Dept of Public Works'), (65, 'Human Resources'), (66, 'Knowledge Management'), (67, 'Management Information Systems'), (68, 'New Americans'), (69, 'Office of Strategic Planning'), (70, 'Office of the Mayor'), (71, 'Test'), (72, 'Utilities')]\n"
     ]
    }
   ],
   "source": [
    "norm_conn = create_connection('311_normalized.db')\n",
    "sql= 'select * from department'\n",
    "data = execute_sql_statement(sql,norm_conn)\n",
    "print(data)\n",
    "dic_dep = {}\n",
    "for d in data:\n",
    "    dic_dep[d[1]] = d[0]\n",
    "\n",
    "\n",
    "\n",
    "sql= 'select * from Address'\n",
    "data = execute_sql_statement(sql,norm_conn)\n",
    "dic_add = {}\n",
    "for d in data:\n",
    "    dic_add[f'{d[1]} {d[2]} {d[3]} {d[4]} {d[5]}'] = d[0]\n",
    "\n",
    "    \n",
    "\n",
    "\n",
    "sql= 'select * from CaseType'\n",
    "data = execute_sql_statement(sql,norm_conn)\n",
    "dic_typ = {}\n",
    "for d in data:\n",
    "    dic_typ[d[1]] = d[0]\n",
    "\n",
    "\n"
   ]
  },
  {
   "cell_type": "markdown",
   "id": "cb80b90e",
   "metadata": {},
   "source": [
    "#### Inserting Normalized data into CaseDetails Table"
   ]
  },
  {
   "cell_type": "code",
   "execution_count": 114,
   "id": "864c8cce",
   "metadata": {},
   "outputs": [],
   "source": [
    "l1 = []\n",
    "l2 = []\n",
    "\n",
    "with open('311_req_new_v3.csv') as file:\n",
    "    import datetime\n",
    "    for i,f in enumerate(file):\n",
    "        l = f.strip().split(',')\n",
    "       # print(len(l[2]))\n",
    "        #if l[2] == NULL:\n",
    "                   # print('hi')\n",
    "        if i != 0:\n",
    "            open_date = datetime.datetime.strptime(l[1], '%m/%d/%Y').strftime('%Y-%m-%d')\n",
    "            if len(l[2]) != 0:\n",
    "                \n",
    "                close_date = datetime.datetime.strptime(l[2], '%m/%d/%Y').strftime('%Y-%m-%d')\n",
    "            else:\n",
    "                close_date = 0\n",
    "            l1.append((l[0],open_date,close_date,dic_dep[l[3]],dic_typ[l[4]],\n",
    "                      dic_add[f'{l[5]} {l[6]} {l[7]} {l[8]} {l[9]}']))\n",
    "            if type(l[0]) is not str:\n",
    "                print(type(l[0]))\n",
    "            #print(i)\n",
    "    l2 = list(set(l1))\n",
    "    l2.sort()\n",
    "    \n",
    "    "
   ]
  },
  {
   "cell_type": "code",
   "execution_count": 115,
   "id": "b4d6aaf2",
   "metadata": {},
   "outputs": [],
   "source": [
    "norm_conn = create_connection('311_normalized.db')\n",
    "with norm_conn:\n",
    "    create_table_sql = \"\"\"CREATE TABLE [CaseDetails] (\n",
    "    [CaseID] string not null PRIMARY KEY,\n",
    "    [opendate] integer,\n",
    "    [closedate] integer,\n",
    "    [DepartmentID] INTEGER,\n",
    "    [TypeID] integer,\n",
    "    [AddressID] integer,\n",
    "    Foreign KEY(DepartmentID) References Department(DepartmentID),\n",
    "    Foreign KEY(TypeID) References CaseType(TypeID),\n",
    "    Foreign KEY(AddressID) References Address(AddressID)\n",
    "    );\"\"\"\n",
    "    create_table(norm_conn, create_table_sql,drop_table_name='CaseDetails')\n",
    "    sql = ''' INSERT INTO CaseDetails(caseid,opendate,closedate,DepartmentID,TypeID,AddressID) VALUES(?,?,?,?,?,?) '''\n",
    "    cur = norm_conn.cursor()\n",
    "    cur.executemany(sql,l1)\n",
    "\n",
    "    \n",
    "   "
   ]
  },
  {
   "cell_type": "markdown",
   "id": "39657f03",
   "metadata": {},
   "source": [
    "#### Plotting Number of Requests raised from zipcode per Year"
   ]
  },
  {
   "cell_type": "code",
   "execution_count": 116,
   "id": "46fd4614",
   "metadata": {},
   "outputs": [
    {
     "data": {
      "application/vnd.plotly.v1+json": {
       "config": {
        "plotlyServerURL": "https://plot.ly"
       },
       "data": [
        {
         "coloraxis": "coloraxis",
         "hovertemplate": "year=2008<br>no_of_requests=%{z}<br>latitude=%{lat}<br>longitude=%{lon}<extra></extra>",
         "lat": [
          42.8967,
          42.887,
          42.8939,
          42.884,
          42.8811,
          42.9491,
          42.9154,
          42.913,
          42.8614,
          42.9082,
          42.8946,
          42.9167,
          42.9414,
          42.9335,
          42.9499,
          42.8146,
          42.8441,
          42.9164,
          42.9255
         ],
         "lon": [
          -78.8846,
          -78.8779,
          -78.8681,
          -78.8597,
          -78.8104,
          -78.8978,
          -78.8505,
          -78.8656,
          -78.8205,
          -78.8225,
          -78.8245,
          -78.8895,
          -78.8374,
          -78.8115,
          -78.8599,
          -78.8078,
          -78.8182,
          -78.8763,
          -78.7481
         ],
         "name": "",
         "subplot": "mapbox",
         "type": "densitymapbox",
         "z": [
          473,
          303,
          88,
          347,
          960,
          971,
          638,
          278,
          806,
          1464,
          672,
          1492,
          1286,
          1711,
          755,
          1,
          948,
          514,
          2
         ]
        }
       ],
       "frames": [
        {
         "data": [
          {
           "coloraxis": "coloraxis",
           "hovertemplate": "year=2008<br>no_of_requests=%{z}<br>latitude=%{lat}<br>longitude=%{lon}<extra></extra>",
           "lat": [
            42.8967,
            42.887,
            42.8939,
            42.884,
            42.8811,
            42.9491,
            42.9154,
            42.913,
            42.8614,
            42.9082,
            42.8946,
            42.9167,
            42.9414,
            42.9335,
            42.9499,
            42.8146,
            42.8441,
            42.9164,
            42.9255
           ],
           "lon": [
            -78.8846,
            -78.8779,
            -78.8681,
            -78.8597,
            -78.8104,
            -78.8978,
            -78.8505,
            -78.8656,
            -78.8205,
            -78.8225,
            -78.8245,
            -78.8895,
            -78.8374,
            -78.8115,
            -78.8599,
            -78.8078,
            -78.8182,
            -78.8763,
            -78.7481
           ],
           "name": "",
           "subplot": "mapbox",
           "type": "densitymapbox",
           "z": [
            473,
            303,
            88,
            347,
            960,
            971,
            638,
            278,
            806,
            1464,
            672,
            1492,
            1286,
            1711,
            755,
            1,
            948,
            514,
            2
           ]
          }
         ],
         "name": "2008"
        },
        {
         "data": [
          {
           "coloraxis": "coloraxis",
           "hovertemplate": "year=2009<br>no_of_requests=%{z}<br>latitude=%{lat}<br>longitude=%{lon}<extra></extra>",
           "lat": [
            42.8967,
            42.887,
            42.8939,
            42.884,
            42.8811,
            42.9491,
            42.9154,
            42.913,
            42.8614,
            42.9082,
            42.8946,
            42.9167,
            42.9414,
            42.9335,
            42.9499,
            42.8146,
            42.8441,
            42.9164,
            42.9731,
            42.9255
           ],
           "lon": [
            -78.8846,
            -78.8779,
            -78.8681,
            -78.8597,
            -78.8104,
            -78.8978,
            -78.8505,
            -78.8656,
            -78.8205,
            -78.8225,
            -78.8245,
            -78.8895,
            -78.8374,
            -78.8115,
            -78.8599,
            -78.8078,
            -78.8182,
            -78.8763,
            -78.845,
            -78.7481
           ],
           "name": "",
           "subplot": "mapbox",
           "type": "densitymapbox",
           "z": [
            1798,
            856,
            322,
            1731,
            3567,
            4271,
            2716,
            1170,
            2841,
            5899,
            2588,
            5174,
            4349,
            7259,
            3813,
            11,
            3965,
            2594,
            3,
            22
           ]
          }
         ],
         "name": "2009"
        },
        {
         "data": [
          {
           "coloraxis": "coloraxis",
           "hovertemplate": "year=2010<br>no_of_requests=%{z}<br>latitude=%{lat}<br>longitude=%{lon}<extra></extra>",
           "lat": [
            42.8967,
            42.887,
            42.8939,
            42.884,
            42.8811,
            42.9491,
            42.9154,
            42.913,
            42.8614,
            42.9082,
            42.8946,
            42.9167,
            42.9414,
            42.9335,
            42.9499,
            42.8146,
            42.8441,
            42.9164,
            42.9731,
            42.9255
           ],
           "lon": [
            -78.8846,
            -78.8779,
            -78.8681,
            -78.8597,
            -78.8104,
            -78.8978,
            -78.8505,
            -78.8656,
            -78.8205,
            -78.8225,
            -78.8245,
            -78.8895,
            -78.8374,
            -78.8115,
            -78.8599,
            -78.8078,
            -78.8182,
            -78.8763,
            -78.845,
            -78.7481
           ],
           "name": "",
           "subplot": "mapbox",
           "type": "densitymapbox",
           "z": [
            1565,
            688,
            313,
            1565,
            3647,
            3807,
            2228,
            1038,
            2909,
            5196,
            2412,
            4369,
            3597,
            6459,
            3352,
            10,
            4686,
            1600,
            3,
            17
           ]
          }
         ],
         "name": "2010"
        },
        {
         "data": [
          {
           "coloraxis": "coloraxis",
           "hovertemplate": "year=2011<br>no_of_requests=%{z}<br>latitude=%{lat}<br>longitude=%{lon}<extra></extra>",
           "lat": [
            42.8967,
            42.887,
            42.8939,
            42.884,
            42.8811,
            42.9491,
            42.9154,
            42.913,
            42.8614,
            42.9082,
            42.8946,
            42.9167,
            42.9414,
            42.9335,
            42.9499,
            42.8146,
            42.8441,
            42.9164,
            42.9731,
            42.9255
           ],
           "lon": [
            -78.8846,
            -78.8779,
            -78.8681,
            -78.8597,
            -78.8104,
            -78.8978,
            -78.8505,
            -78.8656,
            -78.8205,
            -78.8225,
            -78.8245,
            -78.8895,
            -78.8374,
            -78.8115,
            -78.8599,
            -78.8078,
            -78.8182,
            -78.8763,
            -78.845,
            -78.7481
           ],
           "name": "",
           "subplot": "mapbox",
           "type": "densitymapbox",
           "z": [
            1959,
            846,
            432,
            1876,
            4390,
            4665,
            2467,
            1316,
            2934,
            5803,
            2551,
            4798,
            4295,
            7241,
            3943,
            11,
            4705,
            2103,
            2,
            31
           ]
          }
         ],
         "name": "2011"
        },
        {
         "data": [
          {
           "coloraxis": "coloraxis",
           "hovertemplate": "year=2012<br>no_of_requests=%{z}<br>latitude=%{lat}<br>longitude=%{lon}<extra></extra>",
           "lat": [
            42.8967,
            42.887,
            42.8939,
            42.884,
            42.8811,
            42.9491,
            42.9154,
            42.913,
            42.8614,
            42.9082,
            42.8946,
            42.9167,
            42.9414,
            42.9335,
            42.9499,
            42.8146,
            42.8441,
            42.9164,
            42.9731,
            42.9255
           ],
           "lon": [
            -78.8846,
            -78.8779,
            -78.8681,
            -78.8597,
            -78.8104,
            -78.8978,
            -78.8505,
            -78.8656,
            -78.8205,
            -78.8225,
            -78.8245,
            -78.8895,
            -78.8374,
            -78.8115,
            -78.8599,
            -78.8078,
            -78.8182,
            -78.8763,
            -78.845,
            -78.7481
           ],
           "name": "",
           "subplot": "mapbox",
           "type": "densitymapbox",
           "z": [
            1918,
            775,
            355,
            1546,
            3927,
            4369,
            2511,
            1192,
            2623,
            5465,
            2361,
            4522,
            3793,
            6536,
            3960,
            9,
            4103,
            2070,
            3,
            17
           ]
          }
         ],
         "name": "2012"
        },
        {
         "data": [
          {
           "coloraxis": "coloraxis",
           "hovertemplate": "year=2013<br>no_of_requests=%{z}<br>latitude=%{lat}<br>longitude=%{lon}<extra></extra>",
           "lat": [
            42.8967,
            42.887,
            42.8939,
            42.884,
            42.8811,
            42.9491,
            42.9154,
            42.913,
            42.8614,
            42.9082,
            42.8946,
            42.9167,
            42.9414,
            42.9335,
            42.9499,
            42.8146,
            42.8441,
            42.9164,
            42.9731,
            42.9255
           ],
           "lon": [
            -78.8846,
            -78.8779,
            -78.8681,
            -78.8597,
            -78.8104,
            -78.8978,
            -78.8505,
            -78.8656,
            -78.8205,
            -78.8225,
            -78.8245,
            -78.8895,
            -78.8374,
            -78.8115,
            -78.8599,
            -78.8078,
            -78.8182,
            -78.8763,
            -78.845,
            -78.7481
           ],
           "name": "",
           "subplot": "mapbox",
           "type": "densitymapbox",
           "z": [
            1986,
            774,
            346,
            1675,
            3781,
            4667,
            2541,
            1384,
            3073,
            5673,
            2678,
            4788,
            4223,
            7141,
            4061,
            15,
            4178,
            1920,
            3,
            16
           ]
          }
         ],
         "name": "2013"
        },
        {
         "data": [
          {
           "coloraxis": "coloraxis",
           "hovertemplate": "year=2014<br>no_of_requests=%{z}<br>latitude=%{lat}<br>longitude=%{lon}<extra></extra>",
           "lat": [
            42.8967,
            42.887,
            42.8939,
            42.884,
            42.8811,
            42.9491,
            42.9154,
            42.913,
            42.8614,
            42.9082,
            42.8946,
            42.9167,
            42.9414,
            42.9335,
            42.9499,
            42.8146,
            42.8441,
            42.9164,
            42.9731,
            42.9255
           ],
           "lon": [
            -78.8846,
            -78.8779,
            -78.8681,
            -78.8597,
            -78.8104,
            -78.8978,
            -78.8505,
            -78.8656,
            -78.8205,
            -78.8225,
            -78.8245,
            -78.8895,
            -78.8374,
            -78.8115,
            -78.8599,
            -78.8078,
            -78.8182,
            -78.8763,
            -78.845,
            -78.7481
           ],
           "name": "",
           "subplot": "mapbox",
           "type": "densitymapbox",
           "z": [
            2373,
            899,
            471,
            1894,
            4976,
            5388,
            2857,
            1507,
            3584,
            6628,
            3105,
            5531,
            4680,
            8388,
            4492,
            25,
            5828,
            2876,
            18,
            26
           ]
          }
         ],
         "name": "2014"
        },
        {
         "data": [
          {
           "coloraxis": "coloraxis",
           "hovertemplate": "year=2015<br>no_of_requests=%{z}<br>latitude=%{lat}<br>longitude=%{lon}<extra></extra>",
           "lat": [
            42.8967,
            42.887,
            42.8939,
            42.884,
            42.8811,
            42.9491,
            42.9154,
            42.913,
            42.8614,
            42.9082,
            42.8946,
            42.9167,
            42.9414,
            42.9335,
            42.9499,
            42.8146,
            42.8441,
            42.9164,
            42.9731,
            42.9255
           ],
           "lon": [
            -78.8846,
            -78.8779,
            -78.8681,
            -78.8597,
            -78.8104,
            -78.8978,
            -78.8505,
            -78.8656,
            -78.8205,
            -78.8225,
            -78.8245,
            -78.8895,
            -78.8374,
            -78.8115,
            -78.8599,
            -78.8078,
            -78.8182,
            -78.8763,
            -78.845,
            -78.7481
           ],
           "name": "",
           "subplot": "mapbox",
           "type": "densitymapbox",
           "z": [
            3011,
            1098,
            559,
            2109,
            5456,
            6511,
            3360,
            1641,
            4050,
            6939,
            3231,
            6272,
            5597,
            9657,
            5618,
            28,
            5840,
            2869,
            7,
            46
           ]
          }
         ],
         "name": "2015"
        },
        {
         "data": [
          {
           "coloraxis": "coloraxis",
           "hovertemplate": "year=2016<br>no_of_requests=%{z}<br>latitude=%{lat}<br>longitude=%{lon}<extra></extra>",
           "lat": [
            42.8967,
            42.887,
            42.8939,
            42.884,
            42.8811,
            42.9491,
            42.9154,
            42.913,
            42.8614,
            42.9082,
            42.8946,
            42.9167,
            42.9414,
            42.9335,
            42.9499,
            42.8146,
            42.8441,
            42.9164,
            42.9731,
            42.9255
           ],
           "lon": [
            -78.8846,
            -78.8779,
            -78.8681,
            -78.8597,
            -78.8104,
            -78.8978,
            -78.8505,
            -78.8656,
            -78.8205,
            -78.8225,
            -78.8245,
            -78.8895,
            -78.8374,
            -78.8115,
            -78.8599,
            -78.8078,
            -78.8182,
            -78.8763,
            -78.845,
            -78.7481
           ],
           "name": "",
           "subplot": "mapbox",
           "type": "densitymapbox",
           "z": [
            2231,
            1025,
            508,
            1740,
            4964,
            5476,
            2877,
            1346,
            3592,
            6463,
            2616,
            5513,
            4727,
            8876,
            4579,
            20,
            5403,
            2265,
            10,
            24
           ]
          }
         ],
         "name": "2016"
        },
        {
         "data": [
          {
           "coloraxis": "coloraxis",
           "hovertemplate": "year=2017<br>no_of_requests=%{z}<br>latitude=%{lat}<br>longitude=%{lon}<extra></extra>",
           "lat": [
            42.8967,
            42.887,
            42.8939,
            42.884,
            42.8811,
            42.9491,
            42.9154,
            42.913,
            42.8614,
            42.9082,
            42.8946,
            42.9167,
            42.9414,
            42.9335,
            42.9499,
            42.8146,
            42.8441,
            42.9164,
            42.9731,
            42.9255
           ],
           "lon": [
            -78.8846,
            -78.8779,
            -78.8681,
            -78.8597,
            -78.8104,
            -78.8978,
            -78.8505,
            -78.8656,
            -78.8205,
            -78.8225,
            -78.8245,
            -78.8895,
            -78.8374,
            -78.8115,
            -78.8599,
            -78.8078,
            -78.8182,
            -78.8763,
            -78.845,
            -78.7481
           ],
           "name": "",
           "subplot": "mapbox",
           "type": "densitymapbox",
           "z": [
            2068,
            903,
            583,
            1955,
            5085,
            5922,
            3072,
            1568,
            3569,
            6575,
            2643,
            5354,
            4633,
            8919,
            4607,
            42,
            5240,
            2250,
            4,
            41
           ]
          }
         ],
         "name": "2017"
        },
        {
         "data": [
          {
           "coloraxis": "coloraxis",
           "hovertemplate": "year=2018<br>no_of_requests=%{z}<br>latitude=%{lat}<br>longitude=%{lon}<extra></extra>",
           "lat": [
            42.8967,
            42.887,
            42.8939,
            42.884,
            42.8811,
            42.9491,
            42.9154,
            42.913,
            42.8614,
            42.9082,
            42.8946,
            42.9167,
            42.9414,
            42.9335,
            42.9499,
            42.8146,
            42.8441,
            42.9164,
            42.9731,
            42.9255
           ],
           "lon": [
            -78.8846,
            -78.8779,
            -78.8681,
            -78.8597,
            -78.8104,
            -78.8978,
            -78.8505,
            -78.8656,
            -78.8205,
            -78.8225,
            -78.8245,
            -78.8895,
            -78.8374,
            -78.8115,
            -78.8599,
            -78.8078,
            -78.8182,
            -78.8763,
            -78.845,
            -78.7481
           ],
           "name": "",
           "subplot": "mapbox",
           "type": "densitymapbox",
           "z": [
            2304,
            1070,
            660,
            2106,
            5510,
            6172,
            3373,
            1741,
            3816,
            7141,
            2713,
            6203,
            5001,
            10138,
            5119,
            35,
            5483,
            2409,
            5,
            30
           ]
          }
         ],
         "name": "2018"
        },
        {
         "data": [
          {
           "coloraxis": "coloraxis",
           "hovertemplate": "year=2019<br>no_of_requests=%{z}<br>latitude=%{lat}<br>longitude=%{lon}<extra></extra>",
           "lat": [
            42.8967,
            42.887,
            42.8939,
            42.884,
            42.8811,
            42.9491,
            42.9154,
            42.913,
            42.8614,
            42.9082,
            42.8946,
            42.9167,
            42.9414,
            42.9335,
            42.9499,
            42.8146,
            42.8441,
            42.9164,
            42.9731,
            42.9255
           ],
           "lon": [
            -78.8846,
            -78.8779,
            -78.8681,
            -78.8597,
            -78.8104,
            -78.8978,
            -78.8505,
            -78.8656,
            -78.8205,
            -78.8225,
            -78.8245,
            -78.8895,
            -78.8374,
            -78.8115,
            -78.8599,
            -78.8078,
            -78.8182,
            -78.8763,
            -78.845,
            -78.7481
           ],
           "name": "",
           "subplot": "mapbox",
           "type": "densitymapbox",
           "z": [
            2464,
            1228,
            659,
            2158,
            5796,
            5851,
            3489,
            1756,
            3651,
            6800,
            2844,
            5719,
            4793,
            9890,
            4911,
            26,
            5089,
            2446,
            1,
            55
           ]
          }
         ],
         "name": "2019"
        },
        {
         "data": [
          {
           "coloraxis": "coloraxis",
           "hovertemplate": "year=2020<br>no_of_requests=%{z}<br>latitude=%{lat}<br>longitude=%{lon}<extra></extra>",
           "lat": [
            42.8967,
            42.887,
            42.8939,
            42.884,
            42.8811,
            42.9491,
            42.9154,
            42.913,
            42.8614,
            42.9082,
            42.8946,
            42.9167,
            42.9414,
            42.9335,
            42.9499,
            42.8146,
            42.8441,
            42.9164,
            42.9731,
            42.9255
           ],
           "lon": [
            -78.8846,
            -78.8779,
            -78.8681,
            -78.8597,
            -78.8104,
            -78.8978,
            -78.8505,
            -78.8656,
            -78.8205,
            -78.8225,
            -78.8245,
            -78.8895,
            -78.8374,
            -78.8115,
            -78.8599,
            -78.8078,
            -78.8182,
            -78.8763,
            -78.845,
            -78.7481
           ],
           "name": "",
           "subplot": "mapbox",
           "type": "densitymapbox",
           "z": [
            2117,
            1821,
            388,
            2080,
            6080,
            5499,
            3177,
            1427,
            3288,
            6788,
            2766,
            5521,
            4600,
            9360,
            4456,
            27,
            4790,
            2375,
            9,
            40
           ]
          }
         ],
         "name": "2020"
        },
        {
         "data": [
          {
           "coloraxis": "coloraxis",
           "hovertemplate": "year=2021<br>no_of_requests=%{z}<br>latitude=%{lat}<br>longitude=%{lon}<extra></extra>",
           "lat": [
            42.8967,
            42.887,
            42.8939,
            42.884,
            42.8811,
            42.9491,
            42.9154,
            42.913,
            42.8614,
            42.9082,
            42.8946,
            42.9167,
            42.9414,
            42.9335,
            42.9499,
            42.8146,
            42.8441,
            42.9164,
            42.9731,
            42.9255
           ],
           "lon": [
            -78.8846,
            -78.8779,
            -78.8681,
            -78.8597,
            -78.8104,
            -78.8978,
            -78.8505,
            -78.8656,
            -78.8205,
            -78.8225,
            -78.8245,
            -78.8895,
            -78.8374,
            -78.8115,
            -78.8599,
            -78.8078,
            -78.8182,
            -78.8763,
            -78.845,
            -78.7481
           ],
           "name": "",
           "subplot": "mapbox",
           "type": "densitymapbox",
           "z": [
            2411,
            1429,
            429,
            2166,
            6034,
            5621,
            3503,
            1650,
            3710,
            7776,
            2849,
            6114,
            5166,
            10534,
            4925,
            33,
            4768,
            2670,
            7,
            22
           ]
          }
         ],
         "name": "2021"
        },
        {
         "data": [
          {
           "coloraxis": "coloraxis",
           "hovertemplate": "year=2022<br>no_of_requests=%{z}<br>latitude=%{lat}<br>longitude=%{lon}<extra></extra>",
           "lat": [
            42.8967,
            42.887,
            42.8939,
            42.884,
            42.8811,
            42.9491,
            42.9154,
            42.913,
            42.8614,
            42.9082,
            42.8946,
            42.9167,
            42.9414,
            42.9335,
            42.9499,
            42.8146,
            42.8441,
            42.9164,
            42.9731,
            42.9255
           ],
           "lon": [
            -78.8846,
            -78.8779,
            -78.8681,
            -78.8597,
            -78.8104,
            -78.8978,
            -78.8505,
            -78.8656,
            -78.8205,
            -78.8225,
            -78.8245,
            -78.8895,
            -78.8374,
            -78.8115,
            -78.8599,
            -78.8078,
            -78.8182,
            -78.8763,
            -78.845,
            -78.7481
           ],
           "name": "",
           "subplot": "mapbox",
           "type": "densitymapbox",
           "z": [
            3318,
            1423,
            595,
            2573,
            6645,
            6339,
            4441,
            2188,
            4205,
            8826,
            3689,
            7861,
            6257,
            12023,
            5882,
            47,
            5511,
            3677,
            6,
            31
           ]
          }
         ],
         "name": "2022"
        }
       ],
       "layout": {
        "coloraxis": {
         "colorbar": {
          "title": {
           "text": "no_of_requests"
          }
         },
         "colorscale": [
          [
           0,
           "#0d0887"
          ],
          [
           0.1111111111111111,
           "#46039f"
          ],
          [
           0.2222222222222222,
           "#7201a8"
          ],
          [
           0.3333333333333333,
           "#9c179e"
          ],
          [
           0.4444444444444444,
           "#bd3786"
          ],
          [
           0.5555555555555556,
           "#d8576b"
          ],
          [
           0.6666666666666666,
           "#ed7953"
          ],
          [
           0.7777777777777778,
           "#fb9f3a"
          ],
          [
           0.8888888888888888,
           "#fdca26"
          ],
          [
           1,
           "#f0f921"
          ]
         ]
        },
        "legend": {
         "tracegroupgap": 0
        },
        "mapbox": {
         "center": {
          "lat": 42.90475217391294,
          "lon": -78.84378595317727
         },
         "domain": {
          "x": [
           0,
           1
          ],
          "y": [
           0,
           1
          ]
         },
         "style": "open-street-map",
         "zoom": 10
        },
        "margin": {
         "t": 60
        },
        "sliders": [
         {
          "active": 0,
          "currentvalue": {
           "prefix": "year="
          },
          "len": 0.9,
          "pad": {
           "b": 10,
           "t": 60
          },
          "steps": [
           {
            "args": [
             [
              "2008"
             ],
             {
              "frame": {
               "duration": 0,
               "redraw": true
              },
              "fromcurrent": true,
              "mode": "immediate",
              "transition": {
               "duration": 0,
               "easing": "linear"
              }
             }
            ],
            "label": "2008",
            "method": "animate"
           },
           {
            "args": [
             [
              "2009"
             ],
             {
              "frame": {
               "duration": 0,
               "redraw": true
              },
              "fromcurrent": true,
              "mode": "immediate",
              "transition": {
               "duration": 0,
               "easing": "linear"
              }
             }
            ],
            "label": "2009",
            "method": "animate"
           },
           {
            "args": [
             [
              "2010"
             ],
             {
              "frame": {
               "duration": 0,
               "redraw": true
              },
              "fromcurrent": true,
              "mode": "immediate",
              "transition": {
               "duration": 0,
               "easing": "linear"
              }
             }
            ],
            "label": "2010",
            "method": "animate"
           },
           {
            "args": [
             [
              "2011"
             ],
             {
              "frame": {
               "duration": 0,
               "redraw": true
              },
              "fromcurrent": true,
              "mode": "immediate",
              "transition": {
               "duration": 0,
               "easing": "linear"
              }
             }
            ],
            "label": "2011",
            "method": "animate"
           },
           {
            "args": [
             [
              "2012"
             ],
             {
              "frame": {
               "duration": 0,
               "redraw": true
              },
              "fromcurrent": true,
              "mode": "immediate",
              "transition": {
               "duration": 0,
               "easing": "linear"
              }
             }
            ],
            "label": "2012",
            "method": "animate"
           },
           {
            "args": [
             [
              "2013"
             ],
             {
              "frame": {
               "duration": 0,
               "redraw": true
              },
              "fromcurrent": true,
              "mode": "immediate",
              "transition": {
               "duration": 0,
               "easing": "linear"
              }
             }
            ],
            "label": "2013",
            "method": "animate"
           },
           {
            "args": [
             [
              "2014"
             ],
             {
              "frame": {
               "duration": 0,
               "redraw": true
              },
              "fromcurrent": true,
              "mode": "immediate",
              "transition": {
               "duration": 0,
               "easing": "linear"
              }
             }
            ],
            "label": "2014",
            "method": "animate"
           },
           {
            "args": [
             [
              "2015"
             ],
             {
              "frame": {
               "duration": 0,
               "redraw": true
              },
              "fromcurrent": true,
              "mode": "immediate",
              "transition": {
               "duration": 0,
               "easing": "linear"
              }
             }
            ],
            "label": "2015",
            "method": "animate"
           },
           {
            "args": [
             [
              "2016"
             ],
             {
              "frame": {
               "duration": 0,
               "redraw": true
              },
              "fromcurrent": true,
              "mode": "immediate",
              "transition": {
               "duration": 0,
               "easing": "linear"
              }
             }
            ],
            "label": "2016",
            "method": "animate"
           },
           {
            "args": [
             [
              "2017"
             ],
             {
              "frame": {
               "duration": 0,
               "redraw": true
              },
              "fromcurrent": true,
              "mode": "immediate",
              "transition": {
               "duration": 0,
               "easing": "linear"
              }
             }
            ],
            "label": "2017",
            "method": "animate"
           },
           {
            "args": [
             [
              "2018"
             ],
             {
              "frame": {
               "duration": 0,
               "redraw": true
              },
              "fromcurrent": true,
              "mode": "immediate",
              "transition": {
               "duration": 0,
               "easing": "linear"
              }
             }
            ],
            "label": "2018",
            "method": "animate"
           },
           {
            "args": [
             [
              "2019"
             ],
             {
              "frame": {
               "duration": 0,
               "redraw": true
              },
              "fromcurrent": true,
              "mode": "immediate",
              "transition": {
               "duration": 0,
               "easing": "linear"
              }
             }
            ],
            "label": "2019",
            "method": "animate"
           },
           {
            "args": [
             [
              "2020"
             ],
             {
              "frame": {
               "duration": 0,
               "redraw": true
              },
              "fromcurrent": true,
              "mode": "immediate",
              "transition": {
               "duration": 0,
               "easing": "linear"
              }
             }
            ],
            "label": "2020",
            "method": "animate"
           },
           {
            "args": [
             [
              "2021"
             ],
             {
              "frame": {
               "duration": 0,
               "redraw": true
              },
              "fromcurrent": true,
              "mode": "immediate",
              "transition": {
               "duration": 0,
               "easing": "linear"
              }
             }
            ],
            "label": "2021",
            "method": "animate"
           },
           {
            "args": [
             [
              "2022"
             ],
             {
              "frame": {
               "duration": 0,
               "redraw": true
              },
              "fromcurrent": true,
              "mode": "immediate",
              "transition": {
               "duration": 0,
               "easing": "linear"
              }
             }
            ],
            "label": "2022",
            "method": "animate"
           }
          ],
          "x": 0.1,
          "xanchor": "left",
          "y": 0,
          "yanchor": "top"
         }
        ],
        "template": {
         "data": {
          "bar": [
           {
            "error_x": {
             "color": "#2a3f5f"
            },
            "error_y": {
             "color": "#2a3f5f"
            },
            "marker": {
             "line": {
              "color": "#E5ECF6",
              "width": 0.5
             },
             "pattern": {
              "fillmode": "overlay",
              "size": 10,
              "solidity": 0.2
             }
            },
            "type": "bar"
           }
          ],
          "barpolar": [
           {
            "marker": {
             "line": {
              "color": "#E5ECF6",
              "width": 0.5
             },
             "pattern": {
              "fillmode": "overlay",
              "size": 10,
              "solidity": 0.2
             }
            },
            "type": "barpolar"
           }
          ],
          "carpet": [
           {
            "aaxis": {
             "endlinecolor": "#2a3f5f",
             "gridcolor": "white",
             "linecolor": "white",
             "minorgridcolor": "white",
             "startlinecolor": "#2a3f5f"
            },
            "baxis": {
             "endlinecolor": "#2a3f5f",
             "gridcolor": "white",
             "linecolor": "white",
             "minorgridcolor": "white",
             "startlinecolor": "#2a3f5f"
            },
            "type": "carpet"
           }
          ],
          "choropleth": [
           {
            "colorbar": {
             "outlinewidth": 0,
             "ticks": ""
            },
            "type": "choropleth"
           }
          ],
          "contour": [
           {
            "colorbar": {
             "outlinewidth": 0,
             "ticks": ""
            },
            "colorscale": [
             [
              0,
              "#0d0887"
             ],
             [
              0.1111111111111111,
              "#46039f"
             ],
             [
              0.2222222222222222,
              "#7201a8"
             ],
             [
              0.3333333333333333,
              "#9c179e"
             ],
             [
              0.4444444444444444,
              "#bd3786"
             ],
             [
              0.5555555555555556,
              "#d8576b"
             ],
             [
              0.6666666666666666,
              "#ed7953"
             ],
             [
              0.7777777777777778,
              "#fb9f3a"
             ],
             [
              0.8888888888888888,
              "#fdca26"
             ],
             [
              1,
              "#f0f921"
             ]
            ],
            "type": "contour"
           }
          ],
          "contourcarpet": [
           {
            "colorbar": {
             "outlinewidth": 0,
             "ticks": ""
            },
            "type": "contourcarpet"
           }
          ],
          "heatmap": [
           {
            "colorbar": {
             "outlinewidth": 0,
             "ticks": ""
            },
            "colorscale": [
             [
              0,
              "#0d0887"
             ],
             [
              0.1111111111111111,
              "#46039f"
             ],
             [
              0.2222222222222222,
              "#7201a8"
             ],
             [
              0.3333333333333333,
              "#9c179e"
             ],
             [
              0.4444444444444444,
              "#bd3786"
             ],
             [
              0.5555555555555556,
              "#d8576b"
             ],
             [
              0.6666666666666666,
              "#ed7953"
             ],
             [
              0.7777777777777778,
              "#fb9f3a"
             ],
             [
              0.8888888888888888,
              "#fdca26"
             ],
             [
              1,
              "#f0f921"
             ]
            ],
            "type": "heatmap"
           }
          ],
          "heatmapgl": [
           {
            "colorbar": {
             "outlinewidth": 0,
             "ticks": ""
            },
            "colorscale": [
             [
              0,
              "#0d0887"
             ],
             [
              0.1111111111111111,
              "#46039f"
             ],
             [
              0.2222222222222222,
              "#7201a8"
             ],
             [
              0.3333333333333333,
              "#9c179e"
             ],
             [
              0.4444444444444444,
              "#bd3786"
             ],
             [
              0.5555555555555556,
              "#d8576b"
             ],
             [
              0.6666666666666666,
              "#ed7953"
             ],
             [
              0.7777777777777778,
              "#fb9f3a"
             ],
             [
              0.8888888888888888,
              "#fdca26"
             ],
             [
              1,
              "#f0f921"
             ]
            ],
            "type": "heatmapgl"
           }
          ],
          "histogram": [
           {
            "marker": {
             "pattern": {
              "fillmode": "overlay",
              "size": 10,
              "solidity": 0.2
             }
            },
            "type": "histogram"
           }
          ],
          "histogram2d": [
           {
            "colorbar": {
             "outlinewidth": 0,
             "ticks": ""
            },
            "colorscale": [
             [
              0,
              "#0d0887"
             ],
             [
              0.1111111111111111,
              "#46039f"
             ],
             [
              0.2222222222222222,
              "#7201a8"
             ],
             [
              0.3333333333333333,
              "#9c179e"
             ],
             [
              0.4444444444444444,
              "#bd3786"
             ],
             [
              0.5555555555555556,
              "#d8576b"
             ],
             [
              0.6666666666666666,
              "#ed7953"
             ],
             [
              0.7777777777777778,
              "#fb9f3a"
             ],
             [
              0.8888888888888888,
              "#fdca26"
             ],
             [
              1,
              "#f0f921"
             ]
            ],
            "type": "histogram2d"
           }
          ],
          "histogram2dcontour": [
           {
            "colorbar": {
             "outlinewidth": 0,
             "ticks": ""
            },
            "colorscale": [
             [
              0,
              "#0d0887"
             ],
             [
              0.1111111111111111,
              "#46039f"
             ],
             [
              0.2222222222222222,
              "#7201a8"
             ],
             [
              0.3333333333333333,
              "#9c179e"
             ],
             [
              0.4444444444444444,
              "#bd3786"
             ],
             [
              0.5555555555555556,
              "#d8576b"
             ],
             [
              0.6666666666666666,
              "#ed7953"
             ],
             [
              0.7777777777777778,
              "#fb9f3a"
             ],
             [
              0.8888888888888888,
              "#fdca26"
             ],
             [
              1,
              "#f0f921"
             ]
            ],
            "type": "histogram2dcontour"
           }
          ],
          "mesh3d": [
           {
            "colorbar": {
             "outlinewidth": 0,
             "ticks": ""
            },
            "type": "mesh3d"
           }
          ],
          "parcoords": [
           {
            "line": {
             "colorbar": {
              "outlinewidth": 0,
              "ticks": ""
             }
            },
            "type": "parcoords"
           }
          ],
          "pie": [
           {
            "automargin": true,
            "type": "pie"
           }
          ],
          "scatter": [
           {
            "marker": {
             "colorbar": {
              "outlinewidth": 0,
              "ticks": ""
             }
            },
            "type": "scatter"
           }
          ],
          "scatter3d": [
           {
            "line": {
             "colorbar": {
              "outlinewidth": 0,
              "ticks": ""
             }
            },
            "marker": {
             "colorbar": {
              "outlinewidth": 0,
              "ticks": ""
             }
            },
            "type": "scatter3d"
           }
          ],
          "scattercarpet": [
           {
            "marker": {
             "colorbar": {
              "outlinewidth": 0,
              "ticks": ""
             }
            },
            "type": "scattercarpet"
           }
          ],
          "scattergeo": [
           {
            "marker": {
             "colorbar": {
              "outlinewidth": 0,
              "ticks": ""
             }
            },
            "type": "scattergeo"
           }
          ],
          "scattergl": [
           {
            "marker": {
             "colorbar": {
              "outlinewidth": 0,
              "ticks": ""
             }
            },
            "type": "scattergl"
           }
          ],
          "scattermapbox": [
           {
            "marker": {
             "colorbar": {
              "outlinewidth": 0,
              "ticks": ""
             }
            },
            "type": "scattermapbox"
           }
          ],
          "scatterpolar": [
           {
            "marker": {
             "colorbar": {
              "outlinewidth": 0,
              "ticks": ""
             }
            },
            "type": "scatterpolar"
           }
          ],
          "scatterpolargl": [
           {
            "marker": {
             "colorbar": {
              "outlinewidth": 0,
              "ticks": ""
             }
            },
            "type": "scatterpolargl"
           }
          ],
          "scatterternary": [
           {
            "marker": {
             "colorbar": {
              "outlinewidth": 0,
              "ticks": ""
             }
            },
            "type": "scatterternary"
           }
          ],
          "surface": [
           {
            "colorbar": {
             "outlinewidth": 0,
             "ticks": ""
            },
            "colorscale": [
             [
              0,
              "#0d0887"
             ],
             [
              0.1111111111111111,
              "#46039f"
             ],
             [
              0.2222222222222222,
              "#7201a8"
             ],
             [
              0.3333333333333333,
              "#9c179e"
             ],
             [
              0.4444444444444444,
              "#bd3786"
             ],
             [
              0.5555555555555556,
              "#d8576b"
             ],
             [
              0.6666666666666666,
              "#ed7953"
             ],
             [
              0.7777777777777778,
              "#fb9f3a"
             ],
             [
              0.8888888888888888,
              "#fdca26"
             ],
             [
              1,
              "#f0f921"
             ]
            ],
            "type": "surface"
           }
          ],
          "table": [
           {
            "cells": {
             "fill": {
              "color": "#EBF0F8"
             },
             "line": {
              "color": "white"
             }
            },
            "header": {
             "fill": {
              "color": "#C8D4E3"
             },
             "line": {
              "color": "white"
             }
            },
            "type": "table"
           }
          ]
         },
         "layout": {
          "annotationdefaults": {
           "arrowcolor": "#2a3f5f",
           "arrowhead": 0,
           "arrowwidth": 1
          },
          "autotypenumbers": "strict",
          "coloraxis": {
           "colorbar": {
            "outlinewidth": 0,
            "ticks": ""
           }
          },
          "colorscale": {
           "diverging": [
            [
             0,
             "#8e0152"
            ],
            [
             0.1,
             "#c51b7d"
            ],
            [
             0.2,
             "#de77ae"
            ],
            [
             0.3,
             "#f1b6da"
            ],
            [
             0.4,
             "#fde0ef"
            ],
            [
             0.5,
             "#f7f7f7"
            ],
            [
             0.6,
             "#e6f5d0"
            ],
            [
             0.7,
             "#b8e186"
            ],
            [
             0.8,
             "#7fbc41"
            ],
            [
             0.9,
             "#4d9221"
            ],
            [
             1,
             "#276419"
            ]
           ],
           "sequential": [
            [
             0,
             "#0d0887"
            ],
            [
             0.1111111111111111,
             "#46039f"
            ],
            [
             0.2222222222222222,
             "#7201a8"
            ],
            [
             0.3333333333333333,
             "#9c179e"
            ],
            [
             0.4444444444444444,
             "#bd3786"
            ],
            [
             0.5555555555555556,
             "#d8576b"
            ],
            [
             0.6666666666666666,
             "#ed7953"
            ],
            [
             0.7777777777777778,
             "#fb9f3a"
            ],
            [
             0.8888888888888888,
             "#fdca26"
            ],
            [
             1,
             "#f0f921"
            ]
           ],
           "sequentialminus": [
            [
             0,
             "#0d0887"
            ],
            [
             0.1111111111111111,
             "#46039f"
            ],
            [
             0.2222222222222222,
             "#7201a8"
            ],
            [
             0.3333333333333333,
             "#9c179e"
            ],
            [
             0.4444444444444444,
             "#bd3786"
            ],
            [
             0.5555555555555556,
             "#d8576b"
            ],
            [
             0.6666666666666666,
             "#ed7953"
            ],
            [
             0.7777777777777778,
             "#fb9f3a"
            ],
            [
             0.8888888888888888,
             "#fdca26"
            ],
            [
             1,
             "#f0f921"
            ]
           ]
          },
          "colorway": [
           "#636efa",
           "#EF553B",
           "#00cc96",
           "#ab63fa",
           "#FFA15A",
           "#19d3f3",
           "#FF6692",
           "#B6E880",
           "#FF97FF",
           "#FECB52"
          ],
          "font": {
           "color": "#2a3f5f"
          },
          "geo": {
           "bgcolor": "white",
           "lakecolor": "white",
           "landcolor": "#E5ECF6",
           "showlakes": true,
           "showland": true,
           "subunitcolor": "white"
          },
          "hoverlabel": {
           "align": "left"
          },
          "hovermode": "closest",
          "mapbox": {
           "style": "light"
          },
          "paper_bgcolor": "white",
          "plot_bgcolor": "#E5ECF6",
          "polar": {
           "angularaxis": {
            "gridcolor": "white",
            "linecolor": "white",
            "ticks": ""
           },
           "bgcolor": "#E5ECF6",
           "radialaxis": {
            "gridcolor": "white",
            "linecolor": "white",
            "ticks": ""
           }
          },
          "scene": {
           "xaxis": {
            "backgroundcolor": "#E5ECF6",
            "gridcolor": "white",
            "gridwidth": 2,
            "linecolor": "white",
            "showbackground": true,
            "ticks": "",
            "zerolinecolor": "white"
           },
           "yaxis": {
            "backgroundcolor": "#E5ECF6",
            "gridcolor": "white",
            "gridwidth": 2,
            "linecolor": "white",
            "showbackground": true,
            "ticks": "",
            "zerolinecolor": "white"
           },
           "zaxis": {
            "backgroundcolor": "#E5ECF6",
            "gridcolor": "white",
            "gridwidth": 2,
            "linecolor": "white",
            "showbackground": true,
            "ticks": "",
            "zerolinecolor": "white"
           }
          },
          "shapedefaults": {
           "line": {
            "color": "#2a3f5f"
           }
          },
          "ternary": {
           "aaxis": {
            "gridcolor": "white",
            "linecolor": "white",
            "ticks": ""
           },
           "baxis": {
            "gridcolor": "white",
            "linecolor": "white",
            "ticks": ""
           },
           "bgcolor": "#E5ECF6",
           "caxis": {
            "gridcolor": "white",
            "linecolor": "white",
            "ticks": ""
           }
          },
          "title": {
           "x": 0.05
          },
          "xaxis": {
           "automargin": true,
           "gridcolor": "white",
           "linecolor": "white",
           "ticks": "",
           "title": {
            "standoff": 15
           },
           "zerolinecolor": "white",
           "zerolinewidth": 2
          },
          "yaxis": {
           "automargin": true,
           "gridcolor": "white",
           "linecolor": "white",
           "ticks": "",
           "title": {
            "standoff": 15
           },
           "zerolinecolor": "white",
           "zerolinewidth": 2
          }
         }
        },
        "title": {
         "text": "Number of Requests per Zipcode per Year"
        },
        "updatemenus": [
         {
          "buttons": [
           {
            "args": [
             null,
             {
              "frame": {
               "duration": 500,
               "redraw": true
              },
              "fromcurrent": true,
              "mode": "immediate",
              "transition": {
               "duration": 500,
               "easing": "linear"
              }
             }
            ],
            "label": "&#9654;",
            "method": "animate"
           },
           {
            "args": [
             [
              null
             ],
             {
              "frame": {
               "duration": 0,
               "redraw": true
              },
              "fromcurrent": true,
              "mode": "immediate",
              "transition": {
               "duration": 0,
               "easing": "linear"
              }
             }
            ],
            "label": "&#9724;",
            "method": "animate"
           }
          ],
          "direction": "left",
          "pad": {
           "r": 10,
           "t": 70
          },
          "showactive": false,
          "type": "buttons",
          "x": 0.1,
          "xanchor": "right",
          "y": 0,
          "yanchor": "top"
         }
        ]
       }
      }
     },
     "metadata": {},
     "output_type": "display_data"
    }
   ],
   "source": [
    "us_zip = pgeocode.Nominatim('US')\n",
    "with open('311_req_new_v3.csv') as file:\n",
    "    zipcodes = []\n",
    "    for i,f in enumerate(file):\n",
    "        if i != 0:  \n",
    "            if f.strip().split(',')[7] in zipcodes:\n",
    "                pass\n",
    "            else:\n",
    "                zipcodes.append(f.strip().split(',')[7])\n",
    "\n",
    "zip_dict = {}\n",
    "for zipcode in zipcodes:\n",
    "    zip_dict[zipcode] = [float(us_zip.query_postal_code(zipcode)['latitude']),float(us_zip.query_postal_code(zipcode)['longitude'])]\n",
    "\n",
    "\n",
    "\n",
    "\n",
    "df = pd.read_sql_query(\"\"\"select cast(strftime('%Y',opendate) as integer) as year, address.zipcode,  count(*) as no_of_requests from casedetails  join address on casedetails.addressid = address.addressid group by year, zipcode order by year, zipcode \"\"\", norm_conn)\n",
    "lat_list = lambda l : zip_dict[str(l)][0]\n",
    "lon_list = lambda l : zip_dict[str(l)][1]\n",
    "df['latitude'] = pd.Series(list(map(lat_list, list(df.zipcode))))\n",
    "df['longitude'] = pd.Series(list(map(lon_list, list(df.zipcode))))\n",
    "fig = px.density_mapbox(df, lat= 'latitude', lon = 'longitude', z= 'no_of_requests', zoom= 10, animation_frame='year')\n",
    "fig.update_layout(mapbox_style=\"open-street-map\", title = 'Number of Requests per Zipcode per Year')\n",
    "\n",
    "fig.show() \n"
   ]
  },
  {
   "cell_type": "markdown",
   "id": "894951a7",
   "metadata": {},
   "source": [
    "### Plotting Year on Year Case Increase"
   ]
  },
  {
   "cell_type": "code",
   "execution_count": 117,
   "id": "dff3b640",
   "metadata": {},
   "outputs": [
    {
     "data": {
      "image/png": "[encoded data removed]",
      "text/plain": [
       "<Figure size 432x288 with 1 Axes>"
      ]
     },
     "metadata": {
      "needs_background": "light"
     },
     "output_type": "display_data"
    }
   ],
   "source": [
    "norm_conn = create_connection('311_normalized.db')\n",
    "sql = \"\"\"select cast(strftime('%Y',opendate) as integer) as Year,count(opendate) as No_of_cases \n",
    "        from casedetails group by year\n",
    "\"\"\"\n",
    "data = pd.read_sql(sql, norm_conn)\n",
    "plt.plot(data.Year, data.No_of_cases)\n",
    "plt.title('Year on Year Case Increase')\n",
    "plt.xlabel('Year')\n",
    "plt.ylabel('No of Cases')\n",
    "plt.show()\n"
   ]
  },
  {
   "cell_type": "markdown",
   "id": "38279a15",
   "metadata": {},
   "source": [
    "### Percentage of total number of Cases created per Department"
   ]
  },
  {
   "cell_type": "code",
   "execution_count": 118,
   "id": "1e3f6d5b",
   "metadata": {},
   "outputs": [
    {
     "data": {
      "image/png": "[encoded data removed]",
      "text/plain": [
       "<Figure size 432x288 with 1 Axes>"
      ]
     },
     "metadata": {},
     "output_type": "display_data"
    }
   ],
   "source": [
    "import numpy as np\n",
    "norm_conn = create_connection('311_normalized.db')\n",
    "sql = \"\"\"select department.department as Department,count(opendate) as No_of_cases from casedetails\n",
    "            join department on department.departmentid = casedetails.departmentid group by department\n",
    "\"\"\"\n",
    "data = execute_sql_statement(sql, norm_conn)\n",
    "dep = []\n",
    "no_of_cases = []\n",
    "for i in data:\n",
    "    dep.append(i[0])\n",
    "    no_of_cases.append(i[1])\n",
    "    \n",
    "plt.pie(no_of_cases,rotatelabels = True)\n",
    "lab = [f'{x} {np.round(y/sum(no_of_cases)*100,3)}%' for x,y in zip(dep,no_of_cases)]\n",
    "plt.legend(labels=lab,\n",
    "           bbox_to_anchor=(1,1))\n",
    "plt.show()"
   ]
  },
  {
   "cell_type": "markdown",
   "id": "6764c53d",
   "metadata": {},
   "source": [
    "### Plotting Top 20 CaseTypes for Department of Public Works"
   ]
  },
  {
   "cell_type": "code",
   "execution_count": 119,
   "id": "f64a2790",
   "metadata": {},
   "outputs": [
    {
     "data": {
      "image/png": "[encoded data removed]",
      "text/plain": [
       "<Figure size 432x288 with 1 Axes>"
      ]
     },
     "metadata": {
      "needs_background": "light"
     },
     "output_type": "display_data"
    }
   ],
   "source": [
    "sql = \"\"\"select department,casetype.type as Casetype,count(casetype.typeid) as Count  from casedetails join department on department.departmentid=casedetails.departmentid\n",
    "         join casetype on casetype.typeid = casedetails.typeid where department = 'Dept of Public Works' group by department,\n",
    "         casetype.type order by Count desc limit 20\n",
    "\"\"\"\n",
    "data = pd.read_sql(sql, norm_conn)\n",
    "plt.bar(data.Casetype, data.Count)\n",
    "plt.title(\"Top 20 CaseTypes for Department of Public Works\")\n",
    "plt.xticks(rotation=90)\n",
    "plt.show()"
   ]
  },
  {
   "cell_type": "markdown",
   "id": "b2e0ef7b",
   "metadata": {},
   "source": [
    "#### Plotting No of requests per CaseType category."
   ]
  },
  {
   "cell_type": "code",
   "execution_count": 122,
   "id": "9d947b2f",
   "metadata": {},
   "outputs": [
    {
     "data": {
      "text/html": [
       "<div>\n",
       "<style scoped>\n",
       "    .dataframe tbody tr th:only-of-type {\n",
       "        vertical-align: middle;\n",
       "    }\n",
       "\n",
       "    .dataframe tbody tr th {\n",
       "        vertical-align: top;\n",
       "    }\n",
       "\n",
       "    .dataframe thead th {\n",
       "        text-align: right;\n",
       "    }\n",
       "</style>\n",
       "<table border=\"1\" class=\"dataframe\">\n",
       "  <thead>\n",
       "    <tr style=\"text-align: right;\">\n",
       "      <th></th>\n",
       "      <th>Type</th>\n",
       "      <th>RequestCount</th>\n",
       "    </tr>\n",
       "  </thead>\n",
       "  <tbody>\n",
       "    <tr>\n",
       "      <th>0</th>\n",
       "      <td>Housing Violations (Req_Serv)</td>\n",
       "      <td>149975</td>\n",
       "    </tr>\n",
       "    <tr>\n",
       "      <th>1</th>\n",
       "      <td>Totes Replace (Req_Serv)</td>\n",
       "      <td>116877</td>\n",
       "    </tr>\n",
       "    <tr>\n",
       "      <th>2</th>\n",
       "      <td>Garbage Missed Pick Up (Req_Serv)</td>\n",
       "      <td>42008</td>\n",
       "    </tr>\n",
       "    <tr>\n",
       "      <th>3</th>\n",
       "      <td>Pot Hole (Req_Serv)</td>\n",
       "      <td>39246</td>\n",
       "    </tr>\n",
       "    <tr>\n",
       "      <th>4</th>\n",
       "      <td>Police Issue (Req_Serv)</td>\n",
       "      <td>28775</td>\n",
       "    </tr>\n",
       "  </tbody>\n",
       "</table>\n",
       "</div>"
      ],
      "text/plain": [
       "                                Type  RequestCount\n",
       "0      Housing Violations (Req_Serv)        149975\n",
       "1           Totes Replace (Req_Serv)        116877\n",
       "2  Garbage Missed Pick Up (Req_Serv)         42008\n",
       "3                Pot Hole (Req_Serv)         39246\n",
       "4            Police Issue (Req_Serv)         28775"
      ]
     },
     "execution_count": 122,
     "metadata": {},
     "output_type": "execute_result"
    }
   ],
   "source": [
    "df = pd.read_sql_query(\"\"\"SELECT ct.Type, Count(*) AS RequestCount \n",
    "                  FROM CaseDetails c \n",
    "                  JOIN CaseType ct \n",
    "                  ON ct.TypeID = c.TypeID\n",
    "                  GROUP BY ct.Type \n",
    "                  ORDER BY RequestCount DESC;\"\"\", conn)\n",
    "\n",
    "df.head()"
   ]
  },
  {
   "cell_type": "code",
   "execution_count": 123,
   "id": "a14b6595",
   "metadata": {},
   "outputs": [
    {
     "data": {
      "application/vnd.plotly.v1+json": {
       "config": {
        "plotlyServerURL": "https://plot.ly"
       },
       "data": [
        {
         "alignmentgroup": "True",
         "hovertemplate": "RequestCount=%{marker.color}<br>Type=%{y}<extra></extra>",
         "legendgroup": "",
         "marker": {
          "color": [
           149975,
           116877,
           42008,
           39246,
           28775,
           28058,
           26520,
           25927,
           25268,
           21107,
           19929,
           19628,
           18194,
           16500,
           15131,
           14473,
           14287,
           12405,
           12292,
           11488
          ],
          "coloraxis": "coloraxis",
          "pattern": {
           "shape": ""
          }
         },
         "name": "",
         "offsetgroup": "",
         "orientation": "h",
         "showlegend": false,
         "textposition": "auto",
         "texttemplate": "%{x:.2s}",
         "type": "bar",
         "x": [
          149975,
          116877,
          42008,
          39246,
          28775,
          28058,
          26520,
          25927,
          25268,
          21107,
          19929,
          19628,
          18194,
          16500,
          15131,
          14473,
          14287,
          12405,
          12292,
          11488
         ],
         "xaxis": "x",
         "y": [
          "Housing Violations (Req_Serv)",
          "Totes Replace (Req_Serv)",
          "Garbage Missed Pick Up (Req_Serv)",
          "Pot Hole (Req_Serv)",
          "Police Issue (Req_Serv)",
          "Rodents (Req_Serv)",
          "Streetlights (Req_Serv)",
          "Recycling Missed Pick Up (Req_Serv)",
          "Parking Issues (Req_Serv)",
          "Street Snow Plowing (Req_Serv)",
          "Pest (Req_Serv)",
          "PW Vacant Lot (Req_Serv)",
          "Sidewalks (Req_Serv)",
          "Missed Pickup 2_Piece Large Trash (Req_Serv)",
          "Totes Combo (Req_Serv)",
          "Leaves / Lawn Debris (Req_Serv)",
          "Animals (Req_Serv)",
          "Tree Trimming Request (Req_Serv)",
          "Recycling Tote Replace (Req_Serv)",
          "Pick and Pay (Req_Serv)"
         ],
         "yaxis": "y"
        }
       ],
       "layout": {
        "barmode": "relative",
        "coloraxis": {
         "colorbar": {
          "title": {
           "text": "RequestCount"
          }
         },
         "colorscale": [
          [
           0,
           "#0d0887"
          ],
          [
           0.1111111111111111,
           "#46039f"
          ],
          [
           0.2222222222222222,
           "#7201a8"
          ],
          [
           0.3333333333333333,
           "#9c179e"
          ],
          [
           0.4444444444444444,
           "#bd3786"
          ],
          [
           0.5555555555555556,
           "#d8576b"
          ],
          [
           0.6666666666666666,
           "#ed7953"
          ],
          [
           0.7777777777777778,
           "#fb9f3a"
          ],
          [
           0.8888888888888888,
           "#fdca26"
          ],
          [
           1,
           "#f0f921"
          ]
         ]
        },
        "height": 600,
        "legend": {
         "tracegroupgap": 0
        },
        "template": {
         "data": {
          "bar": [
           {
            "error_x": {
             "color": "#2a3f5f"
            },
            "error_y": {
             "color": "#2a3f5f"
            },
            "marker": {
             "line": {
              "color": "#E5ECF6",
              "width": 0.5
             },
             "pattern": {
              "fillmode": "overlay",
              "size": 10,
              "solidity": 0.2
             }
            },
            "type": "bar"
           }
          ],
          "barpolar": [
           {
            "marker": {
             "line": {
              "color": "#E5ECF6",
              "width": 0.5
             },
             "pattern": {
              "fillmode": "overlay",
              "size": 10,
              "solidity": 0.2
             }
            },
            "type": "barpolar"
           }
          ],
          "carpet": [
           {
            "aaxis": {
             "endlinecolor": "#2a3f5f",
             "gridcolor": "white",
             "linecolor": "white",
             "minorgridcolor": "white",
             "startlinecolor": "#2a3f5f"
            },
            "baxis": {
             "endlinecolor": "#2a3f5f",
             "gridcolor": "white",
             "linecolor": "white",
             "minorgridcolor": "white",
             "startlinecolor": "#2a3f5f"
            },
            "type": "carpet"
           }
          ],
          "choropleth": [
           {
            "colorbar": {
             "outlinewidth": 0,
             "ticks": ""
            },
            "type": "choropleth"
           }
          ],
          "contour": [
           {
            "colorbar": {
             "outlinewidth": 0,
             "ticks": ""
            },
            "colorscale": [
             [
              0,
              "#0d0887"
             ],
             [
              0.1111111111111111,
              "#46039f"
             ],
             [
              0.2222222222222222,
              "#7201a8"
             ],
             [
              0.3333333333333333,
              "#9c179e"
             ],
             [
              0.4444444444444444,
              "#bd3786"
             ],
             [
              0.5555555555555556,
              "#d8576b"
             ],
             [
              0.6666666666666666,
              "#ed7953"
             ],
             [
              0.7777777777777778,
              "#fb9f3a"
             ],
             [
              0.8888888888888888,
              "#fdca26"
             ],
             [
              1,
              "#f0f921"
             ]
            ],
            "type": "contour"
           }
          ],
          "contourcarpet": [
           {
            "colorbar": {
             "outlinewidth": 0,
             "ticks": ""
            },
            "type": "contourcarpet"
           }
          ],
          "heatmap": [
           {
            "colorbar": {
             "outlinewidth": 0,
             "ticks": ""
            },
            "colorscale": [
             [
              0,
              "#0d0887"
             ],
             [
              0.1111111111111111,
              "#46039f"
             ],
             [
              0.2222222222222222,
              "#7201a8"
             ],
             [
              0.3333333333333333,
              "#9c179e"
             ],
             [
              0.4444444444444444,
              "#bd3786"
             ],
             [
              0.5555555555555556,
              "#d8576b"
             ],
             [
              0.6666666666666666,
              "#ed7953"
             ],
             [
              0.7777777777777778,
              "#fb9f3a"
             ],
             [
              0.8888888888888888,
              "#fdca26"
             ],
             [
              1,
              "#f0f921"
             ]
            ],
            "type": "heatmap"
           }
          ],
          "heatmapgl": [
           {
            "colorbar": {
             "outlinewidth": 0,
             "ticks": ""
            },
            "colorscale": [
             [
              0,
              "#0d0887"
             ],
             [
              0.1111111111111111,
              "#46039f"
             ],
             [
              0.2222222222222222,
              "#7201a8"
             ],
             [
              0.3333333333333333,
              "#9c179e"
             ],
             [
              0.4444444444444444,
              "#bd3786"
             ],
             [
              0.5555555555555556,
              "#d8576b"
             ],
             [
              0.6666666666666666,
              "#ed7953"
             ],
             [
              0.7777777777777778,
              "#fb9f3a"
             ],
             [
              0.8888888888888888,
              "#fdca26"
             ],
             [
              1,
              "#f0f921"
             ]
            ],
            "type": "heatmapgl"
           }
          ],
          "histogram": [
           {
            "marker": {
             "pattern": {
              "fillmode": "overlay",
              "size": 10,
              "solidity": 0.2
             }
            },
            "type": "histogram"
           }
          ],
          "histogram2d": [
           {
            "colorbar": {
             "outlinewidth": 0,
             "ticks": ""
            },
            "colorscale": [
             [
              0,
              "#0d0887"
             ],
             [
              0.1111111111111111,
              "#46039f"
             ],
             [
              0.2222222222222222,
              "#7201a8"
             ],
             [
              0.3333333333333333,
              "#9c179e"
             ],
             [
              0.4444444444444444,
              "#bd3786"
             ],
             [
              0.5555555555555556,
              "#d8576b"
             ],
             [
              0.6666666666666666,
              "#ed7953"
             ],
             [
              0.7777777777777778,
              "#fb9f3a"
             ],
             [
              0.8888888888888888,
              "#fdca26"
             ],
             [
              1,
              "#f0f921"
             ]
            ],
            "type": "histogram2d"
           }
          ],
          "histogram2dcontour": [
           {
            "colorbar": {
             "outlinewidth": 0,
             "ticks": ""
            },
            "colorscale": [
             [
              0,
              "#0d0887"
             ],
             [
              0.1111111111111111,
              "#46039f"
             ],
             [
              0.2222222222222222,
              "#7201a8"
             ],
             [
              0.3333333333333333,
              "#9c179e"
             ],
             [
              0.4444444444444444,
              "#bd3786"
             ],
             [
              0.5555555555555556,
              "#d8576b"
             ],
             [
              0.6666666666666666,
              "#ed7953"
             ],
             [
              0.7777777777777778,
              "#fb9f3a"
             ],
             [
              0.8888888888888888,
              "#fdca26"
             ],
             [
              1,
              "#f0f921"
             ]
            ],
            "type": "histogram2dcontour"
           }
          ],
          "mesh3d": [
           {
            "colorbar": {
             "outlinewidth": 0,
             "ticks": ""
            },
            "type": "mesh3d"
           }
          ],
          "parcoords": [
           {
            "line": {
             "colorbar": {
              "outlinewidth": 0,
              "ticks": ""
             }
            },
            "type": "parcoords"
           }
          ],
          "pie": [
           {
            "automargin": true,
            "type": "pie"
           }
          ],
          "scatter": [
           {
            "marker": {
             "colorbar": {
              "outlinewidth": 0,
              "ticks": ""
             }
            },
            "type": "scatter"
           }
          ],
          "scatter3d": [
           {
            "line": {
             "colorbar": {
              "outlinewidth": 0,
              "ticks": ""
             }
            },
            "marker": {
             "colorbar": {
              "outlinewidth": 0,
              "ticks": ""
             }
            },
            "type": "scatter3d"
           }
          ],
          "scattercarpet": [
           {
            "marker": {
             "colorbar": {
              "outlinewidth": 0,
              "ticks": ""
             }
            },
            "type": "scattercarpet"
           }
          ],
          "scattergeo": [
           {
            "marker": {
             "colorbar": {
              "outlinewidth": 0,
              "ticks": ""
             }
            },
            "type": "scattergeo"
           }
          ],
          "scattergl": [
           {
            "marker": {
             "colorbar": {
              "outlinewidth": 0,
              "ticks": ""
             }
            },
            "type": "scattergl"
           }
          ],
          "scattermapbox": [
           {
            "marker": {
             "colorbar": {
              "outlinewidth": 0,
              "ticks": ""
             }
            },
            "type": "scattermapbox"
           }
          ],
          "scatterpolar": [
           {
            "marker": {
             "colorbar": {
              "outlinewidth": 0,
              "ticks": ""
             }
            },
            "type": "scatterpolar"
           }
          ],
          "scatterpolargl": [
           {
            "marker": {
             "colorbar": {
              "outlinewidth": 0,
              "ticks": ""
             }
            },
            "type": "scatterpolargl"
           }
          ],
          "scatterternary": [
           {
            "marker": {
             "colorbar": {
              "outlinewidth": 0,
              "ticks": ""
             }
            },
            "type": "scatterternary"
           }
          ],
          "surface": [
           {
            "colorbar": {
             "outlinewidth": 0,
             "ticks": ""
            },
            "colorscale": [
             [
              0,
              "#0d0887"
             ],
             [
              0.1111111111111111,
              "#46039f"
             ],
             [
              0.2222222222222222,
              "#7201a8"
             ],
             [
              0.3333333333333333,
              "#9c179e"
             ],
             [
              0.4444444444444444,
              "#bd3786"
             ],
             [
              0.5555555555555556,
              "#d8576b"
             ],
             [
              0.6666666666666666,
              "#ed7953"
             ],
             [
              0.7777777777777778,
              "#fb9f3a"
             ],
             [
              0.8888888888888888,
              "#fdca26"
             ],
             [
              1,
              "#f0f921"
             ]
            ],
            "type": "surface"
           }
          ],
          "table": [
           {
            "cells": {
             "fill": {
              "color": "#EBF0F8"
             },
             "line": {
              "color": "white"
             }
            },
            "header": {
             "fill": {
              "color": "#C8D4E3"
             },
             "line": {
              "color": "white"
             }
            },
            "type": "table"
           }
          ]
         },
         "layout": {
          "annotationdefaults": {
           "arrowcolor": "#2a3f5f",
           "arrowhead": 0,
           "arrowwidth": 1
          },
          "autotypenumbers": "strict",
          "coloraxis": {
           "colorbar": {
            "outlinewidth": 0,
            "ticks": ""
           }
          },
          "colorscale": {
           "diverging": [
            [
             0,
             "#8e0152"
            ],
            [
             0.1,
             "#c51b7d"
            ],
            [
             0.2,
             "#de77ae"
            ],
            [
             0.3,
             "#f1b6da"
            ],
            [
             0.4,
             "#fde0ef"
            ],
            [
             0.5,
             "#f7f7f7"
            ],
            [
             0.6,
             "#e6f5d0"
            ],
            [
             0.7,
             "#b8e186"
            ],
            [
             0.8,
             "#7fbc41"
            ],
            [
             0.9,
             "#4d9221"
            ],
            [
             1,
             "#276419"
            ]
           ],
           "sequential": [
            [
             0,
             "#0d0887"
            ],
            [
             0.1111111111111111,
             "#46039f"
            ],
            [
             0.2222222222222222,
             "#7201a8"
            ],
            [
             0.3333333333333333,
             "#9c179e"
            ],
            [
             0.4444444444444444,
             "#bd3786"
            ],
            [
             0.5555555555555556,
             "#d8576b"
            ],
            [
             0.6666666666666666,
             "#ed7953"
            ],
            [
             0.7777777777777778,
             "#fb9f3a"
            ],
            [
             0.8888888888888888,
             "#fdca26"
            ],
            [
             1,
             "#f0f921"
            ]
           ],
           "sequentialminus": [
            [
             0,
             "#0d0887"
            ],
            [
             0.1111111111111111,
             "#46039f"
            ],
            [
             0.2222222222222222,
             "#7201a8"
            ],
            [
             0.3333333333333333,
             "#9c179e"
            ],
            [
             0.4444444444444444,
             "#bd3786"
            ],
            [
             0.5555555555555556,
             "#d8576b"
            ],
            [
             0.6666666666666666,
             "#ed7953"
            ],
            [
             0.7777777777777778,
             "#fb9f3a"
            ],
            [
             0.8888888888888888,
             "#fdca26"
            ],
            [
             1,
             "#f0f921"
            ]
           ]
          },
          "colorway": [
           "#636efa",
           "#EF553B",
           "#00cc96",
           "#ab63fa",
           "#FFA15A",
           "#19d3f3",
           "#FF6692",
           "#B6E880",
           "#FF97FF",
           "#FECB52"
          ],
          "font": {
           "color": "#2a3f5f"
          },
          "geo": {
           "bgcolor": "white",
           "lakecolor": "white",
           "landcolor": "#E5ECF6",
           "showlakes": true,
           "showland": true,
           "subunitcolor": "white"
          },
          "hoverlabel": {
           "align": "left"
          },
          "hovermode": "closest",
          "mapbox": {
           "style": "light"
          },
          "paper_bgcolor": "white",
          "plot_bgcolor": "#E5ECF6",
          "polar": {
           "angularaxis": {
            "gridcolor": "white",
            "linecolor": "white",
            "ticks": ""
           },
           "bgcolor": "#E5ECF6",
           "radialaxis": {
            "gridcolor": "white",
            "linecolor": "white",
            "ticks": ""
           }
          },
          "scene": {
           "xaxis": {
            "backgroundcolor": "#E5ECF6",
            "gridcolor": "white",
            "gridwidth": 2,
            "linecolor": "white",
            "showbackground": true,
            "ticks": "",
            "zerolinecolor": "white"
           },
           "yaxis": {
            "backgroundcolor": "#E5ECF6",
            "gridcolor": "white",
            "gridwidth": 2,
            "linecolor": "white",
            "showbackground": true,
            "ticks": "",
            "zerolinecolor": "white"
           },
           "zaxis": {
            "backgroundcolor": "#E5ECF6",
            "gridcolor": "white",
            "gridwidth": 2,
            "linecolor": "white",
            "showbackground": true,
            "ticks": "",
            "zerolinecolor": "white"
           }
          },
          "shapedefaults": {
           "line": {
            "color": "#2a3f5f"
           }
          },
          "ternary": {
           "aaxis": {
            "gridcolor": "white",
            "linecolor": "white",
            "ticks": ""
           },
           "baxis": {
            "gridcolor": "white",
            "linecolor": "white",
            "ticks": ""
           },
           "bgcolor": "#E5ECF6",
           "caxis": {
            "gridcolor": "white",
            "linecolor": "white",
            "ticks": ""
           }
          },
          "title": {
           "x": 0.05
          },
          "xaxis": {
           "automargin": true,
           "gridcolor": "white",
           "linecolor": "white",
           "ticks": "",
           "title": {
            "standoff": 15
           },
           "zerolinecolor": "white",
           "zerolinewidth": 2
          },
          "yaxis": {
           "automargin": true,
           "gridcolor": "white",
           "linecolor": "white",
           "ticks": "",
           "title": {
            "standoff": 15
           },
           "zerolinecolor": "white",
           "zerolinewidth": 2
          }
         }
        },
        "title": {
         "text": "Number of Requests By Case Type category"
        },
        "width": 1200,
        "xaxis": {
         "anchor": "y",
         "domain": [
          0,
          1
         ],
         "tickangle": -45,
         "title": {
          "text": "RequestCount"
         }
        },
        "yaxis": {
         "anchor": "x",
         "domain": [
          0,
          1
         ],
         "title": {
          "text": "Type"
         }
        }
       }
      }
     },
     "metadata": {},
     "output_type": "display_data"
    }
   ],
   "source": [
    "fig = px.bar(df[0:20], x = 'RequestCount', y = 'Type',text_auto= '.2s', title = 'Number of Requests By Case Type category', color = 'RequestCount')\n",
    "fig.update_layout(width = 1200, height = 600, xaxis_tickangle=-45)\n",
    "fig.show()"
   ]
  },
  {
   "cell_type": "markdown",
   "id": "786c7e3f",
   "metadata": {},
   "source": [
    "#### Plotting No of Requests per Neighborhood Type"
   ]
  },
  {
   "cell_type": "code",
   "execution_count": 126,
   "id": "40142052",
   "metadata": {},
   "outputs": [
    {
     "data": {
      "text/html": [
       "<div>\n",
       "<style scoped>\n",
       "    .dataframe tbody tr th:only-of-type {\n",
       "        vertical-align: middle;\n",
       "    }\n",
       "\n",
       "    .dataframe tbody tr th {\n",
       "        vertical-align: top;\n",
       "    }\n",
       "\n",
       "    .dataframe thead th {\n",
       "        text-align: right;\n",
       "    }\n",
       "</style>\n",
       "<table border=\"1\" class=\"dataframe\">\n",
       "  <thead>\n",
       "    <tr style=\"text-align: right;\">\n",
       "      <th></th>\n",
       "      <th>neighbourhood</th>\n",
       "      <th>RequestCount</th>\n",
       "    </tr>\n",
       "  </thead>\n",
       "  <tbody>\n",
       "    <tr>\n",
       "      <th>0</th>\n",
       "      <td>Allentown</td>\n",
       "      <td>15598</td>\n",
       "    </tr>\n",
       "    <tr>\n",
       "      <th>1</th>\n",
       "      <td>Black Rock</td>\n",
       "      <td>14498</td>\n",
       "    </tr>\n",
       "    <tr>\n",
       "      <th>2</th>\n",
       "      <td>Broadway Fillmore</td>\n",
       "      <td>57497</td>\n",
       "    </tr>\n",
       "    <tr>\n",
       "      <th>3</th>\n",
       "      <td>Central</td>\n",
       "      <td>15267</td>\n",
       "    </tr>\n",
       "    <tr>\n",
       "      <th>4</th>\n",
       "      <td>Central Park</td>\n",
       "      <td>17007</td>\n",
       "    </tr>\n",
       "  </tbody>\n",
       "</table>\n",
       "</div>"
      ],
      "text/plain": [
       "       neighbourhood  RequestCount\n",
       "0          Allentown         15598\n",
       "1         Black Rock         14498\n",
       "2  Broadway Fillmore         57497\n",
       "3            Central         15267\n",
       "4       Central Park         17007"
      ]
     },
     "execution_count": 126,
     "metadata": {},
     "output_type": "execute_result"
    }
   ],
   "source": [
    "df = pd.read_sql_query(\"\"\"SELECT a.Neighbourhood, Count(*) AS RequestCount \n",
    "                  FROM CaseDetails c \n",
    "                  JOIN Address a \n",
    "                  ON a.AddressID = c.AddressID\n",
    "                  GROUP BY a.Neighbourhood;\"\"\", conn)\n",
    "\n",
    "df.head()"
   ]
  },
  {
   "cell_type": "code",
   "execution_count": 127,
   "id": "96502eb5",
   "metadata": {},
   "outputs": [
    {
     "data": {
      "application/vnd.plotly.v1+json": {
       "config": {
        "plotlyServerURL": "https://plot.ly"
       },
       "data": [
        {
         "alignmentgroup": "True",
         "hovertemplate": "neighbourhood=%{x}<br>RequestCount=%{y}<extra></extra>",
         "legendgroup": "",
         "marker": {
          "color": "#636efa",
          "pattern": {
           "shape": ""
          }
         },
         "name": "",
         "offsetgroup": "",
         "orientation": "v",
         "showlegend": false,
         "textposition": "auto",
         "type": "bar",
         "x": [
          "Allentown",
          "Black Rock",
          "Broadway Fillmore",
          "Central",
          "Central Park",
          "Delavan Grider",
          "Ellicott",
          "Elmwood Bidwell",
          "Elmwood Bryant",
          "Fillmore-Leroy",
          "First Ward",
          "Fruit Belt",
          "Genesee-Moselle",
          "Grant-Amherst",
          "Hamlin Park",
          "Hopkins-Tifft",
          "Kaisertown",
          "Kenfield",
          "Kensington-Bailey",
          "Lovejoy",
          "Lower West Side",
          "MLK Park",
          "Masten Park",
          "North Park",
          "Parkside",
          "Pratt-Willert",
          "Riverside",
          "Schiller Park",
          "Seneca Babcock",
          "Seneca-Cazenovia",
          "South Park",
          "University Heights",
          "Upper West Side",
          "West Hertel",
          "West Side"
         ],
         "xaxis": "x",
         "y": [
          15598,
          14498,
          57497,
          15267,
          17007,
          22914,
          8190,
          43431,
          26973,
          24491,
          9696,
          12091,
          41815,
          15814,
          20844,
          26796,
          21612,
          23540,
          47357,
          35391,
          14287,
          18622,
          31784,
          49798,
          23252,
          10753,
          34841,
          35760,
          13482,
          27149,
          44199,
          34471,
          33166,
          11461,
          30969
         ],
         "yaxis": "y"
        }
       ],
       "layout": {
        "barmode": "relative",
        "height": 600,
        "legend": {
         "tracegroupgap": 0
        },
        "template": {
         "data": {
          "bar": [
           {
            "error_x": {
             "color": "#2a3f5f"
            },
            "error_y": {
             "color": "#2a3f5f"
            },
            "marker": {
             "line": {
              "color": "#E5ECF6",
              "width": 0.5
             },
             "pattern": {
              "fillmode": "overlay",
              "size": 10,
              "solidity": 0.2
             }
            },
            "type": "bar"
           }
          ],
          "barpolar": [
           {
            "marker": {
             "line": {
              "color": "#E5ECF6",
              "width": 0.5
             },
             "pattern": {
              "fillmode": "overlay",
              "size": 10,
              "solidity": 0.2
             }
            },
            "type": "barpolar"
           }
          ],
          "carpet": [
           {
            "aaxis": {
             "endlinecolor": "#2a3f5f",
             "gridcolor": "white",
             "linecolor": "white",
             "minorgridcolor": "white",
             "startlinecolor": "#2a3f5f"
            },
            "baxis": {
             "endlinecolor": "#2a3f5f",
             "gridcolor": "white",
             "linecolor": "white",
             "minorgridcolor": "white",
             "startlinecolor": "#2a3f5f"
            },
            "type": "carpet"
           }
          ],
          "choropleth": [
           {
            "colorbar": {
             "outlinewidth": 0,
             "ticks": ""
            },
            "type": "choropleth"
           }
          ],
          "contour": [
           {
            "colorbar": {
             "outlinewidth": 0,
             "ticks": ""
            },
            "colorscale": [
             [
              0,
              "#0d0887"
             ],
             [
              0.1111111111111111,
              "#46039f"
             ],
             [
              0.2222222222222222,
              "#7201a8"
             ],
             [
              0.3333333333333333,
              "#9c179e"
             ],
             [
              0.4444444444444444,
              "#bd3786"
             ],
             [
              0.5555555555555556,
              "#d8576b"
             ],
             [
              0.6666666666666666,
              "#ed7953"
             ],
             [
              0.7777777777777778,
              "#fb9f3a"
             ],
             [
              0.8888888888888888,
              "#fdca26"
             ],
             [
              1,
              "#f0f921"
             ]
            ],
            "type": "contour"
           }
          ],
          "contourcarpet": [
           {
            "colorbar": {
             "outlinewidth": 0,
             "ticks": ""
            },
            "type": "contourcarpet"
           }
          ],
          "heatmap": [
           {
            "colorbar": {
             "outlinewidth": 0,
             "ticks": ""
            },
            "colorscale": [
             [
              0,
              "#0d0887"
             ],
             [
              0.1111111111111111,
              "#46039f"
             ],
             [
              0.2222222222222222,
              "#7201a8"
             ],
             [
              0.3333333333333333,
              "#9c179e"
             ],
             [
              0.4444444444444444,
              "#bd3786"
             ],
             [
              0.5555555555555556,
              "#d8576b"
             ],
             [
              0.6666666666666666,
              "#ed7953"
             ],
             [
              0.7777777777777778,
              "#fb9f3a"
             ],
             [
              0.8888888888888888,
              "#fdca26"
             ],
             [
              1,
              "#f0f921"
             ]
            ],
            "type": "heatmap"
           }
          ],
          "heatmapgl": [
           {
            "colorbar": {
             "outlinewidth": 0,
             "ticks": ""
            },
            "colorscale": [
             [
              0,
              "#0d0887"
             ],
             [
              0.1111111111111111,
              "#46039f"
             ],
             [
              0.2222222222222222,
              "#7201a8"
             ],
             [
              0.3333333333333333,
              "#9c179e"
             ],
             [
              0.4444444444444444,
              "#bd3786"
             ],
             [
              0.5555555555555556,
              "#d8576b"
             ],
             [
              0.6666666666666666,
              "#ed7953"
             ],
             [
              0.7777777777777778,
              "#fb9f3a"
             ],
             [
              0.8888888888888888,
              "#fdca26"
             ],
             [
              1,
              "#f0f921"
             ]
            ],
            "type": "heatmapgl"
           }
          ],
          "histogram": [
           {
            "marker": {
             "pattern": {
              "fillmode": "overlay",
              "size": 10,
              "solidity": 0.2
             }
            },
            "type": "histogram"
           }
          ],
          "histogram2d": [
           {
            "colorbar": {
             "outlinewidth": 0,
             "ticks": ""
            },
            "colorscale": [
             [
              0,
              "#0d0887"
             ],
             [
              0.1111111111111111,
              "#46039f"
             ],
             [
              0.2222222222222222,
              "#7201a8"
             ],
             [
              0.3333333333333333,
              "#9c179e"
             ],
             [
              0.4444444444444444,
              "#bd3786"
             ],
             [
              0.5555555555555556,
              "#d8576b"
             ],
             [
              0.6666666666666666,
              "#ed7953"
             ],
             [
              0.7777777777777778,
              "#fb9f3a"
             ],
             [
              0.8888888888888888,
              "#fdca26"
             ],
             [
              1,
              "#f0f921"
             ]
            ],
            "type": "histogram2d"
           }
          ],
          "histogram2dcontour": [
           {
            "colorbar": {
             "outlinewidth": 0,
             "ticks": ""
            },
            "colorscale": [
             [
              0,
              "#0d0887"
             ],
             [
              0.1111111111111111,
              "#46039f"
             ],
             [
              0.2222222222222222,
              "#7201a8"
             ],
             [
              0.3333333333333333,
              "#9c179e"
             ],
             [
              0.4444444444444444,
              "#bd3786"
             ],
             [
              0.5555555555555556,
              "#d8576b"
             ],
             [
              0.6666666666666666,
              "#ed7953"
             ],
             [
              0.7777777777777778,
              "#fb9f3a"
             ],
             [
              0.8888888888888888,
              "#fdca26"
             ],
             [
              1,
              "#f0f921"
             ]
            ],
            "type": "histogram2dcontour"
           }
          ],
          "mesh3d": [
           {
            "colorbar": {
             "outlinewidth": 0,
             "ticks": ""
            },
            "type": "mesh3d"
           }
          ],
          "parcoords": [
           {
            "line": {
             "colorbar": {
              "outlinewidth": 0,
              "ticks": ""
             }
            },
            "type": "parcoords"
           }
          ],
          "pie": [
           {
            "automargin": true,
            "type": "pie"
           }
          ],
          "scatter": [
           {
            "marker": {
             "colorbar": {
              "outlinewidth": 0,
              "ticks": ""
             }
            },
            "type": "scatter"
           }
          ],
          "scatter3d": [
           {
            "line": {
             "colorbar": {
              "outlinewidth": 0,
              "ticks": ""
             }
            },
            "marker": {
             "colorbar": {
              "outlinewidth": 0,
              "ticks": ""
             }
            },
            "type": "scatter3d"
           }
          ],
          "scattercarpet": [
           {
            "marker": {
             "colorbar": {
              "outlinewidth": 0,
              "ticks": ""
             }
            },
            "type": "scattercarpet"
           }
          ],
          "scattergeo": [
           {
            "marker": {
             "colorbar": {
              "outlinewidth": 0,
              "ticks": ""
             }
            },
            "type": "scattergeo"
           }
          ],
          "scattergl": [
           {
            "marker": {
             "colorbar": {
              "outlinewidth": 0,
              "ticks": ""
             }
            },
            "type": "scattergl"
           }
          ],
          "scattermapbox": [
           {
            "marker": {
             "colorbar": {
              "outlinewidth": 0,
              "ticks": ""
             }
            },
            "type": "scattermapbox"
           }
          ],
          "scatterpolar": [
           {
            "marker": {
             "colorbar": {
              "outlinewidth": 0,
              "ticks": ""
             }
            },
            "type": "scatterpolar"
           }
          ],
          "scatterpolargl": [
           {
            "marker": {
             "colorbar": {
              "outlinewidth": 0,
              "ticks": ""
             }
            },
            "type": "scatterpolargl"
           }
          ],
          "scatterternary": [
           {
            "marker": {
             "colorbar": {
              "outlinewidth": 0,
              "ticks": ""
             }
            },
            "type": "scatterternary"
           }
          ],
          "surface": [
           {
            "colorbar": {
             "outlinewidth": 0,
             "ticks": ""
            },
            "colorscale": [
             [
              0,
              "#0d0887"
             ],
             [
              0.1111111111111111,
              "#46039f"
             ],
             [
              0.2222222222222222,
              "#7201a8"
             ],
             [
              0.3333333333333333,
              "#9c179e"
             ],
             [
              0.4444444444444444,
              "#bd3786"
             ],
             [
              0.5555555555555556,
              "#d8576b"
             ],
             [
              0.6666666666666666,
              "#ed7953"
             ],
             [
              0.7777777777777778,
              "#fb9f3a"
             ],
             [
              0.8888888888888888,
              "#fdca26"
             ],
             [
              1,
              "#f0f921"
             ]
            ],
            "type": "surface"
           }
          ],
          "table": [
           {
            "cells": {
             "fill": {
              "color": "#EBF0F8"
             },
             "line": {
              "color": "white"
             }
            },
            "header": {
             "fill": {
              "color": "#C8D4E3"
             },
             "line": {
              "color": "white"
             }
            },
            "type": "table"
           }
          ]
         },
         "layout": {
          "annotationdefaults": {
           "arrowcolor": "#2a3f5f",
           "arrowhead": 0,
           "arrowwidth": 1
          },
          "autotypenumbers": "strict",
          "coloraxis": {
           "colorbar": {
            "outlinewidth": 0,
            "ticks": ""
           }
          },
          "colorscale": {
           "diverging": [
            [
             0,
             "#8e0152"
            ],
            [
             0.1,
             "#c51b7d"
            ],
            [
             0.2,
             "#de77ae"
            ],
            [
             0.3,
             "#f1b6da"
            ],
            [
             0.4,
             "#fde0ef"
            ],
            [
             0.5,
             "#f7f7f7"
            ],
            [
             0.6,
             "#e6f5d0"
            ],
            [
             0.7,
             "#b8e186"
            ],
            [
             0.8,
             "#7fbc41"
            ],
            [
             0.9,
             "#4d9221"
            ],
            [
             1,
             "#276419"
            ]
           ],
           "sequential": [
            [
             0,
             "#0d0887"
            ],
            [
             0.1111111111111111,
             "#46039f"
            ],
            [
             0.2222222222222222,
             "#7201a8"
            ],
            [
             0.3333333333333333,
             "#9c179e"
            ],
            [
             0.4444444444444444,
             "#bd3786"
            ],
            [
             0.5555555555555556,
             "#d8576b"
            ],
            [
             0.6666666666666666,
             "#ed7953"
            ],
            [
             0.7777777777777778,
             "#fb9f3a"
            ],
            [
             0.8888888888888888,
             "#fdca26"
            ],
            [
             1,
             "#f0f921"
            ]
           ],
           "sequentialminus": [
            [
             0,
             "#0d0887"
            ],
            [
             0.1111111111111111,
             "#46039f"
            ],
            [
             0.2222222222222222,
             "#7201a8"
            ],
            [
             0.3333333333333333,
             "#9c179e"
            ],
            [
             0.4444444444444444,
             "#bd3786"
            ],
            [
             0.5555555555555556,
             "#d8576b"
            ],
            [
             0.6666666666666666,
             "#ed7953"
            ],
            [
             0.7777777777777778,
             "#fb9f3a"
            ],
            [
             0.8888888888888888,
             "#fdca26"
            ],
            [
             1,
             "#f0f921"
            ]
           ]
          },
          "colorway": [
           "#636efa",
           "#EF553B",
           "#00cc96",
           "#ab63fa",
           "#FFA15A",
           "#19d3f3",
           "#FF6692",
           "#B6E880",
           "#FF97FF",
           "#FECB52"
          ],
          "font": {
           "color": "#2a3f5f"
          },
          "geo": {
           "bgcolor": "white",
           "lakecolor": "white",
           "landcolor": "#E5ECF6",
           "showlakes": true,
           "showland": true,
           "subunitcolor": "white"
          },
          "hoverlabel": {
           "align": "left"
          },
          "hovermode": "closest",
          "mapbox": {
           "style": "light"
          },
          "paper_bgcolor": "white",
          "plot_bgcolor": "#E5ECF6",
          "polar": {
           "angularaxis": {
            "gridcolor": "white",
            "linecolor": "white",
            "ticks": ""
           },
           "bgcolor": "#E5ECF6",
           "radialaxis": {
            "gridcolor": "white",
            "linecolor": "white",
            "ticks": ""
           }
          },
          "scene": {
           "xaxis": {
            "backgroundcolor": "#E5ECF6",
            "gridcolor": "white",
            "gridwidth": 2,
            "linecolor": "white",
            "showbackground": true,
            "ticks": "",
            "zerolinecolor": "white"
           },
           "yaxis": {
            "backgroundcolor": "#E5ECF6",
            "gridcolor": "white",
            "gridwidth": 2,
            "linecolor": "white",
            "showbackground": true,
            "ticks": "",
            "zerolinecolor": "white"
           },
           "zaxis": {
            "backgroundcolor": "#E5ECF6",
            "gridcolor": "white",
            "gridwidth": 2,
            "linecolor": "white",
            "showbackground": true,
            "ticks": "",
            "zerolinecolor": "white"
           }
          },
          "shapedefaults": {
           "line": {
            "color": "#2a3f5f"
           }
          },
          "ternary": {
           "aaxis": {
            "gridcolor": "white",
            "linecolor": "white",
            "ticks": ""
           },
           "baxis": {
            "gridcolor": "white",
            "linecolor": "white",
            "ticks": ""
           },
           "bgcolor": "#E5ECF6",
           "caxis": {
            "gridcolor": "white",
            "linecolor": "white",
            "ticks": ""
           }
          },
          "title": {
           "x": 0.05
          },
          "xaxis": {
           "automargin": true,
           "gridcolor": "white",
           "linecolor": "white",
           "ticks": "",
           "title": {
            "standoff": 15
           },
           "zerolinecolor": "white",
           "zerolinewidth": 2
          },
          "yaxis": {
           "automargin": true,
           "gridcolor": "white",
           "linecolor": "white",
           "ticks": "",
           "title": {
            "standoff": 15
           },
           "zerolinecolor": "white",
           "zerolinewidth": 2
          }
         }
        },
        "title": {
         "text": "Number of Requests per Neighbourhood Type"
        },
        "width": 1200,
        "xaxis": {
         "anchor": "y",
         "domain": [
          0,
          1
         ],
         "tickangle": -45,
         "title": {
          "text": "neighbourhood"
         }
        },
        "yaxis": {
         "anchor": "x",
         "domain": [
          0,
          1
         ],
         "title": {
          "text": "RequestCount"
         }
        }
       }
      }
     },
     "metadata": {},
     "output_type": "display_data"
    }
   ],
   "source": [
    "fig = px.bar(df, x= 'neighbourhood', y = 'RequestCount', title= 'Number of Requests per Neighbourhood Type') \n",
    "fig.update_layout(width = 1200, height = 600, xaxis_tickangle=-45)\n",
    "fig.show()"
   ]
  },
  {
   "cell_type": "markdown",
   "id": "386ff752",
   "metadata": {},
   "source": [
    "### Plotting No of Requests per Council "
   ]
  },
  {
   "cell_type": "code",
   "execution_count": 128,
   "id": "c05576b3",
   "metadata": {},
   "outputs": [
    {
     "data": {
      "text/html": [
       "<div>\n",
       "<style scoped>\n",
       "    .dataframe tbody tr th:only-of-type {\n",
       "        vertical-align: middle;\n",
       "    }\n",
       "\n",
       "    .dataframe tbody tr th {\n",
       "        vertical-align: top;\n",
       "    }\n",
       "\n",
       "    .dataframe thead th {\n",
       "        text-align: right;\n",
       "    }\n",
       "</style>\n",
       "<table border=\"1\" class=\"dataframe\">\n",
       "  <thead>\n",
       "    <tr style=\"text-align: right;\">\n",
       "      <th></th>\n",
       "      <th>council</th>\n",
       "      <th>RequestCount</th>\n",
       "    </tr>\n",
       "  </thead>\n",
       "  <tbody>\n",
       "    <tr>\n",
       "      <th>0</th>\n",
       "      <td>DELAWARE</td>\n",
       "      <td>89662</td>\n",
       "    </tr>\n",
       "    <tr>\n",
       "      <th>1</th>\n",
       "      <td>ELLICOTT</td>\n",
       "      <td>93627</td>\n",
       "    </tr>\n",
       "    <tr>\n",
       "      <th>2</th>\n",
       "      <td>FILLMORE</td>\n",
       "      <td>129112</td>\n",
       "    </tr>\n",
       "    <tr>\n",
       "      <th>3</th>\n",
       "      <td>LOVEJOY</td>\n",
       "      <td>116098</td>\n",
       "    </tr>\n",
       "    <tr>\n",
       "      <th>4</th>\n",
       "      <td>MASTEN</td>\n",
       "      <td>116346</td>\n",
       "    </tr>\n",
       "  </tbody>\n",
       "</table>\n",
       "</div>"
      ],
      "text/plain": [
       "    council  RequestCount\n",
       "0  DELAWARE         89662\n",
       "1  ELLICOTT         93627\n",
       "2  FILLMORE        129112\n",
       "3   LOVEJOY        116098\n",
       "4    MASTEN        116346"
      ]
     },
     "execution_count": 128,
     "metadata": {},
     "output_type": "execute_result"
    }
   ],
   "source": [
    "\n",
    "df = pd.read_sql_query(\"\"\"SELECT a.Council, Count(*) AS RequestCount \n",
    "                  FROM CaseDetails c \n",
    "                  JOIN Address a \n",
    "                  ON a.AddressID = c.AddressID\n",
    "                  GROUP BY a.Council;\"\"\", conn)\n",
    "\n",
    "df.head()"
   ]
  },
  {
   "cell_type": "code",
   "execution_count": 129,
   "id": "6932b82c",
   "metadata": {},
   "outputs": [
    {
     "data": {
      "application/vnd.plotly.v1+json": {
       "config": {
        "plotlyServerURL": "https://plot.ly"
       },
       "data": [
        {
         "alignmentgroup": "True",
         "hovertemplate": "council=%{x}<br>RequestCount=%{y}<extra></extra>",
         "legendgroup": "",
         "marker": {
          "color": "#636efa",
          "pattern": {
           "shape": ""
          }
         },
         "name": "",
         "offsetgroup": "",
         "orientation": "v",
         "showlegend": false,
         "textposition": "auto",
         "type": "bar",
         "x": [
          "DELAWARE",
          "ELLICOTT",
          "FILLMORE",
          "LOVEJOY",
          "MASTEN",
          "NIAGARA",
          "NORTH",
          "SOUTH",
          "UNIVERSITY"
         ],
         "xaxis": "x",
         "y": [
          89662,
          93627,
          129112,
          116098,
          116346,
          93233,
          94177,
          89936,
          92625
         ],
         "yaxis": "y"
        }
       ],
       "layout": {
        "barmode": "relative",
        "height": 500,
        "legend": {
         "tracegroupgap": 0
        },
        "template": {
         "data": {
          "bar": [
           {
            "error_x": {
             "color": "#2a3f5f"
            },
            "error_y": {
             "color": "#2a3f5f"
            },
            "marker": {
             "line": {
              "color": "#E5ECF6",
              "width": 0.5
             },
             "pattern": {
              "fillmode": "overlay",
              "size": 10,
              "solidity": 0.2
             }
            },
            "type": "bar"
           }
          ],
          "barpolar": [
           {
            "marker": {
             "line": {
              "color": "#E5ECF6",
              "width": 0.5
             },
             "pattern": {
              "fillmode": "overlay",
              "size": 10,
              "solidity": 0.2
             }
            },
            "type": "barpolar"
           }
          ],
          "carpet": [
           {
            "aaxis": {
             "endlinecolor": "#2a3f5f",
             "gridcolor": "white",
             "linecolor": "white",
             "minorgridcolor": "white",
             "startlinecolor": "#2a3f5f"
            },
            "baxis": {
             "endlinecolor": "#2a3f5f",
             "gridcolor": "white",
             "linecolor": "white",
             "minorgridcolor": "white",
             "startlinecolor": "#2a3f5f"
            },
            "type": "carpet"
           }
          ],
          "choropleth": [
           {
            "colorbar": {
             "outlinewidth": 0,
             "ticks": ""
            },
            "type": "choropleth"
           }
          ],
          "contour": [
           {
            "colorbar": {
             "outlinewidth": 0,
             "ticks": ""
            },
            "colorscale": [
             [
              0,
              "#0d0887"
             ],
             [
              0.1111111111111111,
              "#46039f"
             ],
             [
              0.2222222222222222,
              "#7201a8"
             ],
             [
              0.3333333333333333,
              "#9c179e"
             ],
             [
              0.4444444444444444,
              "#bd3786"
             ],
             [
              0.5555555555555556,
              "#d8576b"
             ],
             [
              0.6666666666666666,
              "#ed7953"
             ],
             [
              0.7777777777777778,
              "#fb9f3a"
             ],
             [
              0.8888888888888888,
              "#fdca26"
             ],
             [
              1,
              "#f0f921"
             ]
            ],
            "type": "contour"
           }
          ],
          "contourcarpet": [
           {
            "colorbar": {
             "outlinewidth": 0,
             "ticks": ""
            },
            "type": "contourcarpet"
           }
          ],
          "heatmap": [
           {
            "colorbar": {
             "outlinewidth": 0,
             "ticks": ""
            },
            "colorscale": [
             [
              0,
              "#0d0887"
             ],
             [
              0.1111111111111111,
              "#46039f"
             ],
             [
              0.2222222222222222,
              "#7201a8"
             ],
             [
              0.3333333333333333,
              "#9c179e"
             ],
             [
              0.4444444444444444,
              "#bd3786"
             ],
             [
              0.5555555555555556,
              "#d8576b"
             ],
             [
              0.6666666666666666,
              "#ed7953"
             ],
             [
              0.7777777777777778,
              "#fb9f3a"
             ],
             [
              0.8888888888888888,
              "#fdca26"
             ],
             [
              1,
              "#f0f921"
             ]
            ],
            "type": "heatmap"
           }
          ],
          "heatmapgl": [
           {
            "colorbar": {
             "outlinewidth": 0,
             "ticks": ""
            },
            "colorscale": [
             [
              0,
              "#0d0887"
             ],
             [
              0.1111111111111111,
              "#46039f"
             ],
             [
              0.2222222222222222,
              "#7201a8"
             ],
             [
              0.3333333333333333,
              "#9c179e"
             ],
             [
              0.4444444444444444,
              "#bd3786"
             ],
             [
              0.5555555555555556,
              "#d8576b"
             ],
             [
              0.6666666666666666,
              "#ed7953"
             ],
             [
              0.7777777777777778,
              "#fb9f3a"
             ],
             [
              0.8888888888888888,
              "#fdca26"
             ],
             [
              1,
              "#f0f921"
             ]
            ],
            "type": "heatmapgl"
           }
          ],
          "histogram": [
           {
            "marker": {
             "pattern": {
              "fillmode": "overlay",
              "size": 10,
              "solidity": 0.2
             }
            },
            "type": "histogram"
           }
          ],
          "histogram2d": [
           {
            "colorbar": {
             "outlinewidth": 0,
             "ticks": ""
            },
            "colorscale": [
             [
              0,
              "#0d0887"
             ],
             [
              0.1111111111111111,
              "#46039f"
             ],
             [
              0.2222222222222222,
              "#7201a8"
             ],
             [
              0.3333333333333333,
              "#9c179e"
             ],
             [
              0.4444444444444444,
              "#bd3786"
             ],
             [
              0.5555555555555556,
              "#d8576b"
             ],
             [
              0.6666666666666666,
              "#ed7953"
             ],
             [
              0.7777777777777778,
              "#fb9f3a"
             ],
             [
              0.8888888888888888,
              "#fdca26"
             ],
             [
              1,
              "#f0f921"
             ]
            ],
            "type": "histogram2d"
           }
          ],
          "histogram2dcontour": [
           {
            "colorbar": {
             "outlinewidth": 0,
             "ticks": ""
            },
            "colorscale": [
             [
              0,
              "#0d0887"
             ],
             [
              0.1111111111111111,
              "#46039f"
             ],
             [
              0.2222222222222222,
              "#7201a8"
             ],
             [
              0.3333333333333333,
              "#9c179e"
             ],
             [
              0.4444444444444444,
              "#bd3786"
             ],
             [
              0.5555555555555556,
              "#d8576b"
             ],
             [
              0.6666666666666666,
              "#ed7953"
             ],
             [
              0.7777777777777778,
              "#fb9f3a"
             ],
             [
              0.8888888888888888,
              "#fdca26"
             ],
             [
              1,
              "#f0f921"
             ]
            ],
            "type": "histogram2dcontour"
           }
          ],
          "mesh3d": [
           {
            "colorbar": {
             "outlinewidth": 0,
             "ticks": ""
            },
            "type": "mesh3d"
           }
          ],
          "parcoords": [
           {
            "line": {
             "colorbar": {
              "outlinewidth": 0,
              "ticks": ""
             }
            },
            "type": "parcoords"
           }
          ],
          "pie": [
           {
            "automargin": true,
            "type": "pie"
           }
          ],
          "scatter": [
           {
            "marker": {
             "colorbar": {
              "outlinewidth": 0,
              "ticks": ""
             }
            },
            "type": "scatter"
           }
          ],
          "scatter3d": [
           {
            "line": {
             "colorbar": {
              "outlinewidth": 0,
              "ticks": ""
             }
            },
            "marker": {
             "colorbar": {
              "outlinewidth": 0,
              "ticks": ""
             }
            },
            "type": "scatter3d"
           }
          ],
          "scattercarpet": [
           {
            "marker": {
             "colorbar": {
              "outlinewidth": 0,
              "ticks": ""
             }
            },
            "type": "scattercarpet"
           }
          ],
          "scattergeo": [
           {
            "marker": {
             "colorbar": {
              "outlinewidth": 0,
              "ticks": ""
             }
            },
            "type": "scattergeo"
           }
          ],
          "scattergl": [
           {
            "marker": {
             "colorbar": {
              "outlinewidth": 0,
              "ticks": ""
             }
            },
            "type": "scattergl"
           }
          ],
          "scattermapbox": [
           {
            "marker": {
             "colorbar": {
              "outlinewidth": 0,
              "ticks": ""
             }
            },
            "type": "scattermapbox"
           }
          ],
          "scatterpolar": [
           {
            "marker": {
             "colorbar": {
              "outlinewidth": 0,
              "ticks": ""
             }
            },
            "type": "scatterpolar"
           }
          ],
          "scatterpolargl": [
           {
            "marker": {
             "colorbar": {
              "outlinewidth": 0,
              "ticks": ""
             }
            },
            "type": "scatterpolargl"
           }
          ],
          "scatterternary": [
           {
            "marker": {
             "colorbar": {
              "outlinewidth": 0,
              "ticks": ""
             }
            },
            "type": "scatterternary"
           }
          ],
          "surface": [
           {
            "colorbar": {
             "outlinewidth": 0,
             "ticks": ""
            },
            "colorscale": [
             [
              0,
              "#0d0887"
             ],
             [
              0.1111111111111111,
              "#46039f"
             ],
             [
              0.2222222222222222,
              "#7201a8"
             ],
             [
              0.3333333333333333,
              "#9c179e"
             ],
             [
              0.4444444444444444,
              "#bd3786"
             ],
             [
              0.5555555555555556,
              "#d8576b"
             ],
             [
              0.6666666666666666,
              "#ed7953"
             ],
             [
              0.7777777777777778,
              "#fb9f3a"
             ],
             [
              0.8888888888888888,
              "#fdca26"
             ],
             [
              1,
              "#f0f921"
             ]
            ],
            "type": "surface"
           }
          ],
          "table": [
           {
            "cells": {
             "fill": {
              "color": "#EBF0F8"
             },
             "line": {
              "color": "white"
             }
            },
            "header": {
             "fill": {
              "color": "#C8D4E3"
             },
             "line": {
              "color": "white"
             }
            },
            "type": "table"
           }
          ]
         },
         "layout": {
          "annotationdefaults": {
           "arrowcolor": "#2a3f5f",
           "arrowhead": 0,
           "arrowwidth": 1
          },
          "autotypenumbers": "strict",
          "coloraxis": {
           "colorbar": {
            "outlinewidth": 0,
            "ticks": ""
           }
          },
          "colorscale": {
           "diverging": [
            [
             0,
             "#8e0152"
            ],
            [
             0.1,
             "#c51b7d"
            ],
            [
             0.2,
             "#de77ae"
            ],
            [
             0.3,
             "#f1b6da"
            ],
            [
             0.4,
             "#fde0ef"
            ],
            [
             0.5,
             "#f7f7f7"
            ],
            [
             0.6,
             "#e6f5d0"
            ],
            [
             0.7,
             "#b8e186"
            ],
            [
             0.8,
             "#7fbc41"
            ],
            [
             0.9,
             "#4d9221"
            ],
            [
             1,
             "#276419"
            ]
           ],
           "sequential": [
            [
             0,
             "#0d0887"
            ],
            [
             0.1111111111111111,
             "#46039f"
            ],
            [
             0.2222222222222222,
             "#7201a8"
            ],
            [
             0.3333333333333333,
             "#9c179e"
            ],
            [
             0.4444444444444444,
             "#bd3786"
            ],
            [
             0.5555555555555556,
             "#d8576b"
            ],
            [
             0.6666666666666666,
             "#ed7953"
            ],
            [
             0.7777777777777778,
             "#fb9f3a"
            ],
            [
             0.8888888888888888,
             "#fdca26"
            ],
            [
             1,
             "#f0f921"
            ]
           ],
           "sequentialminus": [
            [
             0,
             "#0d0887"
            ],
            [
             0.1111111111111111,
             "#46039f"
            ],
            [
             0.2222222222222222,
             "#7201a8"
            ],
            [
             0.3333333333333333,
             "#9c179e"
            ],
            [
             0.4444444444444444,
             "#bd3786"
            ],
            [
             0.5555555555555556,
             "#d8576b"
            ],
            [
             0.6666666666666666,
             "#ed7953"
            ],
            [
             0.7777777777777778,
             "#fb9f3a"
            ],
            [
             0.8888888888888888,
             "#fdca26"
            ],
            [
             1,
             "#f0f921"
            ]
           ]
          },
          "colorway": [
           "#636efa",
           "#EF553B",
           "#00cc96",
           "#ab63fa",
           "#FFA15A",
           "#19d3f3",
           "#FF6692",
           "#B6E880",
           "#FF97FF",
           "#FECB52"
          ],
          "font": {
           "color": "#2a3f5f"
          },
          "geo": {
           "bgcolor": "white",
           "lakecolor": "white",
           "landcolor": "#E5ECF6",
           "showlakes": true,
           "showland": true,
           "subunitcolor": "white"
          },
          "hoverlabel": {
           "align": "left"
          },
          "hovermode": "closest",
          "mapbox": {
           "style": "light"
          },
          "paper_bgcolor": "white",
          "plot_bgcolor": "#E5ECF6",
          "polar": {
           "angularaxis": {
            "gridcolor": "white",
            "linecolor": "white",
            "ticks": ""
           },
           "bgcolor": "#E5ECF6",
           "radialaxis": {
            "gridcolor": "white",
            "linecolor": "white",
            "ticks": ""
           }
          },
          "scene": {
           "xaxis": {
            "backgroundcolor": "#E5ECF6",
            "gridcolor": "white",
            "gridwidth": 2,
            "linecolor": "white",
            "showbackground": true,
            "ticks": "",
            "zerolinecolor": "white"
           },
           "yaxis": {
            "backgroundcolor": "#E5ECF6",
            "gridcolor": "white",
            "gridwidth": 2,
            "linecolor": "white",
            "showbackground": true,
            "ticks": "",
            "zerolinecolor": "white"
           },
           "zaxis": {
            "backgroundcolor": "#E5ECF6",
            "gridcolor": "white",
            "gridwidth": 2,
            "linecolor": "white",
            "showbackground": true,
            "ticks": "",
            "zerolinecolor": "white"
           }
          },
          "shapedefaults": {
           "line": {
            "color": "#2a3f5f"
           }
          },
          "ternary": {
           "aaxis": {
            "gridcolor": "white",
            "linecolor": "white",
            "ticks": ""
           },
           "baxis": {
            "gridcolor": "white",
            "linecolor": "white",
            "ticks": ""
           },
           "bgcolor": "#E5ECF6",
           "caxis": {
            "gridcolor": "white",
            "linecolor": "white",
            "ticks": ""
           }
          },
          "title": {
           "x": 0.05
          },
          "xaxis": {
           "automargin": true,
           "gridcolor": "white",
           "linecolor": "white",
           "ticks": "",
           "title": {
            "standoff": 15
           },
           "zerolinecolor": "white",
           "zerolinewidth": 2
          },
          "yaxis": {
           "automargin": true,
           "gridcolor": "white",
           "linecolor": "white",
           "ticks": "",
           "title": {
            "standoff": 15
           },
           "zerolinecolor": "white",
           "zerolinewidth": 2
          }
         }
        },
        "title": {
         "text": "Number of Requests per Council"
        },
        "width": 800,
        "xaxis": {
         "anchor": "y",
         "domain": [
          0,
          1
         ],
         "tickangle": -45,
         "title": {
          "text": "council"
         }
        },
        "yaxis": {
         "anchor": "x",
         "domain": [
          0,
          1
         ],
         "title": {
          "text": "RequestCount"
         }
        }
       }
      }
     },
     "metadata": {},
     "output_type": "display_data"
    }
   ],
   "source": [
    "fig = px.bar(df, x= 'council', y = 'RequestCount', title= 'Number of Requests per Council') \n",
    "fig.update_layout(width = 800, height = 500, xaxis_tickangle=-45)\n",
    "fig.show()"
   ]
  },
  {
   "cell_type": "markdown",
   "id": "e5a86a6b",
   "metadata": {},
   "source": [
    "### Plotting No of Requests raised for Neighbourhood per Council\n"
   ]
  },
  {
   "cell_type": "code",
   "execution_count": 130,
   "id": "38c15720",
   "metadata": {},
   "outputs": [
    {
     "data": {
      "text/html": [
       "<div>\n",
       "<style scoped>\n",
       "    .dataframe tbody tr th:only-of-type {\n",
       "        vertical-align: middle;\n",
       "    }\n",
       "\n",
       "    .dataframe tbody tr th {\n",
       "        vertical-align: top;\n",
       "    }\n",
       "\n",
       "    .dataframe thead th {\n",
       "        text-align: right;\n",
       "    }\n",
       "</style>\n",
       "<table border=\"1\" class=\"dataframe\">\n",
       "  <thead>\n",
       "    <tr style=\"text-align: right;\">\n",
       "      <th></th>\n",
       "      <th>council</th>\n",
       "      <th>neighbourhood</th>\n",
       "      <th>RequestCount</th>\n",
       "    </tr>\n",
       "  </thead>\n",
       "  <tbody>\n",
       "    <tr>\n",
       "      <th>0</th>\n",
       "      <td>DELAWARE</td>\n",
       "      <td>Central Park</td>\n",
       "      <td>8201</td>\n",
       "    </tr>\n",
       "    <tr>\n",
       "      <th>1</th>\n",
       "      <td>DELAWARE</td>\n",
       "      <td>Elmwood Bidwell</td>\n",
       "      <td>22695</td>\n",
       "    </tr>\n",
       "    <tr>\n",
       "      <th>2</th>\n",
       "      <td>DELAWARE</td>\n",
       "      <td>Elmwood Bryant</td>\n",
       "      <td>994</td>\n",
       "    </tr>\n",
       "    <tr>\n",
       "      <th>3</th>\n",
       "      <td>DELAWARE</td>\n",
       "      <td>Fillmore-Leroy</td>\n",
       "      <td>32</td>\n",
       "    </tr>\n",
       "    <tr>\n",
       "      <th>4</th>\n",
       "      <td>DELAWARE</td>\n",
       "      <td>Hamlin Park</td>\n",
       "      <td>65</td>\n",
       "    </tr>\n",
       "  </tbody>\n",
       "</table>\n",
       "</div>"
      ],
      "text/plain": [
       "    council    neighbourhood  RequestCount\n",
       "0  DELAWARE     Central Park          8201\n",
       "1  DELAWARE  Elmwood Bidwell         22695\n",
       "2  DELAWARE   Elmwood Bryant           994\n",
       "3  DELAWARE   Fillmore-Leroy            32\n",
       "4  DELAWARE      Hamlin Park            65"
      ]
     },
     "execution_count": 130,
     "metadata": {},
     "output_type": "execute_result"
    }
   ],
   "source": [
    "\n",
    "df = pd.read_sql_query(\"\"\"SELECT a.Council, a.Neighbourhood, Count(*) AS RequestCount \n",
    "                  FROM CaseDetails c \n",
    "                  JOIN Address a \n",
    "                  ON a.AddressID = c.AddressID\n",
    "                  GROUP BY a.Council, a.Neighbourhood;\"\"\", conn)\n",
    "\n",
    "df.head()"
   ]
  },
  {
   "cell_type": "code",
   "execution_count": 131,
   "id": "c4a4104e",
   "metadata": {},
   "outputs": [
    {
     "data": {
      "application/vnd.plotly.v1+json": {
       "config": {
        "plotlyServerURL": "https://plot.ly"
       },
       "data": [
        {
         "alignmentgroup": "True",
         "hovertemplate": "neighbourhood=Central Park<br>RequestCount=%{x}<br>council=%{y}<extra></extra>",
         "legendgroup": "Central Park",
         "marker": {
          "color": "#636efa",
          "pattern": {
           "shape": ""
          }
         },
         "name": "Central Park",
         "offsetgroup": "Central Park",
         "orientation": "h",
         "showlegend": true,
         "textposition": "auto",
         "texttemplate": "%{x:.2s}",
         "type": "bar",
         "x": [
          8201,
          2359,
          6447
         ],
         "xaxis": "x",
         "y": [
          "DELAWARE",
          "MASTEN",
          "UNIVERSITY"
         ],
         "yaxis": "y"
        },
        {
         "alignmentgroup": "True",
         "hovertemplate": "neighbourhood=Elmwood Bidwell<br>RequestCount=%{x}<br>council=%{y}<extra></extra>",
         "legendgroup": "Elmwood Bidwell",
         "marker": {
          "color": "#EF553B",
          "pattern": {
           "shape": ""
          }
         },
         "name": "Elmwood Bidwell",
         "offsetgroup": "Elmwood Bidwell",
         "orientation": "h",
         "showlegend": true,
         "textposition": "auto",
         "texttemplate": "%{x:.2s}",
         "type": "bar",
         "x": [
          22695,
          5648,
          201,
          14814,
          73
         ],
         "xaxis": "x",
         "y": [
          "DELAWARE",
          "ELLICOTT",
          "MASTEN",
          "NIAGARA",
          "NORTH"
         ],
         "yaxis": "y"
        },
        {
         "alignmentgroup": "True",
         "hovertemplate": "neighbourhood=Elmwood Bryant<br>RequestCount=%{x}<br>council=%{y}<extra></extra>",
         "legendgroup": "Elmwood Bryant",
         "marker": {
          "color": "#00cc96",
          "pattern": {
           "shape": ""
          }
         },
         "name": "Elmwood Bryant",
         "offsetgroup": "Elmwood Bryant",
         "orientation": "h",
         "showlegend": true,
         "textposition": "auto",
         "texttemplate": "%{x:.2s}",
         "type": "bar",
         "x": [
          994,
          5305,
          22,
          43,
          20609
         ],
         "xaxis": "x",
         "y": [
          "DELAWARE",
          "ELLICOTT",
          "FILLMORE",
          "MASTEN",
          "NIAGARA"
         ],
         "yaxis": "y"
        },
        {
         "alignmentgroup": "True",
         "hovertemplate": "neighbourhood=Fillmore-Leroy<br>RequestCount=%{x}<br>council=%{y}<extra></extra>",
         "legendgroup": "Fillmore-Leroy",
         "marker": {
          "color": "#ab63fa",
          "pattern": {
           "shape": ""
          }
         },
         "name": "Fillmore-Leroy",
         "offsetgroup": "Fillmore-Leroy",
         "orientation": "h",
         "showlegend": true,
         "textposition": "auto",
         "texttemplate": "%{x:.2s}",
         "type": "bar",
         "x": [
          32,
          24459
         ],
         "xaxis": "x",
         "y": [
          "DELAWARE",
          "MASTEN"
         ],
         "yaxis": "y"
        },
        {
         "alignmentgroup": "True",
         "hovertemplate": "neighbourhood=Hamlin Park<br>RequestCount=%{x}<br>council=%{y}<extra></extra>",
         "legendgroup": "Hamlin Park",
         "marker": {
          "color": "#FFA15A",
          "pattern": {
           "shape": ""
          }
         },
         "name": "Hamlin Park",
         "offsetgroup": "Hamlin Park",
         "orientation": "h",
         "showlegend": true,
         "textposition": "auto",
         "texttemplate": "%{x:.2s}",
         "type": "bar",
         "x": [
          65,
          20779
         ],
         "xaxis": "x",
         "y": [
          "DELAWARE",
          "MASTEN"
         ],
         "yaxis": "y"
        },
        {
         "alignmentgroup": "True",
         "hovertemplate": "neighbourhood=North Park<br>RequestCount=%{x}<br>council=%{y}<extra></extra>",
         "legendgroup": "North Park",
         "marker": {
          "color": "#19d3f3",
          "pattern": {
           "shape": ""
          }
         },
         "name": "North Park",
         "offsetgroup": "North Park",
         "orientation": "h",
         "showlegend": true,
         "textposition": "auto",
         "texttemplate": "%{x:.2s}",
         "type": "bar",
         "x": [
          42067,
          7731
         ],
         "xaxis": "x",
         "y": [
          "DELAWARE",
          "NORTH"
         ],
         "yaxis": "y"
        },
        {
         "alignmentgroup": "True",
         "hovertemplate": "neighbourhood=Parkside<br>RequestCount=%{x}<br>council=%{y}<extra></extra>",
         "legendgroup": "Parkside",
         "marker": {
          "color": "#FF6692",
          "pattern": {
           "shape": ""
          }
         },
         "name": "Parkside",
         "offsetgroup": "Parkside",
         "orientation": "h",
         "showlegend": true,
         "textposition": "auto",
         "texttemplate": "%{x:.2s}",
         "type": "bar",
         "x": [
          15608,
          2087,
          5557
         ],
         "xaxis": "x",
         "y": [
          "DELAWARE",
          "MASTEN",
          "NORTH"
         ],
         "yaxis": "y"
        },
        {
         "alignmentgroup": "True",
         "hovertemplate": "neighbourhood=Allentown<br>RequestCount=%{x}<br>council=%{y}<extra></extra>",
         "legendgroup": "Allentown",
         "marker": {
          "color": "#B6E880",
          "pattern": {
           "shape": ""
          }
         },
         "name": "Allentown",
         "offsetgroup": "Allentown",
         "orientation": "h",
         "showlegend": true,
         "textposition": "auto",
         "texttemplate": "%{x:.2s}",
         "type": "bar",
         "x": [
          1493,
          14105
         ],
         "xaxis": "x",
         "y": [
          "ELLICOTT",
          "FILLMORE"
         ],
         "yaxis": "y"
        },
        {
         "alignmentgroup": "True",
         "hovertemplate": "neighbourhood=Broadway Fillmore<br>RequestCount=%{x}<br>council=%{y}<extra></extra>",
         "legendgroup": "Broadway Fillmore",
         "marker": {
          "color": "#FF97FF",
          "pattern": {
           "shape": ""
          }
         },
         "name": "Broadway Fillmore",
         "offsetgroup": "Broadway Fillmore",
         "orientation": "h",
         "showlegend": true,
         "textposition": "auto",
         "texttemplate": "%{x:.2s}",
         "type": "bar",
         "x": [
          11434,
          46063
         ],
         "xaxis": "x",
         "y": [
          "ELLICOTT",
          "FILLMORE"
         ],
         "yaxis": "y"
        },
        {
         "alignmentgroup": "True",
         "hovertemplate": "neighbourhood=Central<br>RequestCount=%{x}<br>council=%{y}<extra></extra>",
         "legendgroup": "Central",
         "marker": {
          "color": "#FECB52",
          "pattern": {
           "shape": ""
          }
         },
         "name": "Central",
         "offsetgroup": "Central",
         "orientation": "h",
         "showlegend": true,
         "textposition": "auto",
         "texttemplate": "%{x:.2s}",
         "type": "bar",
         "x": [
          11625,
          3094,
          204,
          344
         ],
         "xaxis": "x",
         "y": [
          "ELLICOTT",
          "FILLMORE",
          "NIAGARA",
          "SOUTH"
         ],
         "yaxis": "y"
        },
        {
         "alignmentgroup": "True",
         "hovertemplate": "neighbourhood=Ellicott<br>RequestCount=%{x}<br>council=%{y}<extra></extra>",
         "legendgroup": "Ellicott",
         "marker": {
          "color": "#636efa",
          "pattern": {
           "shape": ""
          }
         },
         "name": "Ellicott",
         "offsetgroup": "Ellicott",
         "orientation": "h",
         "showlegend": true,
         "textposition": "auto",
         "texttemplate": "%{x:.2s}",
         "type": "bar",
         "x": [
          1462,
          6728
         ],
         "xaxis": "x",
         "y": [
          "ELLICOTT",
          "FILLMORE"
         ],
         "yaxis": "y"
        },
        {
         "alignmentgroup": "True",
         "hovertemplate": "neighbourhood=Fruit Belt<br>RequestCount=%{x}<br>council=%{y}<extra></extra>",
         "legendgroup": "Fruit Belt",
         "marker": {
          "color": "#EF553B",
          "pattern": {
           "shape": ""
          }
         },
         "name": "Fruit Belt",
         "offsetgroup": "Fruit Belt",
         "orientation": "h",
         "showlegend": true,
         "textposition": "auto",
         "texttemplate": "%{x:.2s}",
         "type": "bar",
         "x": [
          12091
         ],
         "xaxis": "x",
         "y": [
          "ELLICOTT"
         ],
         "yaxis": "y"
        },
        {
         "alignmentgroup": "True",
         "hovertemplate": "neighbourhood=Lower West Side<br>RequestCount=%{x}<br>council=%{y}<extra></extra>",
         "legendgroup": "Lower West Side",
         "marker": {
          "color": "#00cc96",
          "pattern": {
           "shape": ""
          }
         },
         "name": "Lower West Side",
         "offsetgroup": "Lower West Side",
         "orientation": "h",
         "showlegend": true,
         "textposition": "auto",
         "texttemplate": "%{x:.2s}",
         "type": "bar",
         "x": [
          7457,
          6830
         ],
         "xaxis": "x",
         "y": [
          "ELLICOTT",
          "FILLMORE"
         ],
         "yaxis": "y"
        },
        {
         "alignmentgroup": "True",
         "hovertemplate": "neighbourhood=MLK Park<br>RequestCount=%{x}<br>council=%{y}<extra></extra>",
         "legendgroup": "MLK Park",
         "marker": {
          "color": "#ab63fa",
          "pattern": {
           "shape": ""
          }
         },
         "name": "MLK Park",
         "offsetgroup": "MLK Park",
         "orientation": "h",
         "showlegend": true,
         "textposition": "auto",
         "texttemplate": "%{x:.2s}",
         "type": "bar",
         "x": [
          4148,
          3894,
          10580
         ],
         "xaxis": "x",
         "y": [
          "ELLICOTT",
          "FILLMORE",
          "MASTEN"
         ],
         "yaxis": "y"
        },
        {
         "alignmentgroup": "True",
         "hovertemplate": "neighbourhood=Masten Park<br>RequestCount=%{x}<br>council=%{y}<extra></extra>",
         "legendgroup": "Masten Park",
         "marker": {
          "color": "#FFA15A",
          "pattern": {
           "shape": ""
          }
         },
         "name": "Masten Park",
         "offsetgroup": "Masten Park",
         "orientation": "h",
         "showlegend": true,
         "textposition": "auto",
         "texttemplate": "%{x:.2s}",
         "type": "bar",
         "x": [
          19884,
          11900
         ],
         "xaxis": "x",
         "y": [
          "ELLICOTT",
          "MASTEN"
         ],
         "yaxis": "y"
        },
        {
         "alignmentgroup": "True",
         "hovertemplate": "neighbourhood=Pratt-Willert<br>RequestCount=%{x}<br>council=%{y}<extra></extra>",
         "legendgroup": "Pratt-Willert",
         "marker": {
          "color": "#19d3f3",
          "pattern": {
           "shape": ""
          }
         },
         "name": "Pratt-Willert",
         "offsetgroup": "Pratt-Willert",
         "orientation": "h",
         "showlegend": true,
         "textposition": "auto",
         "texttemplate": "%{x:.2s}",
         "type": "bar",
         "x": [
          10753
         ],
         "xaxis": "x",
         "y": [
          "ELLICOTT"
         ],
         "yaxis": "y"
        },
        {
         "alignmentgroup": "True",
         "hovertemplate": "neighbourhood=West Side<br>RequestCount=%{x}<br>council=%{y}<extra></extra>",
         "legendgroup": "West Side",
         "marker": {
          "color": "#FF6692",
          "pattern": {
           "shape": ""
          }
         },
         "name": "West Side",
         "offsetgroup": "West Side",
         "orientation": "h",
         "showlegend": true,
         "textposition": "auto",
         "texttemplate": "%{x:.2s}",
         "type": "bar",
         "x": [
          2327,
          28642
         ],
         "xaxis": "x",
         "y": [
          "ELLICOTT",
          "NIAGARA"
         ],
         "yaxis": "y"
        },
        {
         "alignmentgroup": "True",
         "hovertemplate": "neighbourhood=Delavan Grider<br>RequestCount=%{x}<br>council=%{y}<extra></extra>",
         "legendgroup": "Delavan Grider",
         "marker": {
          "color": "#B6E880",
          "pattern": {
           "shape": ""
          }
         },
         "name": "Delavan Grider",
         "offsetgroup": "Delavan Grider",
         "orientation": "h",
         "showlegend": true,
         "textposition": "auto",
         "texttemplate": "%{x:.2s}",
         "type": "bar",
         "x": [
          4,
          22910
         ],
         "xaxis": "x",
         "y": [
          "FILLMORE",
          "MASTEN"
         ],
         "yaxis": "y"
        },
        {
         "alignmentgroup": "True",
         "hovertemplate": "neighbourhood=First Ward<br>RequestCount=%{x}<br>council=%{y}<extra></extra>",
         "legendgroup": "First Ward",
         "marker": {
          "color": "#FF97FF",
          "pattern": {
           "shape": ""
          }
         },
         "name": "First Ward",
         "offsetgroup": "First Ward",
         "orientation": "h",
         "showlegend": true,
         "textposition": "auto",
         "texttemplate": "%{x:.2s}",
         "type": "bar",
         "x": [
          9696
         ],
         "xaxis": "x",
         "y": [
          "FILLMORE"
         ],
         "yaxis": "y"
        },
        {
         "alignmentgroup": "True",
         "hovertemplate": "neighbourhood=Genesee-Moselle<br>RequestCount=%{x}<br>council=%{y}<extra></extra>",
         "legendgroup": "Genesee-Moselle",
         "marker": {
          "color": "#FECB52",
          "pattern": {
           "shape": ""
          }
         },
         "name": "Genesee-Moselle",
         "offsetgroup": "Genesee-Moselle",
         "orientation": "h",
         "showlegend": true,
         "textposition": "auto",
         "texttemplate": "%{x:.2s}",
         "type": "bar",
         "x": [
          25036,
          12306,
          4473
         ],
         "xaxis": "x",
         "y": [
          "FILLMORE",
          "LOVEJOY",
          "MASTEN"
         ],
         "yaxis": "y"
        },
        {
         "alignmentgroup": "True",
         "hovertemplate": "neighbourhood=Lovejoy<br>RequestCount=%{x}<br>council=%{y}<extra></extra>",
         "legendgroup": "Lovejoy",
         "marker": {
          "color": "#636efa",
          "pattern": {
           "shape": ""
          }
         },
         "name": "Lovejoy",
         "offsetgroup": "Lovejoy",
         "orientation": "h",
         "showlegend": true,
         "textposition": "auto",
         "texttemplate": "%{x:.2s}",
         "type": "bar",
         "x": [
          5508,
          29883
         ],
         "xaxis": "x",
         "y": [
          "FILLMORE",
          "LOVEJOY"
         ],
         "yaxis": "y"
        },
        {
         "alignmentgroup": "True",
         "hovertemplate": "neighbourhood=Schiller Park<br>RequestCount=%{x}<br>council=%{y}<extra></extra>",
         "legendgroup": "Schiller Park",
         "marker": {
          "color": "#EF553B",
          "pattern": {
           "shape": ""
          }
         },
         "name": "Schiller Park",
         "offsetgroup": "Schiller Park",
         "orientation": "h",
         "showlegend": true,
         "textposition": "auto",
         "texttemplate": "%{x:.2s}",
         "type": "bar",
         "x": [
          7,
          35621,
          132
         ],
         "xaxis": "x",
         "y": [
          "FILLMORE",
          "LOVEJOY",
          "UNIVERSITY"
         ],
         "yaxis": "y"
        },
        {
         "alignmentgroup": "True",
         "hovertemplate": "neighbourhood=Seneca Babcock<br>RequestCount=%{x}<br>council=%{y}<extra></extra>",
         "legendgroup": "Seneca Babcock",
         "marker": {
          "color": "#00cc96",
          "pattern": {
           "shape": ""
          }
         },
         "name": "Seneca Babcock",
         "offsetgroup": "Seneca Babcock",
         "orientation": "h",
         "showlegend": true,
         "textposition": "auto",
         "texttemplate": "%{x:.2s}",
         "type": "bar",
         "x": [
          8125,
          5357
         ],
         "xaxis": "x",
         "y": [
          "FILLMORE",
          "LOVEJOY"
         ],
         "yaxis": "y"
        },
        {
         "alignmentgroup": "True",
         "hovertemplate": "neighbourhood=Hopkins-Tifft<br>RequestCount=%{x}<br>council=%{y}<extra></extra>",
         "legendgroup": "Hopkins-Tifft",
         "marker": {
          "color": "#ab63fa",
          "pattern": {
           "shape": ""
          }
         },
         "name": "Hopkins-Tifft",
         "offsetgroup": "Hopkins-Tifft",
         "orientation": "h",
         "showlegend": true,
         "textposition": "auto",
         "texttemplate": "%{x:.2s}",
         "type": "bar",
         "x": [
          7359,
          19437
         ],
         "xaxis": "x",
         "y": [
          "LOVEJOY",
          "SOUTH"
         ],
         "yaxis": "y"
        },
        {
         "alignmentgroup": "True",
         "hovertemplate": "neighbourhood=Kaisertown<br>RequestCount=%{x}<br>council=%{y}<extra></extra>",
         "legendgroup": "Kaisertown",
         "marker": {
          "color": "#FFA15A",
          "pattern": {
           "shape": ""
          }
         },
         "name": "Kaisertown",
         "offsetgroup": "Kaisertown",
         "orientation": "h",
         "showlegend": true,
         "textposition": "auto",
         "texttemplate": "%{x:.2s}",
         "type": "bar",
         "x": [
          21612
         ],
         "xaxis": "x",
         "y": [
          "LOVEJOY"
         ],
         "yaxis": "y"
        },
        {
         "alignmentgroup": "True",
         "hovertemplate": "neighbourhood=Kenfield<br>RequestCount=%{x}<br>council=%{y}<extra></extra>",
         "legendgroup": "Kenfield",
         "marker": {
          "color": "#19d3f3",
          "pattern": {
           "shape": ""
          }
         },
         "name": "Kenfield",
         "offsetgroup": "Kenfield",
         "orientation": "h",
         "showlegend": true,
         "textposition": "auto",
         "texttemplate": "%{x:.2s}",
         "type": "bar",
         "x": [
          2767,
          5819,
          14954
         ],
         "xaxis": "x",
         "y": [
          "LOVEJOY",
          "MASTEN",
          "UNIVERSITY"
         ],
         "yaxis": "y"
        },
        {
         "alignmentgroup": "True",
         "hovertemplate": "neighbourhood=Seneca-Cazenovia<br>RequestCount=%{x}<br>council=%{y}<extra></extra>",
         "legendgroup": "Seneca-Cazenovia",
         "marker": {
          "color": "#FF6692",
          "pattern": {
           "shape": ""
          }
         },
         "name": "Seneca-Cazenovia",
         "offsetgroup": "Seneca-Cazenovia",
         "orientation": "h",
         "showlegend": true,
         "textposition": "auto",
         "texttemplate": "%{x:.2s}",
         "type": "bar",
         "x": [
          1193,
          25956
         ],
         "xaxis": "x",
         "y": [
          "LOVEJOY",
          "SOUTH"
         ],
         "yaxis": "y"
        },
        {
         "alignmentgroup": "True",
         "hovertemplate": "neighbourhood=Kensington-Bailey<br>RequestCount=%{x}<br>council=%{y}<extra></extra>",
         "legendgroup": "Kensington-Bailey",
         "marker": {
          "color": "#B6E880",
          "pattern": {
           "shape": ""
          }
         },
         "name": "Kensington-Bailey",
         "offsetgroup": "Kensington-Bailey",
         "orientation": "h",
         "showlegend": true,
         "textposition": "auto",
         "texttemplate": "%{x:.2s}",
         "type": "bar",
         "x": [
          10736,
          36621
         ],
         "xaxis": "x",
         "y": [
          "MASTEN",
          "UNIVERSITY"
         ],
         "yaxis": "y"
        },
        {
         "alignmentgroup": "True",
         "hovertemplate": "neighbourhood=Upper West Side<br>RequestCount=%{x}<br>council=%{y}<extra></extra>",
         "legendgroup": "Upper West Side",
         "marker": {
          "color": "#FF97FF",
          "pattern": {
           "shape": ""
          }
         },
         "name": "Upper West Side",
         "offsetgroup": "Upper West Side",
         "orientation": "h",
         "showlegend": true,
         "textposition": "auto",
         "texttemplate": "%{x:.2s}",
         "type": "bar",
         "x": [
          28964,
          4202
         ],
         "xaxis": "x",
         "y": [
          "NIAGARA",
          "NORTH"
         ],
         "yaxis": "y"
        },
        {
         "alignmentgroup": "True",
         "hovertemplate": "neighbourhood=Black Rock<br>RequestCount=%{x}<br>council=%{y}<extra></extra>",
         "legendgroup": "Black Rock",
         "marker": {
          "color": "#FECB52",
          "pattern": {
           "shape": ""
          }
         },
         "name": "Black Rock",
         "offsetgroup": "Black Rock",
         "orientation": "h",
         "showlegend": true,
         "textposition": "auto",
         "texttemplate": "%{x:.2s}",
         "type": "bar",
         "x": [
          14498
         ],
         "xaxis": "x",
         "y": [
          "NORTH"
         ],
         "yaxis": "y"
        },
        {
         "alignmentgroup": "True",
         "hovertemplate": "neighbourhood=Grant-Amherst<br>RequestCount=%{x}<br>council=%{y}<extra></extra>",
         "legendgroup": "Grant-Amherst",
         "marker": {
          "color": "#636efa",
          "pattern": {
           "shape": ""
          }
         },
         "name": "Grant-Amherst",
         "offsetgroup": "Grant-Amherst",
         "orientation": "h",
         "showlegend": true,
         "textposition": "auto",
         "texttemplate": "%{x:.2s}",
         "type": "bar",
         "x": [
          15814
         ],
         "xaxis": "x",
         "y": [
          "NORTH"
         ],
         "yaxis": "y"
        },
        {
         "alignmentgroup": "True",
         "hovertemplate": "neighbourhood=Riverside<br>RequestCount=%{x}<br>council=%{y}<extra></extra>",
         "legendgroup": "Riverside",
         "marker": {
          "color": "#EF553B",
          "pattern": {
           "shape": ""
          }
         },
         "name": "Riverside",
         "offsetgroup": "Riverside",
         "orientation": "h",
         "showlegend": true,
         "textposition": "auto",
         "texttemplate": "%{x:.2s}",
         "type": "bar",
         "x": [
          34841
         ],
         "xaxis": "x",
         "y": [
          "NORTH"
         ],
         "yaxis": "y"
        },
        {
         "alignmentgroup": "True",
         "hovertemplate": "neighbourhood=West Hertel<br>RequestCount=%{x}<br>council=%{y}<extra></extra>",
         "legendgroup": "West Hertel",
         "marker": {
          "color": "#00cc96",
          "pattern": {
           "shape": ""
          }
         },
         "name": "West Hertel",
         "offsetgroup": "West Hertel",
         "orientation": "h",
         "showlegend": true,
         "textposition": "auto",
         "texttemplate": "%{x:.2s}",
         "type": "bar",
         "x": [
          11461
         ],
         "xaxis": "x",
         "y": [
          "NORTH"
         ],
         "yaxis": "y"
        },
        {
         "alignmentgroup": "True",
         "hovertemplate": "neighbourhood=South Park<br>RequestCount=%{x}<br>council=%{y}<extra></extra>",
         "legendgroup": "South Park",
         "marker": {
          "color": "#ab63fa",
          "pattern": {
           "shape": ""
          }
         },
         "name": "South Park",
         "offsetgroup": "South Park",
         "orientation": "h",
         "showlegend": true,
         "textposition": "auto",
         "texttemplate": "%{x:.2s}",
         "type": "bar",
         "x": [
          44199
         ],
         "xaxis": "x",
         "y": [
          "SOUTH"
         ],
         "yaxis": "y"
        },
        {
         "alignmentgroup": "True",
         "hovertemplate": "neighbourhood=University Heights<br>RequestCount=%{x}<br>council=%{y}<extra></extra>",
         "legendgroup": "University Heights",
         "marker": {
          "color": "#FFA15A",
          "pattern": {
           "shape": ""
          }
         },
         "name": "University Heights",
         "offsetgroup": "University Heights",
         "orientation": "h",
         "showlegend": true,
         "textposition": "auto",
         "texttemplate": "%{x:.2s}",
         "type": "bar",
         "x": [
          34471
         ],
         "xaxis": "x",
         "y": [
          "UNIVERSITY"
         ],
         "yaxis": "y"
        }
       ],
       "layout": {
        "barmode": "relative",
        "height": 600,
        "legend": {
         "title": {
          "text": "neighbourhood"
         },
         "tracegroupgap": 0
        },
        "template": {
         "data": {
          "bar": [
           {
            "error_x": {
             "color": "#2a3f5f"
            },
            "error_y": {
             "color": "#2a3f5f"
            },
            "marker": {
             "line": {
              "color": "#E5ECF6",
              "width": 0.5
             },
             "pattern": {
              "fillmode": "overlay",
              "size": 10,
              "solidity": 0.2
             }
            },
            "type": "bar"
           }
          ],
          "barpolar": [
           {
            "marker": {
             "line": {
              "color": "#E5ECF6",
              "width": 0.5
             },
             "pattern": {
              "fillmode": "overlay",
              "size": 10,
              "solidity": 0.2
             }
            },
            "type": "barpolar"
           }
          ],
          "carpet": [
           {
            "aaxis": {
             "endlinecolor": "#2a3f5f",
             "gridcolor": "white",
             "linecolor": "white",
             "minorgridcolor": "white",
             "startlinecolor": "#2a3f5f"
            },
            "baxis": {
             "endlinecolor": "#2a3f5f",
             "gridcolor": "white",
             "linecolor": "white",
             "minorgridcolor": "white",
             "startlinecolor": "#2a3f5f"
            },
            "type": "carpet"
           }
          ],
          "choropleth": [
           {
            "colorbar": {
             "outlinewidth": 0,
             "ticks": ""
            },
            "type": "choropleth"
           }
          ],
          "contour": [
           {
            "colorbar": {
             "outlinewidth": 0,
             "ticks": ""
            },
            "colorscale": [
             [
              0,
              "#0d0887"
             ],
             [
              0.1111111111111111,
              "#46039f"
             ],
             [
              0.2222222222222222,
              "#7201a8"
             ],
             [
              0.3333333333333333,
              "#9c179e"
             ],
             [
              0.4444444444444444,
              "#bd3786"
             ],
             [
              0.5555555555555556,
              "#d8576b"
             ],
             [
              0.6666666666666666,
              "#ed7953"
             ],
             [
              0.7777777777777778,
              "#fb9f3a"
             ],
             [
              0.8888888888888888,
              "#fdca26"
             ],
             [
              1,
              "#f0f921"
             ]
            ],
            "type": "contour"
           }
          ],
          "contourcarpet": [
           {
            "colorbar": {
             "outlinewidth": 0,
             "ticks": ""
            },
            "type": "contourcarpet"
           }
          ],
          "heatmap": [
           {
            "colorbar": {
             "outlinewidth": 0,
             "ticks": ""
            },
            "colorscale": [
             [
              0,
              "#0d0887"
             ],
             [
              0.1111111111111111,
              "#46039f"
             ],
             [
              0.2222222222222222,
              "#7201a8"
             ],
             [
              0.3333333333333333,
              "#9c179e"
             ],
             [
              0.4444444444444444,
              "#bd3786"
             ],
             [
              0.5555555555555556,
              "#d8576b"
             ],
             [
              0.6666666666666666,
              "#ed7953"
             ],
             [
              0.7777777777777778,
              "#fb9f3a"
             ],
             [
              0.8888888888888888,
              "#fdca26"
             ],
             [
              1,
              "#f0f921"
             ]
            ],
            "type": "heatmap"
           }
          ],
          "heatmapgl": [
           {
            "colorbar": {
             "outlinewidth": 0,
             "ticks": ""
            },
            "colorscale": [
             [
              0,
              "#0d0887"
             ],
             [
              0.1111111111111111,
              "#46039f"
             ],
             [
              0.2222222222222222,
              "#7201a8"
             ],
             [
              0.3333333333333333,
              "#9c179e"
             ],
             [
              0.4444444444444444,
              "#bd3786"
             ],
             [
              0.5555555555555556,
              "#d8576b"
             ],
             [
              0.6666666666666666,
              "#ed7953"
             ],
             [
              0.7777777777777778,
              "#fb9f3a"
             ],
             [
              0.8888888888888888,
              "#fdca26"
             ],
             [
              1,
              "#f0f921"
             ]
            ],
            "type": "heatmapgl"
           }
          ],
          "histogram": [
           {
            "marker": {
             "pattern": {
              "fillmode": "overlay",
              "size": 10,
              "solidity": 0.2
             }
            },
            "type": "histogram"
           }
          ],
          "histogram2d": [
           {
            "colorbar": {
             "outlinewidth": 0,
             "ticks": ""
            },
            "colorscale": [
             [
              0,
              "#0d0887"
             ],
             [
              0.1111111111111111,
              "#46039f"
             ],
             [
              0.2222222222222222,
              "#7201a8"
             ],
             [
              0.3333333333333333,
              "#9c179e"
             ],
             [
              0.4444444444444444,
              "#bd3786"
             ],
             [
              0.5555555555555556,
              "#d8576b"
             ],
             [
              0.6666666666666666,
              "#ed7953"
             ],
             [
              0.7777777777777778,
              "#fb9f3a"
             ],
             [
              0.8888888888888888,
              "#fdca26"
             ],
             [
              1,
              "#f0f921"
             ]
            ],
            "type": "histogram2d"
           }
          ],
          "histogram2dcontour": [
           {
            "colorbar": {
             "outlinewidth": 0,
             "ticks": ""
            },
            "colorscale": [
             [
              0,
              "#0d0887"
             ],
             [
              0.1111111111111111,
              "#46039f"
             ],
             [
              0.2222222222222222,
              "#7201a8"
             ],
             [
              0.3333333333333333,
              "#9c179e"
             ],
             [
              0.4444444444444444,
              "#bd3786"
             ],
             [
              0.5555555555555556,
              "#d8576b"
             ],
             [
              0.6666666666666666,
              "#ed7953"
             ],
             [
              0.7777777777777778,
              "#fb9f3a"
             ],
             [
              0.8888888888888888,
              "#fdca26"
             ],
             [
              1,
              "#f0f921"
             ]
            ],
            "type": "histogram2dcontour"
           }
          ],
          "mesh3d": [
           {
            "colorbar": {
             "outlinewidth": 0,
             "ticks": ""
            },
            "type": "mesh3d"
           }
          ],
          "parcoords": [
           {
            "line": {
             "colorbar": {
              "outlinewidth": 0,
              "ticks": ""
             }
            },
            "type": "parcoords"
           }
          ],
          "pie": [
           {
            "automargin": true,
            "type": "pie"
           }
          ],
          "scatter": [
           {
            "marker": {
             "colorbar": {
              "outlinewidth": 0,
              "ticks": ""
             }
            },
            "type": "scatter"
           }
          ],
          "scatter3d": [
           {
            "line": {
             "colorbar": {
              "outlinewidth": 0,
              "ticks": ""
             }
            },
            "marker": {
             "colorbar": {
              "outlinewidth": 0,
              "ticks": ""
             }
            },
            "type": "scatter3d"
           }
          ],
          "scattercarpet": [
           {
            "marker": {
             "colorbar": {
              "outlinewidth": 0,
              "ticks": ""
             }
            },
            "type": "scattercarpet"
           }
          ],
          "scattergeo": [
           {
            "marker": {
             "colorbar": {
              "outlinewidth": 0,
              "ticks": ""
             }
            },
            "type": "scattergeo"
           }
          ],
          "scattergl": [
           {
            "marker": {
             "colorbar": {
              "outlinewidth": 0,
              "ticks": ""
             }
            },
            "type": "scattergl"
           }
          ],
          "scattermapbox": [
           {
            "marker": {
             "colorbar": {
              "outlinewidth": 0,
              "ticks": ""
             }
            },
            "type": "scattermapbox"
           }
          ],
          "scatterpolar": [
           {
            "marker": {
             "colorbar": {
              "outlinewidth": 0,
              "ticks": ""
             }
            },
            "type": "scatterpolar"
           }
          ],
          "scatterpolargl": [
           {
            "marker": {
             "colorbar": {
              "outlinewidth": 0,
              "ticks": ""
             }
            },
            "type": "scatterpolargl"
           }
          ],
          "scatterternary": [
           {
            "marker": {
             "colorbar": {
              "outlinewidth": 0,
              "ticks": ""
             }
            },
            "type": "scatterternary"
           }
          ],
          "surface": [
           {
            "colorbar": {
             "outlinewidth": 0,
             "ticks": ""
            },
            "colorscale": [
             [
              0,
              "#0d0887"
             ],
             [
              0.1111111111111111,
              "#46039f"
             ],
             [
              0.2222222222222222,
              "#7201a8"
             ],
             [
              0.3333333333333333,
              "#9c179e"
             ],
             [
              0.4444444444444444,
              "#bd3786"
             ],
             [
              0.5555555555555556,
              "#d8576b"
             ],
             [
              0.6666666666666666,
              "#ed7953"
             ],
             [
              0.7777777777777778,
              "#fb9f3a"
             ],
             [
              0.8888888888888888,
              "#fdca26"
             ],
             [
              1,
              "#f0f921"
             ]
            ],
            "type": "surface"
           }
          ],
          "table": [
           {
            "cells": {
             "fill": {
              "color": "#EBF0F8"
             },
             "line": {
              "color": "white"
             }
            },
            "header": {
             "fill": {
              "color": "#C8D4E3"
             },
             "line": {
              "color": "white"
             }
            },
            "type": "table"
           }
          ]
         },
         "layout": {
          "annotationdefaults": {
           "arrowcolor": "#2a3f5f",
           "arrowhead": 0,
           "arrowwidth": 1
          },
          "autotypenumbers": "strict",
          "coloraxis": {
           "colorbar": {
            "outlinewidth": 0,
            "ticks": ""
           }
          },
          "colorscale": {
           "diverging": [
            [
             0,
             "#8e0152"
            ],
            [
             0.1,
             "#c51b7d"
            ],
            [
             0.2,
             "#de77ae"
            ],
            [
             0.3,
             "#f1b6da"
            ],
            [
             0.4,
             "#fde0ef"
            ],
            [
             0.5,
             "#f7f7f7"
            ],
            [
             0.6,
             "#e6f5d0"
            ],
            [
             0.7,
             "#b8e186"
            ],
            [
             0.8,
             "#7fbc41"
            ],
            [
             0.9,
             "#4d9221"
            ],
            [
             1,
             "#276419"
            ]
           ],
           "sequential": [
            [
             0,
             "#0d0887"
            ],
            [
             0.1111111111111111,
             "#46039f"
            ],
            [
             0.2222222222222222,
             "#7201a8"
            ],
            [
             0.3333333333333333,
             "#9c179e"
            ],
            [
             0.4444444444444444,
             "#bd3786"
            ],
            [
             0.5555555555555556,
             "#d8576b"
            ],
            [
             0.6666666666666666,
             "#ed7953"
            ],
            [
             0.7777777777777778,
             "#fb9f3a"
            ],
            [
             0.8888888888888888,
             "#fdca26"
            ],
            [
             1,
             "#f0f921"
            ]
           ],
           "sequentialminus": [
            [
             0,
             "#0d0887"
            ],
            [
             0.1111111111111111,
             "#46039f"
            ],
            [
             0.2222222222222222,
             "#7201a8"
            ],
            [
             0.3333333333333333,
             "#9c179e"
            ],
            [
             0.4444444444444444,
             "#bd3786"
            ],
            [
             0.5555555555555556,
             "#d8576b"
            ],
            [
             0.6666666666666666,
             "#ed7953"
            ],
            [
             0.7777777777777778,
             "#fb9f3a"
            ],
            [
             0.8888888888888888,
             "#fdca26"
            ],
            [
             1,
             "#f0f921"
            ]
           ]
          },
          "colorway": [
           "#636efa",
           "#EF553B",
           "#00cc96",
           "#ab63fa",
           "#FFA15A",
           "#19d3f3",
           "#FF6692",
           "#B6E880",
           "#FF97FF",
           "#FECB52"
          ],
          "font": {
           "color": "#2a3f5f"
          },
          "geo": {
           "bgcolor": "white",
           "lakecolor": "white",
           "landcolor": "#E5ECF6",
           "showlakes": true,
           "showland": true,
           "subunitcolor": "white"
          },
          "hoverlabel": {
           "align": "left"
          },
          "hovermode": "closest",
          "mapbox": {
           "style": "light"
          },
          "paper_bgcolor": "white",
          "plot_bgcolor": "#E5ECF6",
          "polar": {
           "angularaxis": {
            "gridcolor": "white",
            "linecolor": "white",
            "ticks": ""
           },
           "bgcolor": "#E5ECF6",
           "radialaxis": {
            "gridcolor": "white",
            "linecolor": "white",
            "ticks": ""
           }
          },
          "scene": {
           "xaxis": {
            "backgroundcolor": "#E5ECF6",
            "gridcolor": "white",
            "gridwidth": 2,
            "linecolor": "white",
            "showbackground": true,
            "ticks": "",
            "zerolinecolor": "white"
           },
           "yaxis": {
            "backgroundcolor": "#E5ECF6",
            "gridcolor": "white",
            "gridwidth": 2,
            "linecolor": "white",
            "showbackground": true,
            "ticks": "",
            "zerolinecolor": "white"
           },
           "zaxis": {
            "backgroundcolor": "#E5ECF6",
            "gridcolor": "white",
            "gridwidth": 2,
            "linecolor": "white",
            "showbackground": true,
            "ticks": "",
            "zerolinecolor": "white"
           }
          },
          "shapedefaults": {
           "line": {
            "color": "#2a3f5f"
           }
          },
          "ternary": {
           "aaxis": {
            "gridcolor": "white",
            "linecolor": "white",
            "ticks": ""
           },
           "baxis": {
            "gridcolor": "white",
            "linecolor": "white",
            "ticks": ""
           },
           "bgcolor": "#E5ECF6",
           "caxis": {
            "gridcolor": "white",
            "linecolor": "white",
            "ticks": ""
           }
          },
          "title": {
           "x": 0.05
          },
          "xaxis": {
           "automargin": true,
           "gridcolor": "white",
           "linecolor": "white",
           "ticks": "",
           "title": {
            "standoff": 15
           },
           "zerolinecolor": "white",
           "zerolinewidth": 2
          },
          "yaxis": {
           "automargin": true,
           "gridcolor": "white",
           "linecolor": "white",
           "ticks": "",
           "title": {
            "standoff": 15
           },
           "zerolinecolor": "white",
           "zerolinewidth": 2
          }
         }
        },
        "title": {
         "text": "Number of Requests In Neighbourhood For Each Council"
        },
        "width": 1200,
        "xaxis": {
         "anchor": "y",
         "domain": [
          0,
          1
         ],
         "tickangle": -45,
         "title": {
          "text": "RequestCount"
         }
        },
        "yaxis": {
         "anchor": "x",
         "domain": [
          0,
          1
         ],
         "title": {
          "text": "council"
         }
        }
       }
      }
     },
     "metadata": {},
     "output_type": "display_data"
    }
   ],
   "source": [
    "fig = px.bar(df, x='RequestCount', y='council', text_auto='.2s',\n",
    "            title=\"Number of Requests In Neighbourhood For Each Council\",  color='neighbourhood')\n",
    "fig.update_layout(width = 1200, height = 600, xaxis_tickangle=-45)\n",
    "fig.show()"
   ]
  },
  {
   "cell_type": "markdown",
   "id": "9c056034",
   "metadata": {},
   "source": [
    "### Plotting Avg. ResponseTime taken by each department"
   ]
  },
  {
   "cell_type": "code",
   "execution_count": 132,
   "id": "df5698d0",
   "metadata": {},
   "outputs": [
    {
     "data": {
      "text/html": [
       "<div>\n",
       "<style scoped>\n",
       "    .dataframe tbody tr th:only-of-type {\n",
       "        vertical-align: middle;\n",
       "    }\n",
       "\n",
       "    .dataframe tbody tr th {\n",
       "        vertical-align: top;\n",
       "    }\n",
       "\n",
       "    .dataframe thead th {\n",
       "        text-align: right;\n",
       "    }\n",
       "</style>\n",
       "<table border=\"1\" class=\"dataframe\">\n",
       "  <thead>\n",
       "    <tr style=\"text-align: right;\">\n",
       "      <th></th>\n",
       "      <th>Department</th>\n",
       "      <th>AvgResponse</th>\n",
       "    </tr>\n",
       "  </thead>\n",
       "  <tbody>\n",
       "    <tr>\n",
       "      <th>0</th>\n",
       "      <td>New Americans</td>\n",
       "      <td>262.500000</td>\n",
       "    </tr>\n",
       "    <tr>\n",
       "      <th>1</th>\n",
       "      <td>Knowledge Management</td>\n",
       "      <td>164.000000</td>\n",
       "    </tr>\n",
       "    <tr>\n",
       "      <th>2</th>\n",
       "      <td>Community Services &amp; Rec. Program.</td>\n",
       "      <td>67.570423</td>\n",
       "    </tr>\n",
       "    <tr>\n",
       "      <th>3</th>\n",
       "      <td>City Clerk</td>\n",
       "      <td>41.605845</td>\n",
       "    </tr>\n",
       "    <tr>\n",
       "      <th>4</th>\n",
       "      <td>Office of Strategic Planning</td>\n",
       "      <td>28.616725</td>\n",
       "    </tr>\n",
       "  </tbody>\n",
       "</table>\n",
       "</div>"
      ],
      "text/plain": [
       "                           Department  AvgResponse\n",
       "0                       New Americans   262.500000\n",
       "1                Knowledge Management   164.000000\n",
       "2  Community Services & Rec. Program.    67.570423\n",
       "3                          City Clerk    41.605845\n",
       "4        Office of Strategic Planning    28.616725"
      ]
     },
     "execution_count": 132,
     "metadata": {},
     "output_type": "execute_result"
    }
   ],
   "source": [
    " \n",
    "\n",
    "df = pd.read_sql_query(\"\"\"SELECT d.Department, AVG(JULIANDAY(c.closedate) - JULIANDAY(c.opendate)) AS AvgResponse \n",
    "                FROM CaseDetails c \n",
    "                JOIN Department d\n",
    "                ON d.DepartmentID = c.DepartmentID \n",
    "                WHERE c.closedate != 0 \n",
    "                GROUP BY d.Department \n",
    "                HAVING AvgResponse > 0\n",
    "                ORDER BY AvgResponse DESC;\"\"\", conn)\n",
    "\n",
    "df.head()"
   ]
  },
  {
   "cell_type": "code",
   "execution_count": 133,
   "id": "31b31d24",
   "metadata": {},
   "outputs": [
    {
     "data": {
      "application/vnd.plotly.v1+json": {
       "config": {
        "plotlyServerURL": "https://plot.ly"
       },
       "data": [
        {
         "alignmentgroup": "True",
         "hovertemplate": "Department=%{x}<br>AvgResponse=%{y}<extra></extra>",
         "legendgroup": "",
         "marker": {
          "color": "#636efa",
          "pattern": {
           "shape": ""
          }
         },
         "name": "",
         "offsetgroup": "",
         "orientation": "v",
         "showlegend": false,
         "textposition": "auto",
         "type": "bar",
         "x": [
          "New Americans",
          "Knowledge Management",
          "Community Services & Rec. Program.",
          "City Clerk",
          "Office of Strategic Planning",
          "Buffalo Fire Department",
          "Office of the Mayor",
          "Human Resources",
          "Buffalo Municipal Housing Authority",
          "DPIS",
          "Utilities",
          "Dept of Public Works",
          "Dept of Law",
          "Assessment & Taxation",
          "Dept of Parking",
          "Buffalo Police Department",
          "Management Information Systems"
         ],
         "xaxis": "x",
         "y": [
          262.5,
          164,
          67.57042253521126,
          41.60584461867427,
          28.61672473867596,
          28.11323328785812,
          25.75105627851952,
          24.17391304347826,
          20.084917104731097,
          17.137895400567484,
          13.270660667771727,
          10.7767907255145,
          10.588667687595713,
          9.616645105648987,
          2.849995381631208,
          1.7655363084752398,
          1
         ],
         "yaxis": "y"
        }
       ],
       "layout": {
        "barmode": "relative",
        "height": 500,
        "legend": {
         "tracegroupgap": 0
        },
        "template": {
         "data": {
          "bar": [
           {
            "error_x": {
             "color": "#2a3f5f"
            },
            "error_y": {
             "color": "#2a3f5f"
            },
            "marker": {
             "line": {
              "color": "#E5ECF6",
              "width": 0.5
             },
             "pattern": {
              "fillmode": "overlay",
              "size": 10,
              "solidity": 0.2
             }
            },
            "type": "bar"
           }
          ],
          "barpolar": [
           {
            "marker": {
             "line": {
              "color": "#E5ECF6",
              "width": 0.5
             },
             "pattern": {
              "fillmode": "overlay",
              "size": 10,
              "solidity": 0.2
             }
            },
            "type": "barpolar"
           }
          ],
          "carpet": [
           {
            "aaxis": {
             "endlinecolor": "#2a3f5f",
             "gridcolor": "white",
             "linecolor": "white",
             "minorgridcolor": "white",
             "startlinecolor": "#2a3f5f"
            },
            "baxis": {
             "endlinecolor": "#2a3f5f",
             "gridcolor": "white",
             "linecolor": "white",
             "minorgridcolor": "white",
             "startlinecolor": "#2a3f5f"
            },
            "type": "carpet"
           }
          ],
          "choropleth": [
           {
            "colorbar": {
             "outlinewidth": 0,
             "ticks": ""
            },
            "type": "choropleth"
           }
          ],
          "contour": [
           {
            "colorbar": {
             "outlinewidth": 0,
             "ticks": ""
            },
            "colorscale": [
             [
              0,
              "#0d0887"
             ],
             [
              0.1111111111111111,
              "#46039f"
             ],
             [
              0.2222222222222222,
              "#7201a8"
             ],
             [
              0.3333333333333333,
              "#9c179e"
             ],
             [
              0.4444444444444444,
              "#bd3786"
             ],
             [
              0.5555555555555556,
              "#d8576b"
             ],
             [
              0.6666666666666666,
              "#ed7953"
             ],
             [
              0.7777777777777778,
              "#fb9f3a"
             ],
             [
              0.8888888888888888,
              "#fdca26"
             ],
             [
              1,
              "#f0f921"
             ]
            ],
            "type": "contour"
           }
          ],
          "contourcarpet": [
           {
            "colorbar": {
             "outlinewidth": 0,
             "ticks": ""
            },
            "type": "contourcarpet"
           }
          ],
          "heatmap": [
           {
            "colorbar": {
             "outlinewidth": 0,
             "ticks": ""
            },
            "colorscale": [
             [
              0,
              "#0d0887"
             ],
             [
              0.1111111111111111,
              "#46039f"
             ],
             [
              0.2222222222222222,
              "#7201a8"
             ],
             [
              0.3333333333333333,
              "#9c179e"
             ],
             [
              0.4444444444444444,
              "#bd3786"
             ],
             [
              0.5555555555555556,
              "#d8576b"
             ],
             [
              0.6666666666666666,
              "#ed7953"
             ],
             [
              0.7777777777777778,
              "#fb9f3a"
             ],
             [
              0.8888888888888888,
              "#fdca26"
             ],
             [
              1,
              "#f0f921"
             ]
            ],
            "type": "heatmap"
           }
          ],
          "heatmapgl": [
           {
            "colorbar": {
             "outlinewidth": 0,
             "ticks": ""
            },
            "colorscale": [
             [
              0,
              "#0d0887"
             ],
             [
              0.1111111111111111,
              "#46039f"
             ],
             [
              0.2222222222222222,
              "#7201a8"
             ],
             [
              0.3333333333333333,
              "#9c179e"
             ],
             [
              0.4444444444444444,
              "#bd3786"
             ],
             [
              0.5555555555555556,
              "#d8576b"
             ],
             [
              0.6666666666666666,
              "#ed7953"
             ],
             [
              0.7777777777777778,
              "#fb9f3a"
             ],
             [
              0.8888888888888888,
              "#fdca26"
             ],
             [
              1,
              "#f0f921"
             ]
            ],
            "type": "heatmapgl"
           }
          ],
          "histogram": [
           {
            "marker": {
             "pattern": {
              "fillmode": "overlay",
              "size": 10,
              "solidity": 0.2
             }
            },
            "type": "histogram"
           }
          ],
          "histogram2d": [
           {
            "colorbar": {
             "outlinewidth": 0,
             "ticks": ""
            },
            "colorscale": [
             [
              0,
              "#0d0887"
             ],
             [
              0.1111111111111111,
              "#46039f"
             ],
             [
              0.2222222222222222,
              "#7201a8"
             ],
             [
              0.3333333333333333,
              "#9c179e"
             ],
             [
              0.4444444444444444,
              "#bd3786"
             ],
             [
              0.5555555555555556,
              "#d8576b"
             ],
             [
              0.6666666666666666,
              "#ed7953"
             ],
             [
              0.7777777777777778,
              "#fb9f3a"
             ],
             [
              0.8888888888888888,
              "#fdca26"
             ],
             [
              1,
              "#f0f921"
             ]
            ],
            "type": "histogram2d"
           }
          ],
          "histogram2dcontour": [
           {
            "colorbar": {
             "outlinewidth": 0,
             "ticks": ""
            },
            "colorscale": [
             [
              0,
              "#0d0887"
             ],
             [
              0.1111111111111111,
              "#46039f"
             ],
             [
              0.2222222222222222,
              "#7201a8"
             ],
             [
              0.3333333333333333,
              "#9c179e"
             ],
             [
              0.4444444444444444,
              "#bd3786"
             ],
             [
              0.5555555555555556,
              "#d8576b"
             ],
             [
              0.6666666666666666,
              "#ed7953"
             ],
             [
              0.7777777777777778,
              "#fb9f3a"
             ],
             [
              0.8888888888888888,
              "#fdca26"
             ],
             [
              1,
              "#f0f921"
             ]
            ],
            "type": "histogram2dcontour"
           }
          ],
          "mesh3d": [
           {
            "colorbar": {
             "outlinewidth": 0,
             "ticks": ""
            },
            "type": "mesh3d"
           }
          ],
          "parcoords": [
           {
            "line": {
             "colorbar": {
              "outlinewidth": 0,
              "ticks": ""
             }
            },
            "type": "parcoords"
           }
          ],
          "pie": [
           {
            "automargin": true,
            "type": "pie"
           }
          ],
          "scatter": [
           {
            "marker": {
             "colorbar": {
              "outlinewidth": 0,
              "ticks": ""
             }
            },
            "type": "scatter"
           }
          ],
          "scatter3d": [
           {
            "line": {
             "colorbar": {
              "outlinewidth": 0,
              "ticks": ""
             }
            },
            "marker": {
             "colorbar": {
              "outlinewidth": 0,
              "ticks": ""
             }
            },
            "type": "scatter3d"
           }
          ],
          "scattercarpet": [
           {
            "marker": {
             "colorbar": {
              "outlinewidth": 0,
              "ticks": ""
             }
            },
            "type": "scattercarpet"
           }
          ],
          "scattergeo": [
           {
            "marker": {
             "colorbar": {
              "outlinewidth": 0,
              "ticks": ""
             }
            },
            "type": "scattergeo"
           }
          ],
          "scattergl": [
           {
            "marker": {
             "colorbar": {
              "outlinewidth": 0,
              "ticks": ""
             }
            },
            "type": "scattergl"
           }
          ],
          "scattermapbox": [
           {
            "marker": {
             "colorbar": {
              "outlinewidth": 0,
              "ticks": ""
             }
            },
            "type": "scattermapbox"
           }
          ],
          "scatterpolar": [
           {
            "marker": {
             "colorbar": {
              "outlinewidth": 0,
              "ticks": ""
             }
            },
            "type": "scatterpolar"
           }
          ],
          "scatterpolargl": [
           {
            "marker": {
             "colorbar": {
              "outlinewidth": 0,
              "ticks": ""
             }
            },
            "type": "scatterpolargl"
           }
          ],
          "scatterternary": [
           {
            "marker": {
             "colorbar": {
              "outlinewidth": 0,
              "ticks": ""
             }
            },
            "type": "scatterternary"
           }
          ],
          "surface": [
           {
            "colorbar": {
             "outlinewidth": 0,
             "ticks": ""
            },
            "colorscale": [
             [
              0,
              "#0d0887"
             ],
             [
              0.1111111111111111,
              "#46039f"
             ],
             [
              0.2222222222222222,
              "#7201a8"
             ],
             [
              0.3333333333333333,
              "#9c179e"
             ],
             [
              0.4444444444444444,
              "#bd3786"
             ],
             [
              0.5555555555555556,
              "#d8576b"
             ],
             [
              0.6666666666666666,
              "#ed7953"
             ],
             [
              0.7777777777777778,
              "#fb9f3a"
             ],
             [
              0.8888888888888888,
              "#fdca26"
             ],
             [
              1,
              "#f0f921"
             ]
            ],
            "type": "surface"
           }
          ],
          "table": [
           {
            "cells": {
             "fill": {
              "color": "#EBF0F8"
             },
             "line": {
              "color": "white"
             }
            },
            "header": {
             "fill": {
              "color": "#C8D4E3"
             },
             "line": {
              "color": "white"
             }
            },
            "type": "table"
           }
          ]
         },
         "layout": {
          "annotationdefaults": {
           "arrowcolor": "#2a3f5f",
           "arrowhead": 0,
           "arrowwidth": 1
          },
          "autotypenumbers": "strict",
          "coloraxis": {
           "colorbar": {
            "outlinewidth": 0,
            "ticks": ""
           }
          },
          "colorscale": {
           "diverging": [
            [
             0,
             "#8e0152"
            ],
            [
             0.1,
             "#c51b7d"
            ],
            [
             0.2,
             "#de77ae"
            ],
            [
             0.3,
             "#f1b6da"
            ],
            [
             0.4,
             "#fde0ef"
            ],
            [
             0.5,
             "#f7f7f7"
            ],
            [
             0.6,
             "#e6f5d0"
            ],
            [
             0.7,
             "#b8e186"
            ],
            [
             0.8,
             "#7fbc41"
            ],
            [
             0.9,
             "#4d9221"
            ],
            [
             1,
             "#276419"
            ]
           ],
           "sequential": [
            [
             0,
             "#0d0887"
            ],
            [
             0.1111111111111111,
             "#46039f"
            ],
            [
             0.2222222222222222,
             "#7201a8"
            ],
            [
             0.3333333333333333,
             "#9c179e"
            ],
            [
             0.4444444444444444,
             "#bd3786"
            ],
            [
             0.5555555555555556,
             "#d8576b"
            ],
            [
             0.6666666666666666,
             "#ed7953"
            ],
            [
             0.7777777777777778,
             "#fb9f3a"
            ],
            [
             0.8888888888888888,
             "#fdca26"
            ],
            [
             1,
             "#f0f921"
            ]
           ],
           "sequentialminus": [
            [
             0,
             "#0d0887"
            ],
            [
             0.1111111111111111,
             "#46039f"
            ],
            [
             0.2222222222222222,
             "#7201a8"
            ],
            [
             0.3333333333333333,
             "#9c179e"
            ],
            [
             0.4444444444444444,
             "#bd3786"
            ],
            [
             0.5555555555555556,
             "#d8576b"
            ],
            [
             0.6666666666666666,
             "#ed7953"
            ],
            [
             0.7777777777777778,
             "#fb9f3a"
            ],
            [
             0.8888888888888888,
             "#fdca26"
            ],
            [
             1,
             "#f0f921"
            ]
           ]
          },
          "colorway": [
           "#636efa",
           "#EF553B",
           "#00cc96",
           "#ab63fa",
           "#FFA15A",
           "#19d3f3",
           "#FF6692",
           "#B6E880",
           "#FF97FF",
           "#FECB52"
          ],
          "font": {
           "color": "#2a3f5f"
          },
          "geo": {
           "bgcolor": "white",
           "lakecolor": "white",
           "landcolor": "#E5ECF6",
           "showlakes": true,
           "showland": true,
           "subunitcolor": "white"
          },
          "hoverlabel": {
           "align": "left"
          },
          "hovermode": "closest",
          "mapbox": {
           "style": "light"
          },
          "paper_bgcolor": "white",
          "plot_bgcolor": "#E5ECF6",
          "polar": {
           "angularaxis": {
            "gridcolor": "white",
            "linecolor": "white",
            "ticks": ""
           },
           "bgcolor": "#E5ECF6",
           "radialaxis": {
            "gridcolor": "white",
            "linecolor": "white",
            "ticks": ""
           }
          },
          "scene": {
           "xaxis": {
            "backgroundcolor": "#E5ECF6",
            "gridcolor": "white",
            "gridwidth": 2,
            "linecolor": "white",
            "showbackground": true,
            "ticks": "",
            "zerolinecolor": "white"
           },
           "yaxis": {
            "backgroundcolor": "#E5ECF6",
            "gridcolor": "white",
            "gridwidth": 2,
            "linecolor": "white",
            "showbackground": true,
            "ticks": "",
            "zerolinecolor": "white"
           },
           "zaxis": {
            "backgroundcolor": "#E5ECF6",
            "gridcolor": "white",
            "gridwidth": 2,
            "linecolor": "white",
            "showbackground": true,
            "ticks": "",
            "zerolinecolor": "white"
           }
          },
          "shapedefaults": {
           "line": {
            "color": "#2a3f5f"
           }
          },
          "ternary": {
           "aaxis": {
            "gridcolor": "white",
            "linecolor": "white",
            "ticks": ""
           },
           "baxis": {
            "gridcolor": "white",
            "linecolor": "white",
            "ticks": ""
           },
           "bgcolor": "#E5ECF6",
           "caxis": {
            "gridcolor": "white",
            "linecolor": "white",
            "ticks": ""
           }
          },
          "title": {
           "x": 0.05
          },
          "xaxis": {
           "automargin": true,
           "gridcolor": "white",
           "linecolor": "white",
           "ticks": "",
           "title": {
            "standoff": 15
           },
           "zerolinecolor": "white",
           "zerolinewidth": 2
          },
          "yaxis": {
           "automargin": true,
           "gridcolor": "white",
           "linecolor": "white",
           "ticks": "",
           "title": {
            "standoff": 15
           },
           "zerolinecolor": "white",
           "zerolinewidth": 2
          }
         }
        },
        "title": {
         "text": "Avg Response Time Taken By Each Department"
        },
        "width": 800,
        "xaxis": {
         "anchor": "y",
         "domain": [
          0,
          1
         ],
         "tickangle": -45,
         "title": {
          "text": "Department"
         }
        },
        "yaxis": {
         "anchor": "x",
         "domain": [
          0,
          1
         ],
         "title": {
          "text": "AvgResponse"
         }
        }
       }
      }
     },
     "metadata": {},
     "output_type": "display_data"
    }
   ],
   "source": [
    "fig = px.bar(df, x= 'Department', y = 'AvgResponse', title= 'Avg Response Time Taken By Each Department') \n",
    "fig.update_layout(width = 800, height = 500, xaxis_tickangle=-45)\n",
    "fig.show()"
   ]
  },
  {
   "cell_type": "markdown",
   "id": "0e9a91c1",
   "metadata": {},
   "source": [
    "### Plotting YoY Trend of Avg Response of Top 5 Highest Departments "
   ]
  },
  {
   "cell_type": "code",
   "execution_count": 134,
   "id": "938209f9",
   "metadata": {},
   "outputs": [
    {
     "data": {
      "text/html": [
       "<div>\n",
       "<style scoped>\n",
       "    .dataframe tbody tr th:only-of-type {\n",
       "        vertical-align: middle;\n",
       "    }\n",
       "\n",
       "    .dataframe tbody tr th {\n",
       "        vertical-align: top;\n",
       "    }\n",
       "\n",
       "    .dataframe thead th {\n",
       "        text-align: right;\n",
       "    }\n",
       "</style>\n",
       "<table border=\"1\" class=\"dataframe\">\n",
       "  <thead>\n",
       "    <tr style=\"text-align: right;\">\n",
       "      <th></th>\n",
       "      <th>Year</th>\n",
       "      <th>Department</th>\n",
       "      <th>AvgResponse</th>\n",
       "    </tr>\n",
       "  </thead>\n",
       "  <tbody>\n",
       "    <tr>\n",
       "      <th>0</th>\n",
       "      <td>2008</td>\n",
       "      <td>City Clerk</td>\n",
       "      <td>13.791667</td>\n",
       "    </tr>\n",
       "    <tr>\n",
       "      <th>1</th>\n",
       "      <td>2009</td>\n",
       "      <td>City Clerk</td>\n",
       "      <td>16.637681</td>\n",
       "    </tr>\n",
       "    <tr>\n",
       "      <th>2</th>\n",
       "      <td>2010</td>\n",
       "      <td>City Clerk</td>\n",
       "      <td>28.458015</td>\n",
       "    </tr>\n",
       "    <tr>\n",
       "      <th>3</th>\n",
       "      <td>2011</td>\n",
       "      <td>City Clerk</td>\n",
       "      <td>27.560606</td>\n",
       "    </tr>\n",
       "    <tr>\n",
       "      <th>4</th>\n",
       "      <td>2012</td>\n",
       "      <td>City Clerk</td>\n",
       "      <td>2.022472</td>\n",
       "    </tr>\n",
       "  </tbody>\n",
       "</table>\n",
       "</div>"
      ],
      "text/plain": [
       "   Year  Department  AvgResponse\n",
       "0  2008  City Clerk    13.791667\n",
       "1  2009  City Clerk    16.637681\n",
       "2  2010  City Clerk    28.458015\n",
       "3  2011  City Clerk    27.560606\n",
       "4  2012  City Clerk     2.022472"
      ]
     },
     "execution_count": 134,
     "metadata": {},
     "output_type": "execute_result"
    }
   ],
   "source": [
    "\n",
    "\n",
    "df = pd.read_sql_query(\"\"\"SELECT strftime('%Y', DATE(opendate)) AS Year, d.Department, AVG(JULIANDAY(c.closedate) - JULIANDAY(c.opendate)) AS AvgResponse \n",
    "                FROM CaseDetails c \n",
    "                JOIN Department d\n",
    "                ON d.DepartmentID = c.DepartmentID \n",
    "                WHERE c.closedate != 0 \n",
    "                AND d.DepartmentID IN \n",
    "                (SELECT DepartmentID FROM Department\n",
    "                WHERE Department IN ('New Americans', 'Knowledge Management', 'Community Services & Rec. Program.', \n",
    "                'City Clerk', 'Office of Strategic Planning'))\n",
    "                GROUP BY Year, d.Department \n",
    "                HAVING AvgResponse > 0\n",
    "                ORDER BY Department, Year\"\"\", conn)\n",
    "\n",
    "df.head()"
   ]
  },
  {
   "cell_type": "code",
   "execution_count": 135,
   "id": "f71dec81",
   "metadata": {},
   "outputs": [
    {
     "data": {
      "application/vnd.plotly.v1+json": {
       "config": {
        "plotlyServerURL": "https://plot.ly"
       },
       "data": [
        {
         "hovertemplate": "Department=City Clerk<br>Year=%{x}<br>AvgResponse=%{y}<extra></extra>",
         "legendgroup": "City Clerk",
         "line": {
          "color": "#636efa",
          "dash": "solid"
         },
         "marker": {
          "symbol": "circle"
         },
         "mode": "lines+markers",
         "name": "City Clerk",
         "orientation": "v",
         "showlegend": true,
         "type": "scatter",
         "x": [
          "2008",
          "2009",
          "2010",
          "2011",
          "2012",
          "2013",
          "2014",
          "2015",
          "2016",
          "2017",
          "2018",
          "2019",
          "2020",
          "2021",
          "2022"
         ],
         "xaxis": "x",
         "y": [
          13.791666666666666,
          16.63768115942029,
          28.458015267175572,
          27.560606060606062,
          2.0224719101123596,
          0.8787878787878788,
          1.5365853658536586,
          1.7924528301886793,
          9.564102564102564,
          29.25862068965517,
          27.13953488372093,
          8.115384615384615,
          90.64084507042253,
          76.65503875968992,
          7.945945945945946
         ],
         "yaxis": "y"
        },
        {
         "hovertemplate": "Department=Community Services & Rec. Program.<br>Year=%{x}<br>AvgResponse=%{y}<extra></extra>",
         "legendgroup": "Community Services & Rec. Program.",
         "line": {
          "color": "#EF553B",
          "dash": "solid"
         },
         "marker": {
          "symbol": "circle"
         },
         "mode": "lines+markers",
         "name": "Community Services & Rec. Program.",
         "orientation": "v",
         "showlegend": true,
         "type": "scatter",
         "x": [
          "2008",
          "2009",
          "2010",
          "2011",
          "2012",
          "2013",
          "2014",
          "2015",
          "2016",
          "2017",
          "2018",
          "2019",
          "2020",
          "2021",
          "2022"
         ],
         "xaxis": "x",
         "y": [
          98.22222222222223,
          46.743589743589745,
          51.92307692307692,
          65.45454545454545,
          26,
          113.33333333333333,
          108.16666666666667,
          85.75,
          137.8,
          130.16666666666666,
          122.5,
          29.8,
          8.88888888888889,
          16,
          7.8
         ],
         "yaxis": "y"
        },
        {
         "hovertemplate": "Department=Knowledge Management<br>Year=%{x}<br>AvgResponse=%{y}<extra></extra>",
         "legendgroup": "Knowledge Management",
         "line": {
          "color": "#00cc96",
          "dash": "solid"
         },
         "marker": {
          "symbol": "circle"
         },
         "mode": "lines+markers",
         "name": "Knowledge Management",
         "orientation": "v",
         "showlegend": true,
         "type": "scatter",
         "x": [
          "2012"
         ],
         "xaxis": "x",
         "y": [
          164
         ],
         "yaxis": "y"
        },
        {
         "hovertemplate": "Department=New Americans<br>Year=%{x}<br>AvgResponse=%{y}<extra></extra>",
         "legendgroup": "New Americans",
         "line": {
          "color": "#ab63fa",
          "dash": "solid"
         },
         "marker": {
          "symbol": "circle"
         },
         "mode": "lines+markers",
         "name": "New Americans",
         "orientation": "v",
         "showlegend": true,
         "type": "scatter",
         "x": [
          "2017"
         ],
         "xaxis": "x",
         "y": [
          262.5
         ],
         "yaxis": "y"
        },
        {
         "hovertemplate": "Department=Office of Strategic Planning<br>Year=%{x}<br>AvgResponse=%{y}<extra></extra>",
         "legendgroup": "Office of Strategic Planning",
         "line": {
          "color": "#FFA15A",
          "dash": "solid"
         },
         "marker": {
          "symbol": "circle"
         },
         "mode": "lines+markers",
         "name": "Office of Strategic Planning",
         "orientation": "v",
         "showlegend": true,
         "type": "scatter",
         "x": [
          "2008",
          "2009",
          "2010",
          "2011",
          "2012",
          "2013",
          "2014",
          "2015",
          "2016",
          "2017",
          "2018",
          "2019",
          "2020",
          "2021",
          "2022"
         ],
         "xaxis": "x",
         "y": [
          55.13793103448276,
          33.34795918367347,
          30.592219020172912,
          40.10725552050473,
          15.605022831050228,
          18.14833759590793,
          25.212534059945504,
          14.719298245614034,
          14.592307692307692,
          19.655555555555555,
          5.883720930232558,
          11.26148409893993,
          11.750972762645915,
          57.67088607594937,
          44.87222222222222
         ],
         "yaxis": "y"
        }
       ],
       "layout": {
        "height": 600,
        "legend": {
         "title": {
          "text": "Department"
         },
         "tracegroupgap": 0
        },
        "template": {
         "data": {
          "bar": [
           {
            "error_x": {
             "color": "#2a3f5f"
            },
            "error_y": {
             "color": "#2a3f5f"
            },
            "marker": {
             "line": {
              "color": "#E5ECF6",
              "width": 0.5
             },
             "pattern": {
              "fillmode": "overlay",
              "size": 10,
              "solidity": 0.2
             }
            },
            "type": "bar"
           }
          ],
          "barpolar": [
           {
            "marker": {
             "line": {
              "color": "#E5ECF6",
              "width": 0.5
             },
             "pattern": {
              "fillmode": "overlay",
              "size": 10,
              "solidity": 0.2
             }
            },
            "type": "barpolar"
           }
          ],
          "carpet": [
           {
            "aaxis": {
             "endlinecolor": "#2a3f5f",
             "gridcolor": "white",
             "linecolor": "white",
             "minorgridcolor": "white",
             "startlinecolor": "#2a3f5f"
            },
            "baxis": {
             "endlinecolor": "#2a3f5f",
             "gridcolor": "white",
             "linecolor": "white",
             "minorgridcolor": "white",
             "startlinecolor": "#2a3f5f"
            },
            "type": "carpet"
           }
          ],
          "choropleth": [
           {
            "colorbar": {
             "outlinewidth": 0,
             "ticks": ""
            },
            "type": "choropleth"
           }
          ],
          "contour": [
           {
            "colorbar": {
             "outlinewidth": 0,
             "ticks": ""
            },
            "colorscale": [
             [
              0,
              "#0d0887"
             ],
             [
              0.1111111111111111,
              "#46039f"
             ],
             [
              0.2222222222222222,
              "#7201a8"
             ],
             [
              0.3333333333333333,
              "#9c179e"
             ],
             [
              0.4444444444444444,
              "#bd3786"
             ],
             [
              0.5555555555555556,
              "#d8576b"
             ],
             [
              0.6666666666666666,
              "#ed7953"
             ],
             [
              0.7777777777777778,
              "#fb9f3a"
             ],
             [
              0.8888888888888888,
              "#fdca26"
             ],
             [
              1,
              "#f0f921"
             ]
            ],
            "type": "contour"
           }
          ],
          "contourcarpet": [
           {
            "colorbar": {
             "outlinewidth": 0,
             "ticks": ""
            },
            "type": "contourcarpet"
           }
          ],
          "heatmap": [
           {
            "colorbar": {
             "outlinewidth": 0,
             "ticks": ""
            },
            "colorscale": [
             [
              0,
              "#0d0887"
             ],
             [
              0.1111111111111111,
              "#46039f"
             ],
             [
              0.2222222222222222,
              "#7201a8"
             ],
             [
              0.3333333333333333,
              "#9c179e"
             ],
             [
              0.4444444444444444,
              "#bd3786"
             ],
             [
              0.5555555555555556,
              "#d8576b"
             ],
             [
              0.6666666666666666,
              "#ed7953"
             ],
             [
              0.7777777777777778,
              "#fb9f3a"
             ],
             [
              0.8888888888888888,
              "#fdca26"
             ],
             [
              1,
              "#f0f921"
             ]
            ],
            "type": "heatmap"
           }
          ],
          "heatmapgl": [
           {
            "colorbar": {
             "outlinewidth": 0,
             "ticks": ""
            },
            "colorscale": [
             [
              0,
              "#0d0887"
             ],
             [
              0.1111111111111111,
              "#46039f"
             ],
             [
              0.2222222222222222,
              "#7201a8"
             ],
             [
              0.3333333333333333,
              "#9c179e"
             ],
             [
              0.4444444444444444,
              "#bd3786"
             ],
             [
              0.5555555555555556,
              "#d8576b"
             ],
             [
              0.6666666666666666,
              "#ed7953"
             ],
             [
              0.7777777777777778,
              "#fb9f3a"
             ],
             [
              0.8888888888888888,
              "#fdca26"
             ],
             [
              1,
              "#f0f921"
             ]
            ],
            "type": "heatmapgl"
           }
          ],
          "histogram": [
           {
            "marker": {
             "pattern": {
              "fillmode": "overlay",
              "size": 10,
              "solidity": 0.2
             }
            },
            "type": "histogram"
           }
          ],
          "histogram2d": [
           {
            "colorbar": {
             "outlinewidth": 0,
             "ticks": ""
            },
            "colorscale": [
             [
              0,
              "#0d0887"
             ],
             [
              0.1111111111111111,
              "#46039f"
             ],
             [
              0.2222222222222222,
              "#7201a8"
             ],
             [
              0.3333333333333333,
              "#9c179e"
             ],
             [
              0.4444444444444444,
              "#bd3786"
             ],
             [
              0.5555555555555556,
              "#d8576b"
             ],
             [
              0.6666666666666666,
              "#ed7953"
             ],
             [
              0.7777777777777778,
              "#fb9f3a"
             ],
             [
              0.8888888888888888,
              "#fdca26"
             ],
             [
              1,
              "#f0f921"
             ]
            ],
            "type": "histogram2d"
           }
          ],
          "histogram2dcontour": [
           {
            "colorbar": {
             "outlinewidth": 0,
             "ticks": ""
            },
            "colorscale": [
             [
              0,
              "#0d0887"
             ],
             [
              0.1111111111111111,
              "#46039f"
             ],
             [
              0.2222222222222222,
              "#7201a8"
             ],
             [
              0.3333333333333333,
              "#9c179e"
             ],
             [
              0.4444444444444444,
              "#bd3786"
             ],
             [
              0.5555555555555556,
              "#d8576b"
             ],
             [
              0.6666666666666666,
              "#ed7953"
             ],
             [
              0.7777777777777778,
              "#fb9f3a"
             ],
             [
              0.8888888888888888,
              "#fdca26"
             ],
             [
              1,
              "#f0f921"
             ]
            ],
            "type": "histogram2dcontour"
           }
          ],
          "mesh3d": [
           {
            "colorbar": {
             "outlinewidth": 0,
             "ticks": ""
            },
            "type": "mesh3d"
           }
          ],
          "parcoords": [
           {
            "line": {
             "colorbar": {
              "outlinewidth": 0,
              "ticks": ""
             }
            },
            "type": "parcoords"
           }
          ],
          "pie": [
           {
            "automargin": true,
            "type": "pie"
           }
          ],
          "scatter": [
           {
            "marker": {
             "colorbar": {
              "outlinewidth": 0,
              "ticks": ""
             }
            },
            "type": "scatter"
           }
          ],
          "scatter3d": [
           {
            "line": {
             "colorbar": {
              "outlinewidth": 0,
              "ticks": ""
             }
            },
            "marker": {
             "colorbar": {
              "outlinewidth": 0,
              "ticks": ""
             }
            },
            "type": "scatter3d"
           }
          ],
          "scattercarpet": [
           {
            "marker": {
             "colorbar": {
              "outlinewidth": 0,
              "ticks": ""
             }
            },
            "type": "scattercarpet"
           }
          ],
          "scattergeo": [
           {
            "marker": {
             "colorbar": {
              "outlinewidth": 0,
              "ticks": ""
             }
            },
            "type": "scattergeo"
           }
          ],
          "scattergl": [
           {
            "marker": {
             "colorbar": {
              "outlinewidth": 0,
              "ticks": ""
             }
            },
            "type": "scattergl"
           }
          ],
          "scattermapbox": [
           {
            "marker": {
             "colorbar": {
              "outlinewidth": 0,
              "ticks": ""
             }
            },
            "type": "scattermapbox"
           }
          ],
          "scatterpolar": [
           {
            "marker": {
             "colorbar": {
              "outlinewidth": 0,
              "ticks": ""
             }
            },
            "type": "scatterpolar"
           }
          ],
          "scatterpolargl": [
           {
            "marker": {
             "colorbar": {
              "outlinewidth": 0,
              "ticks": ""
             }
            },
            "type": "scatterpolargl"
           }
          ],
          "scatterternary": [
           {
            "marker": {
             "colorbar": {
              "outlinewidth": 0,
              "ticks": ""
             }
            },
            "type": "scatterternary"
           }
          ],
          "surface": [
           {
            "colorbar": {
             "outlinewidth": 0,
             "ticks": ""
            },
            "colorscale": [
             [
              0,
              "#0d0887"
             ],
             [
              0.1111111111111111,
              "#46039f"
             ],
             [
              0.2222222222222222,
              "#7201a8"
             ],
             [
              0.3333333333333333,
              "#9c179e"
             ],
             [
              0.4444444444444444,
              "#bd3786"
             ],
             [
              0.5555555555555556,
              "#d8576b"
             ],
             [
              0.6666666666666666,
              "#ed7953"
             ],
             [
              0.7777777777777778,
              "#fb9f3a"
             ],
             [
              0.8888888888888888,
              "#fdca26"
             ],
             [
              1,
              "#f0f921"
             ]
            ],
            "type": "surface"
           }
          ],
          "table": [
           {
            "cells": {
             "fill": {
              "color": "#EBF0F8"
             },
             "line": {
              "color": "white"
             }
            },
            "header": {
             "fill": {
              "color": "#C8D4E3"
             },
             "line": {
              "color": "white"
             }
            },
            "type": "table"
           }
          ]
         },
         "layout": {
          "annotationdefaults": {
           "arrowcolor": "#2a3f5f",
           "arrowhead": 0,
           "arrowwidth": 1
          },
          "autotypenumbers": "strict",
          "coloraxis": {
           "colorbar": {
            "outlinewidth": 0,
            "ticks": ""
           }
          },
          "colorscale": {
           "diverging": [
            [
             0,
             "#8e0152"
            ],
            [
             0.1,
             "#c51b7d"
            ],
            [
             0.2,
             "#de77ae"
            ],
            [
             0.3,
             "#f1b6da"
            ],
            [
             0.4,
             "#fde0ef"
            ],
            [
             0.5,
             "#f7f7f7"
            ],
            [
             0.6,
             "#e6f5d0"
            ],
            [
             0.7,
             "#b8e186"
            ],
            [
             0.8,
             "#7fbc41"
            ],
            [
             0.9,
             "#4d9221"
            ],
            [
             1,
             "#276419"
            ]
           ],
           "sequential": [
            [
             0,
             "#0d0887"
            ],
            [
             0.1111111111111111,
             "#46039f"
            ],
            [
             0.2222222222222222,
             "#7201a8"
            ],
            [
             0.3333333333333333,
             "#9c179e"
            ],
            [
             0.4444444444444444,
             "#bd3786"
            ],
            [
             0.5555555555555556,
             "#d8576b"
            ],
            [
             0.6666666666666666,
             "#ed7953"
            ],
            [
             0.7777777777777778,
             "#fb9f3a"
            ],
            [
             0.8888888888888888,
             "#fdca26"
            ],
            [
             1,
             "#f0f921"
            ]
           ],
           "sequentialminus": [
            [
             0,
             "#0d0887"
            ],
            [
             0.1111111111111111,
             "#46039f"
            ],
            [
             0.2222222222222222,
             "#7201a8"
            ],
            [
             0.3333333333333333,
             "#9c179e"
            ],
            [
             0.4444444444444444,
             "#bd3786"
            ],
            [
             0.5555555555555556,
             "#d8576b"
            ],
            [
             0.6666666666666666,
             "#ed7953"
            ],
            [
             0.7777777777777778,
             "#fb9f3a"
            ],
            [
             0.8888888888888888,
             "#fdca26"
            ],
            [
             1,
             "#f0f921"
            ]
           ]
          },
          "colorway": [
           "#636efa",
           "#EF553B",
           "#00cc96",
           "#ab63fa",
           "#FFA15A",
           "#19d3f3",
           "#FF6692",
           "#B6E880",
           "#FF97FF",
           "#FECB52"
          ],
          "font": {
           "color": "#2a3f5f"
          },
          "geo": {
           "bgcolor": "white",
           "lakecolor": "white",
           "landcolor": "#E5ECF6",
           "showlakes": true,
           "showland": true,
           "subunitcolor": "white"
          },
          "hoverlabel": {
           "align": "left"
          },
          "hovermode": "closest",
          "mapbox": {
           "style": "light"
          },
          "paper_bgcolor": "white",
          "plot_bgcolor": "#E5ECF6",
          "polar": {
           "angularaxis": {
            "gridcolor": "white",
            "linecolor": "white",
            "ticks": ""
           },
           "bgcolor": "#E5ECF6",
           "radialaxis": {
            "gridcolor": "white",
            "linecolor": "white",
            "ticks": ""
           }
          },
          "scene": {
           "xaxis": {
            "backgroundcolor": "#E5ECF6",
            "gridcolor": "white",
            "gridwidth": 2,
            "linecolor": "white",
            "showbackground": true,
            "ticks": "",
            "zerolinecolor": "white"
           },
           "yaxis": {
            "backgroundcolor": "#E5ECF6",
            "gridcolor": "white",
            "gridwidth": 2,
            "linecolor": "white",
            "showbackground": true,
            "ticks": "",
            "zerolinecolor": "white"
           },
           "zaxis": {
            "backgroundcolor": "#E5ECF6",
            "gridcolor": "white",
            "gridwidth": 2,
            "linecolor": "white",
            "showbackground": true,
            "ticks": "",
            "zerolinecolor": "white"
           }
          },
          "shapedefaults": {
           "line": {
            "color": "#2a3f5f"
           }
          },
          "ternary": {
           "aaxis": {
            "gridcolor": "white",
            "linecolor": "white",
            "ticks": ""
           },
           "baxis": {
            "gridcolor": "white",
            "linecolor": "white",
            "ticks": ""
           },
           "bgcolor": "#E5ECF6",
           "caxis": {
            "gridcolor": "white",
            "linecolor": "white",
            "ticks": ""
           }
          },
          "title": {
           "x": 0.05
          },
          "xaxis": {
           "automargin": true,
           "gridcolor": "white",
           "linecolor": "white",
           "ticks": "",
           "title": {
            "standoff": 15
           },
           "zerolinecolor": "white",
           "zerolinewidth": 2
          },
          "yaxis": {
           "automargin": true,
           "gridcolor": "white",
           "linecolor": "white",
           "ticks": "",
           "title": {
            "standoff": 15
           },
           "zerolinecolor": "white",
           "zerolinewidth": 2
          }
         }
        },
        "title": {
         "text": "YoY Trend of Avg Response of Top 5 Highest Departments"
        },
        "width": 1200,
        "xaxis": {
         "anchor": "y",
         "domain": [
          0,
          1
         ],
         "tickangle": -45,
         "title": {
          "text": "Year"
         }
        },
        "yaxis": {
         "anchor": "x",
         "domain": [
          0,
          1
         ],
         "title": {
          "text": "AvgResponse"
         }
        }
       }
      }
     },
     "metadata": {},
     "output_type": "display_data"
    }
   ],
   "source": [
    "fig = px.line(df, x = 'Year', y= 'AvgResponse', color= 'Department', title= 'YoY Trend of Avg Response of Top 5 Highest Departments', markers= True) \n",
    "fig.update_layout(width = 1200, height = 600, xaxis_tickangle=-45)\n",
    "fig.show()"
   ]
  },
  {
   "cell_type": "markdown",
   "id": "788f3a96",
   "metadata": {},
   "source": [
    "### Plotting YoY Trend of Avg request Response time for each Neighbourhoods"
   ]
  },
  {
   "cell_type": "code",
   "execution_count": 136,
   "id": "186d097a",
   "metadata": {},
   "outputs": [
    {
     "data": {
      "text/html": [
       "<div>\n",
       "<style scoped>\n",
       "    .dataframe tbody tr th:only-of-type {\n",
       "        vertical-align: middle;\n",
       "    }\n",
       "\n",
       "    .dataframe tbody tr th {\n",
       "        vertical-align: top;\n",
       "    }\n",
       "\n",
       "    .dataframe thead th {\n",
       "        text-align: right;\n",
       "    }\n",
       "</style>\n",
       "<table border=\"1\" class=\"dataframe\">\n",
       "  <thead>\n",
       "    <tr style=\"text-align: right;\">\n",
       "      <th></th>\n",
       "      <th>Year</th>\n",
       "      <th>neighbourhood</th>\n",
       "      <th>AvgResponse</th>\n",
       "    </tr>\n",
       "  </thead>\n",
       "  <tbody>\n",
       "    <tr>\n",
       "      <th>0</th>\n",
       "      <td>2008</td>\n",
       "      <td>Allentown</td>\n",
       "      <td>18.573222</td>\n",
       "    </tr>\n",
       "    <tr>\n",
       "      <th>1</th>\n",
       "      <td>2009</td>\n",
       "      <td>Allentown</td>\n",
       "      <td>11.522676</td>\n",
       "    </tr>\n",
       "    <tr>\n",
       "      <th>2</th>\n",
       "      <td>2010</td>\n",
       "      <td>Allentown</td>\n",
       "      <td>14.039349</td>\n",
       "    </tr>\n",
       "    <tr>\n",
       "      <th>3</th>\n",
       "      <td>2011</td>\n",
       "      <td>Allentown</td>\n",
       "      <td>10.206934</td>\n",
       "    </tr>\n",
       "    <tr>\n",
       "      <th>4</th>\n",
       "      <td>2012</td>\n",
       "      <td>Allentown</td>\n",
       "      <td>7.516393</td>\n",
       "    </tr>\n",
       "  </tbody>\n",
       "</table>\n",
       "</div>"
      ],
      "text/plain": [
       "   Year neighbourhood  AvgResponse\n",
       "0  2008     Allentown    18.573222\n",
       "1  2009     Allentown    11.522676\n",
       "2  2010     Allentown    14.039349\n",
       "3  2011     Allentown    10.206934\n",
       "4  2012     Allentown     7.516393"
      ]
     },
     "execution_count": 136,
     "metadata": {},
     "output_type": "execute_result"
    }
   ],
   "source": [
    "# for each neighbourhood \n",
    "\n",
    "df = pd.read_sql_query(\"\"\"SELECT strftime('%Y', DATE(opendate)) AS Year, a.neighbourhood, AVG(JULIANDAY(c.closedate) - JULIANDAY(c.opendate)) AS AvgResponse \n",
    "                FROM CaseDetails c \n",
    "                JOIN Address a\n",
    "                ON a.AddressID = c.AddressID \n",
    "                WHERE c.closedate != 0 \n",
    "                GROUP BY Year, a.neighbourhood\n",
    "                HAVING AvgResponse > 0\n",
    "                ORDER BY neighbourhood, Year;\"\"\", conn)\n",
    "\n",
    "df.head()"
   ]
  },
  {
   "cell_type": "code",
   "execution_count": 137,
   "id": "451343da",
   "metadata": {},
   "outputs": [
    {
     "data": {
      "application/vnd.plotly.v1+json": {
       "config": {
        "plotlyServerURL": "https://plot.ly"
       },
       "data": [
        {
         "hovertemplate": "neighbourhood=Allentown<br>Year=%{x}<br>AvgResponse=%{y}<extra></extra>",
         "legendgroup": "",
         "line": {
          "color": "#636efa",
          "dash": "solid"
         },
         "marker": {
          "symbol": "circle"
         },
         "mode": "lines+markers",
         "name": "",
         "orientation": "v",
         "showlegend": false,
         "type": "scatter",
         "x": [
          "2008",
          "2009",
          "2010",
          "2011",
          "2012",
          "2013",
          "2014",
          "2015",
          "2016",
          "2017",
          "2018",
          "2019",
          "2020",
          "2021",
          "2022"
         ],
         "xaxis": "x",
         "y": [
          18.573221757322177,
          11.522675736961451,
          14.039348710990502,
          10.206933911159263,
          7.516393442622951,
          8.996023856858846,
          8.594728171334431,
          12.415006640106242,
          11.496644295302014,
          8.38921568627451,
          12.555959963603275,
          10.251141552511415,
          11.134419551934826,
          14.225903614457831,
          5.917250159134309
         ],
         "yaxis": "y"
        }
       ],
       "frames": [
        {
         "data": [
          {
           "hovertemplate": "neighbourhood=Allentown<br>Year=%{x}<br>AvgResponse=%{y}<extra></extra>",
           "legendgroup": "",
           "line": {
            "color": "#636efa",
            "dash": "solid"
           },
           "marker": {
            "symbol": "circle"
           },
           "mode": "lines+markers",
           "name": "",
           "orientation": "v",
           "showlegend": false,
           "type": "scatter",
           "x": [
            "2008",
            "2009",
            "2010",
            "2011",
            "2012",
            "2013",
            "2014",
            "2015",
            "2016",
            "2017",
            "2018",
            "2019",
            "2020",
            "2021",
            "2022"
           ],
           "xaxis": "x",
           "y": [
            18.573221757322177,
            11.522675736961451,
            14.039348710990502,
            10.206933911159263,
            7.516393442622951,
            8.996023856858846,
            8.594728171334431,
            12.415006640106242,
            11.496644295302014,
            8.38921568627451,
            12.555959963603275,
            10.251141552511415,
            11.134419551934826,
            14.225903614457831,
            5.917250159134309
           ],
           "yaxis": "y"
          }
         ],
         "name": "Allentown"
        },
        {
         "data": [
          {
           "hovertemplate": "neighbourhood=Black Rock<br>Year=%{x}<br>AvgResponse=%{y}<extra></extra>",
           "legendgroup": "",
           "line": {
            "color": "#636efa",
            "dash": "solid"
           },
           "marker": {
            "symbol": "circle"
           },
           "mode": "lines+markers",
           "name": "",
           "orientation": "v",
           "showlegend": false,
           "type": "scatter",
           "x": [
            "2008",
            "2009",
            "2010",
            "2011",
            "2012",
            "2013",
            "2014",
            "2015",
            "2016",
            "2017",
            "2018",
            "2019",
            "2020",
            "2021",
            "2022"
           ],
           "xaxis": "x",
           "y": [
            23.41176470588235,
            11.722139673105497,
            19.84500745156483,
            13.054086538461538,
            15.193617021276596,
            20.078224101479915,
            8.548680618744314,
            10.674099485420241,
            11.710243902439025,
            11.351089588377723,
            11.55962521294719,
            8.656862745098039,
            11.19909090909091,
            13.395773294908741,
            9.969271290605795
           ],
           "yaxis": "y"
          }
         ],
         "name": "Black Rock"
        },
        {
         "data": [
          {
           "hovertemplate": "neighbourhood=Broadway Fillmore<br>Year=%{x}<br>AvgResponse=%{y}<extra></extra>",
           "legendgroup": "",
           "line": {
            "color": "#636efa",
            "dash": "solid"
           },
           "marker": {
            "symbol": "circle"
           },
           "mode": "lines+markers",
           "name": "",
           "orientation": "v",
           "showlegend": false,
           "type": "scatter",
           "x": [
            "2008",
            "2009",
            "2010",
            "2011",
            "2012",
            "2013",
            "2014",
            "2015",
            "2016",
            "2017",
            "2018",
            "2019",
            "2020",
            "2021",
            "2022"
           ],
           "xaxis": "x",
           "y": [
            32.31982475355969,
            12.534173143929241,
            15.009623797025371,
            11.26038186157518,
            7.467563527653214,
            8.32748049052397,
            9.863044966902534,
            10.014035087719298,
            9.764720314033367,
            8.2671834625323,
            12.415432393693264,
            9.484226339509265,
            11.588109837376699,
            16.921085080147964,
            9.095810705973623
           ],
           "yaxis": "y"
          }
         ],
         "name": "Broadway Fillmore"
        },
        {
         "data": [
          {
           "hovertemplate": "neighbourhood=Central<br>Year=%{x}<br>AvgResponse=%{y}<extra></extra>",
           "legendgroup": "",
           "line": {
            "color": "#636efa",
            "dash": "solid"
           },
           "marker": {
            "symbol": "circle"
           },
           "mode": "lines+markers",
           "name": "",
           "orientation": "v",
           "showlegend": false,
           "type": "scatter",
           "x": [
            "2008",
            "2009",
            "2010",
            "2011",
            "2012",
            "2013",
            "2014",
            "2015",
            "2016",
            "2017",
            "2018",
            "2019",
            "2020",
            "2021",
            "2022"
           ],
           "xaxis": "x",
           "y": [
            19.508064516129032,
            14.822784810126583,
            16.134814814814813,
            13.554669703872438,
            10.94248366013072,
            14.523224043715848,
            10.280137772675086,
            13.020793950850662,
            11.048462255358807,
            8.234297108673978,
            10.461978740801309,
            12.914081145584726,
            18.408791208791207,
            27.066713483146067,
            6.850303951367781
           ],
           "yaxis": "y"
          }
         ],
         "name": "Central"
        },
        {
         "data": [
          {
           "hovertemplate": "neighbourhood=Central Park<br>Year=%{x}<br>AvgResponse=%{y}<extra></extra>",
           "legendgroup": "",
           "line": {
            "color": "#636efa",
            "dash": "solid"
           },
           "marker": {
            "symbol": "circle"
           },
           "mode": "lines+markers",
           "name": "",
           "orientation": "v",
           "showlegend": false,
           "type": "scatter",
           "x": [
            "2008",
            "2009",
            "2010",
            "2011",
            "2012",
            "2013",
            "2014",
            "2015",
            "2016",
            "2017",
            "2018",
            "2019",
            "2020",
            "2021",
            "2022"
           ],
           "xaxis": "x",
           "y": [
            22.392857142857142,
            11.526777020447906,
            22.543505674653215,
            13.107218683651805,
            8,
            10.173752310536045,
            10.053097345132743,
            10.898750821827745,
            10.27944760357433,
            8.25643153526971,
            12.813650306748466,
            9.346239761727476,
            11.596694214876033,
            17.055205047318612,
            7.7231707317073175
           ],
           "yaxis": "y"
          }
         ],
         "name": "Central Park"
        },
        {
         "data": [
          {
           "hovertemplate": "neighbourhood=Delavan Grider<br>Year=%{x}<br>AvgResponse=%{y}<extra></extra>",
           "legendgroup": "",
           "line": {
            "color": "#636efa",
            "dash": "solid"
           },
           "marker": {
            "symbol": "circle"
           },
           "mode": "lines+markers",
           "name": "",
           "orientation": "v",
           "showlegend": false,
           "type": "scatter",
           "x": [
            "2008",
            "2009",
            "2010",
            "2011",
            "2012",
            "2013",
            "2014",
            "2015",
            "2016",
            "2017",
            "2018",
            "2019",
            "2020",
            "2021",
            "2022"
           ],
           "xaxis": "x",
           "y": [
            27.57617728531856,
            13.515219005196734,
            15.866885784716516,
            13.054887218045113,
            10.067758749069249,
            7.58199121522694,
            8.685023505708529,
            8.782418952618453,
            10.961128526645767,
            9.171990171990172,
            14.651720542231491,
            10.055040556199305,
            12.116222760290556,
            16.8076525336091,
            9.519667832167832
           ],
           "yaxis": "y"
          }
         ],
         "name": "Delavan Grider"
        },
        {
         "data": [
          {
           "hovertemplate": "neighbourhood=Ellicott<br>Year=%{x}<br>AvgResponse=%{y}<extra></extra>",
           "legendgroup": "",
           "line": {
            "color": "#636efa",
            "dash": "solid"
           },
           "marker": {
            "symbol": "circle"
           },
           "mode": "lines+markers",
           "name": "",
           "orientation": "v",
           "showlegend": false,
           "type": "scatter",
           "x": [
            "2008",
            "2009",
            "2010",
            "2011",
            "2012",
            "2013",
            "2014",
            "2015",
            "2016",
            "2017",
            "2018",
            "2019",
            "2020",
            "2021",
            "2022"
           ],
           "xaxis": "x",
           "y": [
            24.21212121212121,
            11.67504835589942,
            13.25206611570248,
            11.655378486055778,
            8.722727272727273,
            9.068,
            8.990215264187867,
            10.31081081081081,
            15.41095890410959,
            7.478758169934641,
            11.527670527670528,
            10.811510791366906,
            19.594117647058823,
            16.316912972085387,
            7.906009244992296
           ],
           "yaxis": "y"
          }
         ],
         "name": "Ellicott"
        },
        {
         "data": [
          {
           "hovertemplate": "neighbourhood=Elmwood Bidwell<br>Year=%{x}<br>AvgResponse=%{y}<extra></extra>",
           "legendgroup": "",
           "line": {
            "color": "#636efa",
            "dash": "solid"
           },
           "marker": {
            "symbol": "circle"
           },
           "mode": "lines+markers",
           "name": "",
           "orientation": "v",
           "showlegend": false,
           "type": "scatter",
           "x": [
            "2008",
            "2009",
            "2010",
            "2011",
            "2012",
            "2013",
            "2014",
            "2015",
            "2016",
            "2017",
            "2018",
            "2019",
            "2020",
            "2021",
            "2022"
           ],
           "xaxis": "x",
           "y": [
            19.11919504643963,
            10.685975609756097,
            16.632332563510392,
            12.752638986629135,
            10.346026490066226,
            13.510492332526232,
            9.725372279495991,
            10.793065793065793,
            11.213948787061994,
            8.335443037974683,
            12.6792510742787,
            10.090708661417322,
            14.482917214191852,
            16.633416458852867,
            8.174115913555992
           ],
           "yaxis": "y"
          }
         ],
         "name": "Elmwood Bidwell"
        },
        {
         "data": [
          {
           "hovertemplate": "neighbourhood=Elmwood Bryant<br>Year=%{x}<br>AvgResponse=%{y}<extra></extra>",
           "legendgroup": "",
           "line": {
            "color": "#636efa",
            "dash": "solid"
           },
           "marker": {
            "symbol": "circle"
           },
           "mode": "lines+markers",
           "name": "",
           "orientation": "v",
           "showlegend": false,
           "type": "scatter",
           "x": [
            "2008",
            "2009",
            "2010",
            "2011",
            "2012",
            "2013",
            "2014",
            "2015",
            "2016",
            "2017",
            "2018",
            "2019",
            "2020",
            "2021",
            "2022"
           ],
           "xaxis": "x",
           "y": [
            17.217283950617283,
            13.231846473029046,
            16.105386416861826,
            12.125475285171103,
            8.298291721419185,
            9.430634023854363,
            16.13422131147541,
            13.813667649950835,
            11.383850204798128,
            9.573998839233894,
            12.20932589964521,
            12.449312277126847,
            14.300534759358289,
            13.345156889495225,
            7.295461965393405
           ],
           "yaxis": "y"
          }
         ],
         "name": "Elmwood Bryant"
        },
        {
         "data": [
          {
           "hovertemplate": "neighbourhood=Fillmore-Leroy<br>Year=%{x}<br>AvgResponse=%{y}<extra></extra>",
           "legendgroup": "",
           "line": {
            "color": "#636efa",
            "dash": "solid"
           },
           "marker": {
            "symbol": "circle"
           },
           "mode": "lines+markers",
           "name": "",
           "orientation": "v",
           "showlegend": false,
           "type": "scatter",
           "x": [
            "2008",
            "2009",
            "2010",
            "2011",
            "2012",
            "2013",
            "2014",
            "2015",
            "2016",
            "2017",
            "2018",
            "2019",
            "2020",
            "2021",
            "2022"
           ],
           "xaxis": "x",
           "y": [
            22.568904593639576,
            11.196053469127945,
            12.34942363112392,
            12.204791785510553,
            7.005788712011578,
            7.5211786372007365,
            8.12914485165794,
            8.736426456071076,
            11.479396401625072,
            9.055783910745744,
            14.687398593834505,
            11.600454029511917,
            17.242053789731052,
            18.490888382687928,
            9.73986308583465
           ],
           "yaxis": "y"
          }
         ],
         "name": "Fillmore-Leroy"
        },
        {
         "data": [
          {
           "hovertemplate": "neighbourhood=First Ward<br>Year=%{x}<br>AvgResponse=%{y}<extra></extra>",
           "legendgroup": "",
           "line": {
            "color": "#636efa",
            "dash": "solid"
           },
           "marker": {
            "symbol": "circle"
           },
           "mode": "lines+markers",
           "name": "",
           "orientation": "v",
           "showlegend": false,
           "type": "scatter",
           "x": [
            "2008",
            "2009",
            "2010",
            "2011",
            "2012",
            "2013",
            "2014",
            "2015",
            "2016",
            "2017",
            "2018",
            "2019",
            "2020",
            "2021",
            "2022"
           ],
           "xaxis": "x",
           "y": [
            29.981012658227847,
            11.022222222222222,
            11.750809061488674,
            9.782729805013927,
            7.452690166975882,
            7.738768718801997,
            11.100942126514132,
            13.00944669365722,
            17.73543307086614,
            7.93815987933635,
            12.521481481481482,
            11.862745098039216,
            12.366935483870968,
            13.485021398002853,
            7.811032863849765
           ],
           "yaxis": "y"
          }
         ],
         "name": "First Ward"
        },
        {
         "data": [
          {
           "hovertemplate": "neighbourhood=Fruit Belt<br>Year=%{x}<br>AvgResponse=%{y}<extra></extra>",
           "legendgroup": "",
           "line": {
            "color": "#636efa",
            "dash": "solid"
           },
           "marker": {
            "symbol": "circle"
           },
           "mode": "lines+markers",
           "name": "",
           "orientation": "v",
           "showlegend": false,
           "type": "scatter",
           "x": [
            "2008",
            "2009",
            "2010",
            "2011",
            "2012",
            "2013",
            "2014",
            "2015",
            "2016",
            "2017",
            "2018",
            "2019",
            "2020",
            "2021",
            "2022"
           ],
           "xaxis": "x",
           "y": [
            17.307692307692307,
            11.30326797385621,
            19.864329268292682,
            11.733062330623307,
            7.7232,
            10.230065359477123,
            10.529142857142856,
            13.34341252699784,
            11.45710455764075,
            10.054865424430641,
            12.130348258706467,
            11.675464320625611,
            18.277566539923953,
            18.521064301552105,
            8.53875968992248
           ],
           "yaxis": "y"
          }
         ],
         "name": "Fruit Belt"
        },
        {
         "data": [
          {
           "hovertemplate": "neighbourhood=Genesee-Moselle<br>Year=%{x}<br>AvgResponse=%{y}<extra></extra>",
           "legendgroup": "",
           "line": {
            "color": "#636efa",
            "dash": "solid"
           },
           "marker": {
            "symbol": "circle"
           },
           "mode": "lines+markers",
           "name": "",
           "orientation": "v",
           "showlegend": false,
           "type": "scatter",
           "x": [
            "2008",
            "2009",
            "2010",
            "2011",
            "2012",
            "2013",
            "2014",
            "2015",
            "2016",
            "2017",
            "2018",
            "2019",
            "2020",
            "2021",
            "2022"
           ],
           "xaxis": "x",
           "y": [
            34.57242339832869,
            12.839273705447209,
            14.48504711183941,
            12.247716894977168,
            9.705509314308363,
            9.50478377344049,
            10.780236907730673,
            10.618821292775666,
            12.796102490075786,
            10.060471472497438,
            12.266511782276801,
            9.192359249329758,
            10.668581687612209,
            15.23876063183475,
            10.017352364959418
           ],
           "yaxis": "y"
          }
         ],
         "name": "Genesee-Moselle"
        },
        {
         "data": [
          {
           "hovertemplate": "neighbourhood=Grant-Amherst<br>Year=%{x}<br>AvgResponse=%{y}<extra></extra>",
           "legendgroup": "",
           "line": {
            "color": "#636efa",
            "dash": "solid"
           },
           "marker": {
            "symbol": "circle"
           },
           "mode": "lines+markers",
           "name": "",
           "orientation": "v",
           "showlegend": false,
           "type": "scatter",
           "x": [
            "2008",
            "2009",
            "2010",
            "2011",
            "2012",
            "2013",
            "2014",
            "2015",
            "2016",
            "2017",
            "2018",
            "2019",
            "2020",
            "2021",
            "2022"
           ],
           "xaxis": "x",
           "y": [
            20.050761421319798,
            11.536723163841808,
            17.06650544135429,
            13.614800759013283,
            14.51864406779661,
            15.127705627705629,
            9.792558139534883,
            9.420527441197434,
            10.659420289855072,
            11.741350906095551,
            12.337078651685394,
            11.02356637863315,
            15.958035714285714,
            16.345101500441306,
            10.555383423702557
           ],
           "yaxis": "y"
          }
         ],
         "name": "Grant-Amherst"
        },
        {
         "data": [
          {
           "hovertemplate": "neighbourhood=Hamlin Park<br>Year=%{x}<br>AvgResponse=%{y}<extra></extra>",
           "legendgroup": "",
           "line": {
            "color": "#636efa",
            "dash": "solid"
           },
           "marker": {
            "symbol": "circle"
           },
           "mode": "lines+markers",
           "name": "",
           "orientation": "v",
           "showlegend": false,
           "type": "scatter",
           "x": [
            "2008",
            "2009",
            "2010",
            "2011",
            "2012",
            "2013",
            "2014",
            "2015",
            "2016",
            "2017",
            "2018",
            "2019",
            "2020",
            "2021",
            "2022"
           ],
           "xaxis": "x",
           "y": [
            26.510835913312693,
            10.51979841612671,
            11.837811900191939,
            12.141242937853107,
            6.216957605985037,
            9.654600301659125,
            10.83554376657825,
            8.942942942942944,
            10.68996282527881,
            9.81045751633987,
            10.519447929736511,
            10.97465886939571,
            9.308333333333334,
            13.43796992481203,
            9.329619312906221
           ],
           "yaxis": "y"
          }
         ],
         "name": "Hamlin Park"
        },
        {
         "data": [
          {
           "hovertemplate": "neighbourhood=Hopkins-Tifft<br>Year=%{x}<br>AvgResponse=%{y}<extra></extra>",
           "legendgroup": "",
           "line": {
            "color": "#636efa",
            "dash": "solid"
           },
           "marker": {
            "symbol": "circle"
           },
           "mode": "lines+markers",
           "name": "",
           "orientation": "v",
           "showlegend": false,
           "type": "scatter",
           "x": [
            "2008",
            "2009",
            "2010",
            "2011",
            "2012",
            "2013",
            "2014",
            "2015",
            "2016",
            "2017",
            "2018",
            "2019",
            "2020",
            "2021",
            "2022"
           ],
           "xaxis": "x",
           "y": [
            22.261306532663315,
            9.991339107261826,
            13.481361426256077,
            13.011965811965812,
            8.216623036649215,
            7.340136054421769,
            9.561132561132561,
            9.59665006790403,
            9.54514563106796,
            11.358669833729216,
            16.90675084992715,
            10.840873634945398,
            11.58635265700483,
            13.361952861952862,
            8.655440414507773
           ],
           "yaxis": "y"
          }
         ],
         "name": "Hopkins-Tifft"
        },
        {
         "data": [
          {
           "hovertemplate": "neighbourhood=Kaisertown<br>Year=%{x}<br>AvgResponse=%{y}<extra></extra>",
           "legendgroup": "",
           "line": {
            "color": "#636efa",
            "dash": "solid"
           },
           "marker": {
            "symbol": "circle"
           },
           "mode": "lines+markers",
           "name": "",
           "orientation": "v",
           "showlegend": false,
           "type": "scatter",
           "x": [
            "2008",
            "2009",
            "2010",
            "2011",
            "2012",
            "2013",
            "2014",
            "2015",
            "2016",
            "2017",
            "2018",
            "2019",
            "2020",
            "2021",
            "2022"
           ],
           "xaxis": "x",
           "y": [
            22.03267973856209,
            11.914512922465208,
            13.694208494208494,
            13.91562729273661,
            9.582517482517483,
            10.405448717948717,
            13.76875,
            17.506501182033098,
            14.619463087248322,
            8.603518267929635,
            14.126050420168067,
            9.886017229953612,
            13.143133462282398,
            13.976891969959562,
            9.108538350217076
           ],
           "yaxis": "y"
          }
         ],
         "name": "Kaisertown"
        },
        {
         "data": [
          {
           "hovertemplate": "neighbourhood=Kenfield<br>Year=%{x}<br>AvgResponse=%{y}<extra></extra>",
           "legendgroup": "",
           "line": {
            "color": "#636efa",
            "dash": "solid"
           },
           "marker": {
            "symbol": "circle"
           },
           "mode": "lines+markers",
           "name": "",
           "orientation": "v",
           "showlegend": false,
           "type": "scatter",
           "x": [
            "2008",
            "2009",
            "2010",
            "2011",
            "2012",
            "2013",
            "2014",
            "2015",
            "2016",
            "2017",
            "2018",
            "2019",
            "2020",
            "2021",
            "2022"
           ],
           "xaxis": "x",
           "y": [
            24.06713780918728,
            12.653875094055682,
            16.233333333333334,
            14.04726368159204,
            12.705364995602462,
            13.050221565731167,
            7.697570332480819,
            8.906215316315205,
            12.240957150806901,
            10.416857798165138,
            12.695787831513261,
            12.599031216361679,
            13.088346883468835,
            17.3486328125,
            10.451203501094092
           ],
           "yaxis": "y"
          }
         ],
         "name": "Kenfield"
        },
        {
         "data": [
          {
           "hovertemplate": "neighbourhood=Kensington-Bailey<br>Year=%{x}<br>AvgResponse=%{y}<extra></extra>",
           "legendgroup": "",
           "line": {
            "color": "#636efa",
            "dash": "solid"
           },
           "marker": {
            "symbol": "circle"
           },
           "mode": "lines+markers",
           "name": "",
           "orientation": "v",
           "showlegend": false,
           "type": "scatter",
           "x": [
            "2008",
            "2009",
            "2010",
            "2011",
            "2012",
            "2013",
            "2014",
            "2015",
            "2016",
            "2017",
            "2018",
            "2019",
            "2020",
            "2021",
            "2022"
           ],
           "xaxis": "x",
           "y": [
            25.304,
            12.151493342929111,
            15.117403885903267,
            13.615549982085273,
            9.85921568627451,
            10.906601650412604,
            10.526607197785296,
            11.324649298597194,
            12.579376638508593,
            10.060112525910572,
            14.977910602910603,
            9.823375945734412,
            11.087651598676956,
            14.253410283315844,
            9.0104141438605
           ],
           "yaxis": "y"
          }
         ],
         "name": "Kensington-Bailey"
        },
        {
         "data": [
          {
           "hovertemplate": "neighbourhood=Lovejoy<br>Year=%{x}<br>AvgResponse=%{y}<extra></extra>",
           "legendgroup": "",
           "line": {
            "color": "#636efa",
            "dash": "solid"
           },
           "marker": {
            "symbol": "circle"
           },
           "mode": "lines+markers",
           "name": "",
           "orientation": "v",
           "showlegend": false,
           "type": "scatter",
           "x": [
            "2008",
            "2009",
            "2010",
            "2011",
            "2012",
            "2013",
            "2014",
            "2015",
            "2016",
            "2017",
            "2018",
            "2019",
            "2020",
            "2021",
            "2022"
           ],
           "xaxis": "x",
           "y": [
            27.815,
            12.158285714285714,
            14.330513988288875,
            15.130187606594657,
            10.079761904761904,
            8.28518321826872,
            10.484741264927024,
            9.466168224299066,
            8.846585998271392,
            8.794272795779955,
            10.736221837088388,
            7.919083969465649,
            7.516078431372549,
            12.496442932261058,
            9.934839554682384
           ],
           "yaxis": "y"
          }
         ],
         "name": "Lovejoy"
        },
        {
         "data": [
          {
           "hovertemplate": "neighbourhood=Lower West Side<br>Year=%{x}<br>AvgResponse=%{y}<extra></extra>",
           "legendgroup": "",
           "line": {
            "color": "#636efa",
            "dash": "solid"
           },
           "marker": {
            "symbol": "circle"
           },
           "mode": "lines+markers",
           "name": "",
           "orientation": "v",
           "showlegend": false,
           "type": "scatter",
           "x": [
            "2008",
            "2009",
            "2010",
            "2011",
            "2012",
            "2013",
            "2014",
            "2015",
            "2016",
            "2017",
            "2018",
            "2019",
            "2020",
            "2021",
            "2022"
           ],
           "xaxis": "x",
           "y": [
            20.69747899159664,
            11.228205128205127,
            14.031420765027322,
            10.700340522133938,
            7.132425742574258,
            10.501710376282782,
            11.738683127572017,
            10.857979502196192,
            12.86565752128666,
            8.591880341880342,
            10.771739130434783,
            8.777580071174377,
            11.373469387755103,
            13.737080689029918,
            7.03211351755041
           ],
           "yaxis": "y"
          }
         ],
         "name": "Lower West Side"
        },
        {
         "data": [
          {
           "hovertemplate": "neighbourhood=MLK Park<br>Year=%{x}<br>AvgResponse=%{y}<extra></extra>",
           "legendgroup": "",
           "line": {
            "color": "#636efa",
            "dash": "solid"
           },
           "marker": {
            "symbol": "circle"
           },
           "mode": "lines+markers",
           "name": "",
           "orientation": "v",
           "showlegend": false,
           "type": "scatter",
           "x": [
            "2008",
            "2009",
            "2010",
            "2011",
            "2012",
            "2013",
            "2014",
            "2015",
            "2016",
            "2017",
            "2018",
            "2019",
            "2020",
            "2021",
            "2022"
           ],
           "xaxis": "x",
           "y": [
            31.042345276872965,
            13.999092558983666,
            16.249559082892418,
            14.498299319727892,
            9.763901549680948,
            8.271272114574558,
            10.01015625,
            9.632941176470588,
            9.531415594246782,
            8.283118849356548,
            12.239669421487603,
            9.77261998426436,
            13.577235772357724,
            16.907608695652176,
            9.614391143911439
           ],
           "yaxis": "y"
          }
         ],
         "name": "MLK Park"
        },
        {
         "data": [
          {
           "hovertemplate": "neighbourhood=Masten Park<br>Year=%{x}<br>AvgResponse=%{y}<extra></extra>",
           "legendgroup": "",
           "line": {
            "color": "#636efa",
            "dash": "solid"
           },
           "marker": {
            "symbol": "circle"
           },
           "mode": "lines+markers",
           "name": "",
           "orientation": "v",
           "showlegend": false,
           "type": "scatter",
           "x": [
            "2008",
            "2009",
            "2010",
            "2011",
            "2012",
            "2013",
            "2014",
            "2015",
            "2016",
            "2017",
            "2018",
            "2019",
            "2020",
            "2021",
            "2022"
           ],
           "xaxis": "x",
           "y": [
            22.416666666666668,
            14.025343189017951,
            16.799881235154395,
            13.986906710310965,
            8.566528066528067,
            11.77936507936508,
            10.72194388777555,
            8.158249158249157,
            9.696677900818488,
            9.015094339622642,
            10.602828282828282,
            8.865807429871115,
            10.380102040816327,
            12.010736196319018,
            8.664998331664998
           ],
           "yaxis": "y"
          }
         ],
         "name": "Masten Park"
        },
        {
         "data": [
          {
           "hovertemplate": "neighbourhood=North Park<br>Year=%{x}<br>AvgResponse=%{y}<extra></extra>",
           "legendgroup": "",
           "line": {
            "color": "#636efa",
            "dash": "solid"
           },
           "marker": {
            "symbol": "circle"
           },
           "mode": "lines+markers",
           "name": "",
           "orientation": "v",
           "showlegend": false,
           "type": "scatter",
           "x": [
            "2008",
            "2009",
            "2010",
            "2011",
            "2012",
            "2013",
            "2014",
            "2015",
            "2016",
            "2017",
            "2018",
            "2019",
            "2020",
            "2021",
            "2022"
           ],
           "xaxis": "x",
           "y": [
            23.482412060301506,
            10.526333445152634,
            17.40536456365697,
            11.42184017828717,
            8.353930766742154,
            8.937276568085798,
            13.320080668395276,
            11.308699719363892,
            10.96995956094743,
            9.04699886749717,
            12.8645,
            9.302031126351887,
            11.212279177526788,
            15.885307547676605,
            7.882339289858436
           ],
           "yaxis": "y"
          }
         ],
         "name": "North Park"
        },
        {
         "data": [
          {
           "hovertemplate": "neighbourhood=Parkside<br>Year=%{x}<br>AvgResponse=%{y}<extra></extra>",
           "legendgroup": "",
           "line": {
            "color": "#636efa",
            "dash": "solid"
           },
           "marker": {
            "symbol": "circle"
           },
           "mode": "lines+markers",
           "name": "",
           "orientation": "v",
           "showlegend": false,
           "type": "scatter",
           "x": [
            "2008",
            "2009",
            "2010",
            "2011",
            "2012",
            "2013",
            "2014",
            "2015",
            "2016",
            "2017",
            "2018",
            "2019",
            "2020",
            "2021",
            "2022"
           ],
           "xaxis": "x",
           "y": [
            19.210365853658537,
            11.415557112824107,
            15.324324324324325,
            12.414148857774503,
            9.03690036900369,
            9.950757575757576,
            11.219888820259419,
            10.1591770438549,
            11.419318181818182,
            9.64027149321267,
            13.51113525258012,
            11.825186889016676,
            14.716852540272615,
            16.806508875739645,
            9.202473660100779
           ],
           "yaxis": "y"
          }
         ],
         "name": "Parkside"
        },
        {
         "data": [
          {
           "hovertemplate": "neighbourhood=Pratt-Willert<br>Year=%{x}<br>AvgResponse=%{y}<extra></extra>",
           "legendgroup": "",
           "line": {
            "color": "#636efa",
            "dash": "solid"
           },
           "marker": {
            "symbol": "circle"
           },
           "mode": "lines+markers",
           "name": "",
           "orientation": "v",
           "showlegend": false,
           "type": "scatter",
           "x": [
            "2008",
            "2009",
            "2010",
            "2011",
            "2012",
            "2013",
            "2014",
            "2015",
            "2016",
            "2017",
            "2018",
            "2019",
            "2020",
            "2021",
            "2022"
           ],
           "xaxis": "x",
           "y": [
            27.601626016260163,
            12.273809523809524,
            14.941379310344828,
            13.99405646359584,
            7.8668885191347755,
            9.278145695364238,
            12.505882352941176,
            13.76318874560375,
            12.668965517241379,
            8.567532467532468,
            13.120347394540943,
            14.194252873563219,
            14.234718826405867,
            21.352941176470587,
            11.929672447013488
           ],
           "yaxis": "y"
          }
         ],
         "name": "Pratt-Willert"
        },
        {
         "data": [
          {
           "hovertemplate": "neighbourhood=Riverside<br>Year=%{x}<br>AvgResponse=%{y}<extra></extra>",
           "legendgroup": "",
           "line": {
            "color": "#636efa",
            "dash": "solid"
           },
           "marker": {
            "symbol": "circle"
           },
           "mode": "lines+markers",
           "name": "",
           "orientation": "v",
           "showlegend": false,
           "type": "scatter",
           "x": [
            "2008",
            "2009",
            "2010",
            "2011",
            "2012",
            "2013",
            "2014",
            "2015",
            "2016",
            "2017",
            "2018",
            "2019",
            "2020",
            "2021",
            "2022"
           ],
           "xaxis": "x",
           "y": [
            23.014492753623188,
            13.772222222222222,
            20.566204986149586,
            18.257434944237918,
            12.268951194184838,
            12.084600760456274,
            10.694583333333334,
            9.672642762284196,
            12.242994241842611,
            13.761611030478955,
            13.330980945659844,
            11.696130346232179,
            11.883876029815614,
            15.709126213592233,
            10.422636103151863
           ],
           "yaxis": "y"
          }
         ],
         "name": "Riverside"
        },
        {
         "data": [
          {
           "hovertemplate": "neighbourhood=Schiller Park<br>Year=%{x}<br>AvgResponse=%{y}<extra></extra>",
           "legendgroup": "",
           "line": {
            "color": "#636efa",
            "dash": "solid"
           },
           "marker": {
            "symbol": "circle"
           },
           "mode": "lines+markers",
           "name": "",
           "orientation": "v",
           "showlegend": false,
           "type": "scatter",
           "x": [
            "2008",
            "2009",
            "2010",
            "2011",
            "2012",
            "2013",
            "2014",
            "2015",
            "2016",
            "2017",
            "2018",
            "2019",
            "2020",
            "2021",
            "2022"
           ],
           "xaxis": "x",
           "y": [
            26.923217550274224,
            14.11105476673428,
            15.859223300970873,
            15.130882352941176,
            13.692629377940408,
            12.383535108958839,
            12.207121146330874,
            16.16423746889442,
            15.636363636363637,
            13.104512148091015,
            15.701323251417769,
            10.185941828254848,
            12.709084604715672,
            15.172823642788307,
            9.695417022487902
           ],
           "yaxis": "y"
          }
         ],
         "name": "Schiller Park"
        },
        {
         "data": [
          {
           "hovertemplate": "neighbourhood=Seneca Babcock<br>Year=%{x}<br>AvgResponse=%{y}<extra></extra>",
           "legendgroup": "",
           "line": {
            "color": "#636efa",
            "dash": "solid"
           },
           "marker": {
            "symbol": "circle"
           },
           "mode": "lines+markers",
           "name": "",
           "orientation": "v",
           "showlegend": false,
           "type": "scatter",
           "x": [
            "2008",
            "2009",
            "2010",
            "2011",
            "2012",
            "2013",
            "2014",
            "2015",
            "2016",
            "2017",
            "2018",
            "2019",
            "2020",
            "2021",
            "2022"
           ],
           "xaxis": "x",
           "y": [
            30.873831775700936,
            12.251524390243903,
            13.967310549777118,
            13.295148247978437,
            9.205843293492697,
            8.686868686868687,
            9.553591160220995,
            8.623539982030549,
            7.175,
            6.787460148777896,
            11.97,
            8.942652329749103,
            9.231364956437561,
            17.802458296751535,
            10.408112582781458
           ],
           "yaxis": "y"
          }
         ],
         "name": "Seneca Babcock"
        },
        {
         "data": [
          {
           "hovertemplate": "neighbourhood=Seneca-Cazenovia<br>Year=%{x}<br>AvgResponse=%{y}<extra></extra>",
           "legendgroup": "",
           "line": {
            "color": "#636efa",
            "dash": "solid"
           },
           "marker": {
            "symbol": "circle"
           },
           "mode": "lines+markers",
           "name": "",
           "orientation": "v",
           "showlegend": false,
           "type": "scatter",
           "x": [
            "2008",
            "2009",
            "2010",
            "2011",
            "2012",
            "2013",
            "2014",
            "2015",
            "2016",
            "2017",
            "2018",
            "2019",
            "2020",
            "2021",
            "2022"
           ],
           "xaxis": "x",
           "y": [
            24.537974683544302,
            12.28554070473876,
            15.773177842565598,
            13.293004587155963,
            11.460382513661202,
            10.389261744966444,
            11.645853193517636,
            17.57555254848895,
            14.015824400204187,
            8.501756146512795,
            15.74272076372315,
            11.828760162601625,
            11.824765063571034,
            13.838363171355498,
            8.024411895250777
           ],
           "yaxis": "y"
          }
         ],
         "name": "Seneca-Cazenovia"
        },
        {
         "data": [
          {
           "hovertemplate": "neighbourhood=South Park<br>Year=%{x}<br>AvgResponse=%{y}<extra></extra>",
           "legendgroup": "",
           "line": {
            "color": "#636efa",
            "dash": "solid"
           },
           "marker": {
            "symbol": "circle"
           },
           "mode": "lines+markers",
           "name": "",
           "orientation": "v",
           "showlegend": false,
           "type": "scatter",
           "x": [
            "2008",
            "2009",
            "2010",
            "2011",
            "2012",
            "2013",
            "2014",
            "2015",
            "2016",
            "2017",
            "2018",
            "2019",
            "2020",
            "2021",
            "2022"
           ],
           "xaxis": "x",
           "y": [
            17.70886075949367,
            9.627972591696896,
            14.685243603224675,
            14.371332209106239,
            8.31339251254342,
            7.825378346915017,
            10.808956916099774,
            9.777565502183407,
            9.834816132858837,
            9.630754776072658,
            14.744373918061166,
            10.256242197253433,
            10.567721518987343,
            11.89139344262295,
            7.539423916205994
           ],
           "yaxis": "y"
          }
         ],
         "name": "South Park"
        },
        {
         "data": [
          {
           "hovertemplate": "neighbourhood=University Heights<br>Year=%{x}<br>AvgResponse=%{y}<extra></extra>",
           "legendgroup": "",
           "line": {
            "color": "#636efa",
            "dash": "solid"
           },
           "marker": {
            "symbol": "circle"
           },
           "mode": "lines+markers",
           "name": "",
           "orientation": "v",
           "showlegend": false,
           "type": "scatter",
           "x": [
            "2008",
            "2009",
            "2010",
            "2011",
            "2012",
            "2013",
            "2014",
            "2015",
            "2016",
            "2017",
            "2018",
            "2019",
            "2020",
            "2021",
            "2022"
           ],
           "xaxis": "x",
           "y": [
            23.50563909774436,
            11.747672253258845,
            16.711316397228636,
            12.005555555555556,
            10.9,
            12.57993278924628,
            12.60678391959799,
            12.839088643645425,
            13.69704433497537,
            8.515454941227688,
            12.940715883668904,
            9.515661707126077,
            13.277191558441558,
            15.52041884816754,
            7.540424223793422
           ],
           "yaxis": "y"
          }
         ],
         "name": "University Heights"
        },
        {
         "data": [
          {
           "hovertemplate": "neighbourhood=Upper West Side<br>Year=%{x}<br>AvgResponse=%{y}<extra></extra>",
           "legendgroup": "",
           "line": {
            "color": "#636efa",
            "dash": "solid"
           },
           "marker": {
            "symbol": "circle"
           },
           "mode": "lines+markers",
           "name": "",
           "orientation": "v",
           "showlegend": false,
           "type": "scatter",
           "x": [
            "2008",
            "2009",
            "2010",
            "2011",
            "2012",
            "2013",
            "2014",
            "2015",
            "2016",
            "2017",
            "2018",
            "2019",
            "2020",
            "2021",
            "2022"
           ],
           "xaxis": "x",
           "y": [
            23.26876090750436,
            9.853646833013435,
            13.684574468085106,
            10.915844155844155,
            9.777606574216744,
            11.53811206461383,
            12.697799730579254,
            8.787416232315712,
            11.806255430060817,
            9.907415345049293,
            12.40268456375839,
            12.943956503554999,
            11.656419529837251,
            15.120519889720363,
            7.222872996300863
           ],
           "yaxis": "y"
          }
         ],
         "name": "Upper West Side"
        },
        {
         "data": [
          {
           "hovertemplate": "neighbourhood=West Hertel<br>Year=%{x}<br>AvgResponse=%{y}<extra></extra>",
           "legendgroup": "",
           "line": {
            "color": "#636efa",
            "dash": "solid"
           },
           "marker": {
            "symbol": "circle"
           },
           "mode": "lines+markers",
           "name": "",
           "orientation": "v",
           "showlegend": false,
           "type": "scatter",
           "x": [
            "2008",
            "2009",
            "2010",
            "2011",
            "2012",
            "2013",
            "2014",
            "2015",
            "2016",
            "2017",
            "2018",
            "2019",
            "2020",
            "2021",
            "2022"
           ],
           "xaxis": "x",
           "y": [
            22.476190476190474,
            15.516233766233766,
            18.494718309859156,
            17.3121387283237,
            11.226138032305434,
            10.27061855670103,
            12.524064171122994,
            10.636363636363637,
            11.460336538461538,
            14.758397932816537,
            16.673743016759776,
            10.818770226537216,
            12.468911917098445,
            21.51199040767386,
            11.048697621744054
           ],
           "yaxis": "y"
          }
         ],
         "name": "West Hertel"
        },
        {
         "data": [
          {
           "hovertemplate": "neighbourhood=West Side<br>Year=%{x}<br>AvgResponse=%{y}<extra></extra>",
           "legendgroup": "",
           "line": {
            "color": "#636efa",
            "dash": "solid"
           },
           "marker": {
            "symbol": "circle"
           },
           "mode": "lines+markers",
           "name": "",
           "orientation": "v",
           "showlegend": false,
           "type": "scatter",
           "x": [
            "2008",
            "2009",
            "2010",
            "2011",
            "2012",
            "2013",
            "2014",
            "2015",
            "2016",
            "2017",
            "2018",
            "2019",
            "2020",
            "2021",
            "2022"
           ],
           "xaxis": "x",
           "y": [
            26.78181818181818,
            14.448846539618856,
            16.62138905961893,
            11.394426580921758,
            8.022515101592532,
            8.664082687338501,
            14.152380952380952,
            12.864420377055756,
            12.929792147806005,
            10.305409286740067,
            12.402859545836838,
            12.470948012232416,
            11.632470588235295,
            17.406306306306305,
            6.489925768822905
           ],
           "yaxis": "y"
          }
         ],
         "name": "West Side"
        }
       ],
       "layout": {
        "height": 600,
        "legend": {
         "tracegroupgap": 0
        },
        "sliders": [
         {
          "active": 0,
          "currentvalue": {
           "prefix": "neighbourhood="
          },
          "len": 0.9,
          "pad": {
           "b": 10,
           "t": 60
          },
          "steps": [
           {
            "args": [
             [
              "Allentown"
             ],
             {
              "frame": {
               "duration": 0,
               "redraw": false
              },
              "fromcurrent": true,
              "mode": "immediate",
              "transition": {
               "duration": 0,
               "easing": "linear"
              }
             }
            ],
            "label": "Allentown",
            "method": "animate"
           },
           {
            "args": [
             [
              "Black Rock"
             ],
             {
              "frame": {
               "duration": 0,
               "redraw": false
              },
              "fromcurrent": true,
              "mode": "immediate",
              "transition": {
               "duration": 0,
               "easing": "linear"
              }
             }
            ],
            "label": "Black Rock",
            "method": "animate"
           },
           {
            "args": [
             [
              "Broadway Fillmore"
             ],
             {
              "frame": {
               "duration": 0,
               "redraw": false
              },
              "fromcurrent": true,
              "mode": "immediate",
              "transition": {
               "duration": 0,
               "easing": "linear"
              }
             }
            ],
            "label": "Broadway Fillmore",
            "method": "animate"
           },
           {
            "args": [
             [
              "Central"
             ],
             {
              "frame": {
               "duration": 0,
               "redraw": false
              },
              "fromcurrent": true,
              "mode": "immediate",
              "transition": {
               "duration": 0,
               "easing": "linear"
              }
             }
            ],
            "label": "Central",
            "method": "animate"
           },
           {
            "args": [
             [
              "Central Park"
             ],
             {
              "frame": {
               "duration": 0,
               "redraw": false
              },
              "fromcurrent": true,
              "mode": "immediate",
              "transition": {
               "duration": 0,
               "easing": "linear"
              }
             }
            ],
            "label": "Central Park",
            "method": "animate"
           },
           {
            "args": [
             [
              "Delavan Grider"
             ],
             {
              "frame": {
               "duration": 0,
               "redraw": false
              },
              "fromcurrent": true,
              "mode": "immediate",
              "transition": {
               "duration": 0,
               "easing": "linear"
              }
             }
            ],
            "label": "Delavan Grider",
            "method": "animate"
           },
           {
            "args": [
             [
              "Ellicott"
             ],
             {
              "frame": {
               "duration": 0,
               "redraw": false
              },
              "fromcurrent": true,
              "mode": "immediate",
              "transition": {
               "duration": 0,
               "easing": "linear"
              }
             }
            ],
            "label": "Ellicott",
            "method": "animate"
           },
           {
            "args": [
             [
              "Elmwood Bidwell"
             ],
             {
              "frame": {
               "duration": 0,
               "redraw": false
              },
              "fromcurrent": true,
              "mode": "immediate",
              "transition": {
               "duration": 0,
               "easing": "linear"
              }
             }
            ],
            "label": "Elmwood Bidwell",
            "method": "animate"
           },
           {
            "args": [
             [
              "Elmwood Bryant"
             ],
             {
              "frame": {
               "duration": 0,
               "redraw": false
              },
              "fromcurrent": true,
              "mode": "immediate",
              "transition": {
               "duration": 0,
               "easing": "linear"
              }
             }
            ],
            "label": "Elmwood Bryant",
            "method": "animate"
           },
           {
            "args": [
             [
              "Fillmore-Leroy"
             ],
             {
              "frame": {
               "duration": 0,
               "redraw": false
              },
              "fromcurrent": true,
              "mode": "immediate",
              "transition": {
               "duration": 0,
               "easing": "linear"
              }
             }
            ],
            "label": "Fillmore-Leroy",
            "method": "animate"
           },
           {
            "args": [
             [
              "First Ward"
             ],
             {
              "frame": {
               "duration": 0,
               "redraw": false
              },
              "fromcurrent": true,
              "mode": "immediate",
              "transition": {
               "duration": 0,
               "easing": "linear"
              }
             }
            ],
            "label": "First Ward",
            "method": "animate"
           },
           {
            "args": [
             [
              "Fruit Belt"
             ],
             {
              "frame": {
               "duration": 0,
               "redraw": false
              },
              "fromcurrent": true,
              "mode": "immediate",
              "transition": {
               "duration": 0,
               "easing": "linear"
              }
             }
            ],
            "label": "Fruit Belt",
            "method": "animate"
           },
           {
            "args": [
             [
              "Genesee-Moselle"
             ],
             {
              "frame": {
               "duration": 0,
               "redraw": false
              },
              "fromcurrent": true,
              "mode": "immediate",
              "transition": {
               "duration": 0,
               "easing": "linear"
              }
             }
            ],
            "label": "Genesee-Moselle",
            "method": "animate"
           },
           {
            "args": [
             [
              "Grant-Amherst"
             ],
             {
              "frame": {
               "duration": 0,
               "redraw": false
              },
              "fromcurrent": true,
              "mode": "immediate",
              "transition": {
               "duration": 0,
               "easing": "linear"
              }
             }
            ],
            "label": "Grant-Amherst",
            "method": "animate"
           },
           {
            "args": [
             [
              "Hamlin Park"
             ],
             {
              "frame": {
               "duration": 0,
               "redraw": false
              },
              "fromcurrent": true,
              "mode": "immediate",
              "transition": {
               "duration": 0,
               "easing": "linear"
              }
             }
            ],
            "label": "Hamlin Park",
            "method": "animate"
           },
           {
            "args": [
             [
              "Hopkins-Tifft"
             ],
             {
              "frame": {
               "duration": 0,
               "redraw": false
              },
              "fromcurrent": true,
              "mode": "immediate",
              "transition": {
               "duration": 0,
               "easing": "linear"
              }
             }
            ],
            "label": "Hopkins-Tifft",
            "method": "animate"
           },
           {
            "args": [
             [
              "Kaisertown"
             ],
             {
              "frame": {
               "duration": 0,
               "redraw": false
              },
              "fromcurrent": true,
              "mode": "immediate",
              "transition": {
               "duration": 0,
               "easing": "linear"
              }
             }
            ],
            "label": "Kaisertown",
            "method": "animate"
           },
           {
            "args": [
             [
              "Kenfield"
             ],
             {
              "frame": {
               "duration": 0,
               "redraw": false
              },
              "fromcurrent": true,
              "mode": "immediate",
              "transition": {
               "duration": 0,
               "easing": "linear"
              }
             }
            ],
            "label": "Kenfield",
            "method": "animate"
           },
           {
            "args": [
             [
              "Kensington-Bailey"
             ],
             {
              "frame": {
               "duration": 0,
               "redraw": false
              },
              "fromcurrent": true,
              "mode": "immediate",
              "transition": {
               "duration": 0,
               "easing": "linear"
              }
             }
            ],
            "label": "Kensington-Bailey",
            "method": "animate"
           },
           {
            "args": [
             [
              "Lovejoy"
             ],
             {
              "frame": {
               "duration": 0,
               "redraw": false
              },
              "fromcurrent": true,
              "mode": "immediate",
              "transition": {
               "duration": 0,
               "easing": "linear"
              }
             }
            ],
            "label": "Lovejoy",
            "method": "animate"
           },
           {
            "args": [
             [
              "Lower West Side"
             ],
             {
              "frame": {
               "duration": 0,
               "redraw": false
              },
              "fromcurrent": true,
              "mode": "immediate",
              "transition": {
               "duration": 0,
               "easing": "linear"
              }
             }
            ],
            "label": "Lower West Side",
            "method": "animate"
           },
           {
            "args": [
             [
              "MLK Park"
             ],
             {
              "frame": {
               "duration": 0,
               "redraw": false
              },
              "fromcurrent": true,
              "mode": "immediate",
              "transition": {
               "duration": 0,
               "easing": "linear"
              }
             }
            ],
            "label": "MLK Park",
            "method": "animate"
           },
           {
            "args": [
             [
              "Masten Park"
             ],
             {
              "frame": {
               "duration": 0,
               "redraw": false
              },
              "fromcurrent": true,
              "mode": "immediate",
              "transition": {
               "duration": 0,
               "easing": "linear"
              }
             }
            ],
            "label": "Masten Park",
            "method": "animate"
           },
           {
            "args": [
             [
              "North Park"
             ],
             {
              "frame": {
               "duration": 0,
               "redraw": false
              },
              "fromcurrent": true,
              "mode": "immediate",
              "transition": {
               "duration": 0,
               "easing": "linear"
              }
             }
            ],
            "label": "North Park",
            "method": "animate"
           },
           {
            "args": [
             [
              "Parkside"
             ],
             {
              "frame": {
               "duration": 0,
               "redraw": false
              },
              "fromcurrent": true,
              "mode": "immediate",
              "transition": {
               "duration": 0,
               "easing": "linear"
              }
             }
            ],
            "label": "Parkside",
            "method": "animate"
           },
           {
            "args": [
             [
              "Pratt-Willert"
             ],
             {
              "frame": {
               "duration": 0,
               "redraw": false
              },
              "fromcurrent": true,
              "mode": "immediate",
              "transition": {
               "duration": 0,
               "easing": "linear"
              }
             }
            ],
            "label": "Pratt-Willert",
            "method": "animate"
           },
           {
            "args": [
             [
              "Riverside"
             ],
             {
              "frame": {
               "duration": 0,
               "redraw": false
              },
              "fromcurrent": true,
              "mode": "immediate",
              "transition": {
               "duration": 0,
               "easing": "linear"
              }
             }
            ],
            "label": "Riverside",
            "method": "animate"
           },
           {
            "args": [
             [
              "Schiller Park"
             ],
             {
              "frame": {
               "duration": 0,
               "redraw": false
              },
              "fromcurrent": true,
              "mode": "immediate",
              "transition": {
               "duration": 0,
               "easing": "linear"
              }
             }
            ],
            "label": "Schiller Park",
            "method": "animate"
           },
           {
            "args": [
             [
              "Seneca Babcock"
             ],
             {
              "frame": {
               "duration": 0,
               "redraw": false
              },
              "fromcurrent": true,
              "mode": "immediate",
              "transition": {
               "duration": 0,
               "easing": "linear"
              }
             }
            ],
            "label": "Seneca Babcock",
            "method": "animate"
           },
           {
            "args": [
             [
              "Seneca-Cazenovia"
             ],
             {
              "frame": {
               "duration": 0,
               "redraw": false
              },
              "fromcurrent": true,
              "mode": "immediate",
              "transition": {
               "duration": 0,
               "easing": "linear"
              }
             }
            ],
            "label": "Seneca-Cazenovia",
            "method": "animate"
           },
           {
            "args": [
             [
              "South Park"
             ],
             {
              "frame": {
               "duration": 0,
               "redraw": false
              },
              "fromcurrent": true,
              "mode": "immediate",
              "transition": {
               "duration": 0,
               "easing": "linear"
              }
             }
            ],
            "label": "South Park",
            "method": "animate"
           },
           {
            "args": [
             [
              "University Heights"
             ],
             {
              "frame": {
               "duration": 0,
               "redraw": false
              },
              "fromcurrent": true,
              "mode": "immediate",
              "transition": {
               "duration": 0,
               "easing": "linear"
              }
             }
            ],
            "label": "University Heights",
            "method": "animate"
           },
           {
            "args": [
             [
              "Upper West Side"
             ],
             {
              "frame": {
               "duration": 0,
               "redraw": false
              },
              "fromcurrent": true,
              "mode": "immediate",
              "transition": {
               "duration": 0,
               "easing": "linear"
              }
             }
            ],
            "label": "Upper West Side",
            "method": "animate"
           },
           {
            "args": [
             [
              "West Hertel"
             ],
             {
              "frame": {
               "duration": 0,
               "redraw": false
              },
              "fromcurrent": true,
              "mode": "immediate",
              "transition": {
               "duration": 0,
               "easing": "linear"
              }
             }
            ],
            "label": "West Hertel",
            "method": "animate"
           },
           {
            "args": [
             [
              "West Side"
             ],
             {
              "frame": {
               "duration": 0,
               "redraw": false
              },
              "fromcurrent": true,
              "mode": "immediate",
              "transition": {
               "duration": 0,
               "easing": "linear"
              }
             }
            ],
            "label": "West Side",
            "method": "animate"
           }
          ],
          "x": 0.1,
          "xanchor": "left",
          "y": 0,
          "yanchor": "top"
         }
        ],
        "template": {
         "data": {
          "bar": [
           {
            "error_x": {
             "color": "#2a3f5f"
            },
            "error_y": {
             "color": "#2a3f5f"
            },
            "marker": {
             "line": {
              "color": "#E5ECF6",
              "width": 0.5
             },
             "pattern": {
              "fillmode": "overlay",
              "size": 10,
              "solidity": 0.2
             }
            },
            "type": "bar"
           }
          ],
          "barpolar": [
           {
            "marker": {
             "line": {
              "color": "#E5ECF6",
              "width": 0.5
             },
             "pattern": {
              "fillmode": "overlay",
              "size": 10,
              "solidity": 0.2
             }
            },
            "type": "barpolar"
           }
          ],
          "carpet": [
           {
            "aaxis": {
             "endlinecolor": "#2a3f5f",
             "gridcolor": "white",
             "linecolor": "white",
             "minorgridcolor": "white",
             "startlinecolor": "#2a3f5f"
            },
            "baxis": {
             "endlinecolor": "#2a3f5f",
             "gridcolor": "white",
             "linecolor": "white",
             "minorgridcolor": "white",
             "startlinecolor": "#2a3f5f"
            },
            "type": "carpet"
           }
          ],
          "choropleth": [
           {
            "colorbar": {
             "outlinewidth": 0,
             "ticks": ""
            },
            "type": "choropleth"
           }
          ],
          "contour": [
           {
            "colorbar": {
             "outlinewidth": 0,
             "ticks": ""
            },
            "colorscale": [
             [
              0,
              "#0d0887"
             ],
             [
              0.1111111111111111,
              "#46039f"
             ],
             [
              0.2222222222222222,
              "#7201a8"
             ],
             [
              0.3333333333333333,
              "#9c179e"
             ],
             [
              0.4444444444444444,
              "#bd3786"
             ],
             [
              0.5555555555555556,
              "#d8576b"
             ],
             [
              0.6666666666666666,
              "#ed7953"
             ],
             [
              0.7777777777777778,
              "#fb9f3a"
             ],
             [
              0.8888888888888888,
              "#fdca26"
             ],
             [
              1,
              "#f0f921"
             ]
            ],
            "type": "contour"
           }
          ],
          "contourcarpet": [
           {
            "colorbar": {
             "outlinewidth": 0,
             "ticks": ""
            },
            "type": "contourcarpet"
           }
          ],
          "heatmap": [
           {
            "colorbar": {
             "outlinewidth": 0,
             "ticks": ""
            },
            "colorscale": [
             [
              0,
              "#0d0887"
             ],
             [
              0.1111111111111111,
              "#46039f"
             ],
             [
              0.2222222222222222,
              "#7201a8"
             ],
             [
              0.3333333333333333,
              "#9c179e"
             ],
             [
              0.4444444444444444,
              "#bd3786"
             ],
             [
              0.5555555555555556,
              "#d8576b"
             ],
             [
              0.6666666666666666,
              "#ed7953"
             ],
             [
              0.7777777777777778,
              "#fb9f3a"
             ],
             [
              0.8888888888888888,
              "#fdca26"
             ],
             [
              1,
              "#f0f921"
             ]
            ],
            "type": "heatmap"
           }
          ],
          "heatmapgl": [
           {
            "colorbar": {
             "outlinewidth": 0,
             "ticks": ""
            },
            "colorscale": [
             [
              0,
              "#0d0887"
             ],
             [
              0.1111111111111111,
              "#46039f"
             ],
             [
              0.2222222222222222,
              "#7201a8"
             ],
             [
              0.3333333333333333,
              "#9c179e"
             ],
             [
              0.4444444444444444,
              "#bd3786"
             ],
             [
              0.5555555555555556,
              "#d8576b"
             ],
             [
              0.6666666666666666,
              "#ed7953"
             ],
             [
              0.7777777777777778,
              "#fb9f3a"
             ],
             [
              0.8888888888888888,
              "#fdca26"
             ],
             [
              1,
              "#f0f921"
             ]
            ],
            "type": "heatmapgl"
           }
          ],
          "histogram": [
           {
            "marker": {
             "pattern": {
              "fillmode": "overlay",
              "size": 10,
              "solidity": 0.2
             }
            },
            "type": "histogram"
           }
          ],
          "histogram2d": [
           {
            "colorbar": {
             "outlinewidth": 0,
             "ticks": ""
            },
            "colorscale": [
             [
              0,
              "#0d0887"
             ],
             [
              0.1111111111111111,
              "#46039f"
             ],
             [
              0.2222222222222222,
              "#7201a8"
             ],
             [
              0.3333333333333333,
              "#9c179e"
             ],
             [
              0.4444444444444444,
              "#bd3786"
             ],
             [
              0.5555555555555556,
              "#d8576b"
             ],
             [
              0.6666666666666666,
              "#ed7953"
             ],
             [
              0.7777777777777778,
              "#fb9f3a"
             ],
             [
              0.8888888888888888,
              "#fdca26"
             ],
             [
              1,
              "#f0f921"
             ]
            ],
            "type": "histogram2d"
           }
          ],
          "histogram2dcontour": [
           {
            "colorbar": {
             "outlinewidth": 0,
             "ticks": ""
            },
            "colorscale": [
             [
              0,
              "#0d0887"
             ],
             [
              0.1111111111111111,
              "#46039f"
             ],
             [
              0.2222222222222222,
              "#7201a8"
             ],
             [
              0.3333333333333333,
              "#9c179e"
             ],
             [
              0.4444444444444444,
              "#bd3786"
             ],
             [
              0.5555555555555556,
              "#d8576b"
             ],
             [
              0.6666666666666666,
              "#ed7953"
             ],
             [
              0.7777777777777778,
              "#fb9f3a"
             ],
             [
              0.8888888888888888,
              "#fdca26"
             ],
             [
              1,
              "#f0f921"
             ]
            ],
            "type": "histogram2dcontour"
           }
          ],
          "mesh3d": [
           {
            "colorbar": {
             "outlinewidth": 0,
             "ticks": ""
            },
            "type": "mesh3d"
           }
          ],
          "parcoords": [
           {
            "line": {
             "colorbar": {
              "outlinewidth": 0,
              "ticks": ""
             }
            },
            "type": "parcoords"
           }
          ],
          "pie": [
           {
            "automargin": true,
            "type": "pie"
           }
          ],
          "scatter": [
           {
            "marker": {
             "colorbar": {
              "outlinewidth": 0,
              "ticks": ""
             }
            },
            "type": "scatter"
           }
          ],
          "scatter3d": [
           {
            "line": {
             "colorbar": {
              "outlinewidth": 0,
              "ticks": ""
             }
            },
            "marker": {
             "colorbar": {
              "outlinewidth": 0,
              "ticks": ""
             }
            },
            "type": "scatter3d"
           }
          ],
          "scattercarpet": [
           {
            "marker": {
             "colorbar": {
              "outlinewidth": 0,
              "ticks": ""
             }
            },
            "type": "scattercarpet"
           }
          ],
          "scattergeo": [
           {
            "marker": {
             "colorbar": {
              "outlinewidth": 0,
              "ticks": ""
             }
            },
            "type": "scattergeo"
           }
          ],
          "scattergl": [
           {
            "marker": {
             "colorbar": {
              "outlinewidth": 0,
              "ticks": ""
             }
            },
            "type": "scattergl"
           }
          ],
          "scattermapbox": [
           {
            "marker": {
             "colorbar": {
              "outlinewidth": 0,
              "ticks": ""
             }
            },
            "type": "scattermapbox"
           }
          ],
          "scatterpolar": [
           {
            "marker": {
             "colorbar": {
              "outlinewidth": 0,
              "ticks": ""
             }
            },
            "type": "scatterpolar"
           }
          ],
          "scatterpolargl": [
           {
            "marker": {
             "colorbar": {
              "outlinewidth": 0,
              "ticks": ""
             }
            },
            "type": "scatterpolargl"
           }
          ],
          "scatterternary": [
           {
            "marker": {
             "colorbar": {
              "outlinewidth": 0,
              "ticks": ""
             }
            },
            "type": "scatterternary"
           }
          ],
          "surface": [
           {
            "colorbar": {
             "outlinewidth": 0,
             "ticks": ""
            },
            "colorscale": [
             [
              0,
              "#0d0887"
             ],
             [
              0.1111111111111111,
              "#46039f"
             ],
             [
              0.2222222222222222,
              "#7201a8"
             ],
             [
              0.3333333333333333,
              "#9c179e"
             ],
             [
              0.4444444444444444,
              "#bd3786"
             ],
             [
              0.5555555555555556,
              "#d8576b"
             ],
             [
              0.6666666666666666,
              "#ed7953"
             ],
             [
              0.7777777777777778,
              "#fb9f3a"
             ],
             [
              0.8888888888888888,
              "#fdca26"
             ],
             [
              1,
              "#f0f921"
             ]
            ],
            "type": "surface"
           }
          ],
          "table": [
           {
            "cells": {
             "fill": {
              "color": "#EBF0F8"
             },
             "line": {
              "color": "white"
             }
            },
            "header": {
             "fill": {
              "color": "#C8D4E3"
             },
             "line": {
              "color": "white"
             }
            },
            "type": "table"
           }
          ]
         },
         "layout": {
          "annotationdefaults": {
           "arrowcolor": "#2a3f5f",
           "arrowhead": 0,
           "arrowwidth": 1
          },
          "autotypenumbers": "strict",
          "coloraxis": {
           "colorbar": {
            "outlinewidth": 0,
            "ticks": ""
           }
          },
          "colorscale": {
           "diverging": [
            [
             0,
             "#8e0152"
            ],
            [
             0.1,
             "#c51b7d"
            ],
            [
             0.2,
             "#de77ae"
            ],
            [
             0.3,
             "#f1b6da"
            ],
            [
             0.4,
             "#fde0ef"
            ],
            [
             0.5,
             "#f7f7f7"
            ],
            [
             0.6,
             "#e6f5d0"
            ],
            [
             0.7,
             "#b8e186"
            ],
            [
             0.8,
             "#7fbc41"
            ],
            [
             0.9,
             "#4d9221"
            ],
            [
             1,
             "#276419"
            ]
           ],
           "sequential": [
            [
             0,
             "#0d0887"
            ],
            [
             0.1111111111111111,
             "#46039f"
            ],
            [
             0.2222222222222222,
             "#7201a8"
            ],
            [
             0.3333333333333333,
             "#9c179e"
            ],
            [
             0.4444444444444444,
             "#bd3786"
            ],
            [
             0.5555555555555556,
             "#d8576b"
            ],
            [
             0.6666666666666666,
             "#ed7953"
            ],
            [
             0.7777777777777778,
             "#fb9f3a"
            ],
            [
             0.8888888888888888,
             "#fdca26"
            ],
            [
             1,
             "#f0f921"
            ]
           ],
           "sequentialminus": [
            [
             0,
             "#0d0887"
            ],
            [
             0.1111111111111111,
             "#46039f"
            ],
            [
             0.2222222222222222,
             "#7201a8"
            ],
            [
             0.3333333333333333,
             "#9c179e"
            ],
            [
             0.4444444444444444,
             "#bd3786"
            ],
            [
             0.5555555555555556,
             "#d8576b"
            ],
            [
             0.6666666666666666,
             "#ed7953"
            ],
            [
             0.7777777777777778,
             "#fb9f3a"
            ],
            [
             0.8888888888888888,
             "#fdca26"
            ],
            [
             1,
             "#f0f921"
            ]
           ]
          },
          "colorway": [
           "#636efa",
           "#EF553B",
           "#00cc96",
           "#ab63fa",
           "#FFA15A",
           "#19d3f3",
           "#FF6692",
           "#B6E880",
           "#FF97FF",
           "#FECB52"
          ],
          "font": {
           "color": "#2a3f5f"
          },
          "geo": {
           "bgcolor": "white",
           "lakecolor": "white",
           "landcolor": "#E5ECF6",
           "showlakes": true,
           "showland": true,
           "subunitcolor": "white"
          },
          "hoverlabel": {
           "align": "left"
          },
          "hovermode": "closest",
          "mapbox": {
           "style": "light"
          },
          "paper_bgcolor": "white",
          "plot_bgcolor": "#E5ECF6",
          "polar": {
           "angularaxis": {
            "gridcolor": "white",
            "linecolor": "white",
            "ticks": ""
           },
           "bgcolor": "#E5ECF6",
           "radialaxis": {
            "gridcolor": "white",
            "linecolor": "white",
            "ticks": ""
           }
          },
          "scene": {
           "xaxis": {
            "backgroundcolor": "#E5ECF6",
            "gridcolor": "white",
            "gridwidth": 2,
            "linecolor": "white",
            "showbackground": true,
            "ticks": "",
            "zerolinecolor": "white"
           },
           "yaxis": {
            "backgroundcolor": "#E5ECF6",
            "gridcolor": "white",
            "gridwidth": 2,
            "linecolor": "white",
            "showbackground": true,
            "ticks": "",
            "zerolinecolor": "white"
           },
           "zaxis": {
            "backgroundcolor": "#E5ECF6",
            "gridcolor": "white",
            "gridwidth": 2,
            "linecolor": "white",
            "showbackground": true,
            "ticks": "",
            "zerolinecolor": "white"
           }
          },
          "shapedefaults": {
           "line": {
            "color": "#2a3f5f"
           }
          },
          "ternary": {
           "aaxis": {
            "gridcolor": "white",
            "linecolor": "white",
            "ticks": ""
           },
           "baxis": {
            "gridcolor": "white",
            "linecolor": "white",
            "ticks": ""
           },
           "bgcolor": "#E5ECF6",
           "caxis": {
            "gridcolor": "white",
            "linecolor": "white",
            "ticks": ""
           }
          },
          "title": {
           "x": 0.05
          },
          "xaxis": {
           "automargin": true,
           "gridcolor": "white",
           "linecolor": "white",
           "ticks": "",
           "title": {
            "standoff": 15
           },
           "zerolinecolor": "white",
           "zerolinewidth": 2
          },
          "yaxis": {
           "automargin": true,
           "gridcolor": "white",
           "linecolor": "white",
           "ticks": "",
           "title": {
            "standoff": 15
           },
           "zerolinecolor": "white",
           "zerolinewidth": 2
          }
         }
        },
        "title": {
         "text": "YoY Trend of Avg request Response time for each Neighbourhoods"
        },
        "updatemenus": [
         {
          "buttons": [
           {
            "args": [
             null,
             {
              "frame": {
               "duration": 500,
               "redraw": false
              },
              "fromcurrent": true,
              "mode": "immediate",
              "transition": {
               "duration": 500,
               "easing": "linear"
              }
             }
            ],
            "label": "&#9654;",
            "method": "animate"
           },
           {
            "args": [
             [
              null
             ],
             {
              "frame": {
               "duration": 0,
               "redraw": false
              },
              "fromcurrent": true,
              "mode": "immediate",
              "transition": {
               "duration": 0,
               "easing": "linear"
              }
             }
            ],
            "label": "&#9724;",
            "method": "animate"
           }
          ],
          "direction": "left",
          "pad": {
           "r": 10,
           "t": 70
          },
          "showactive": false,
          "type": "buttons",
          "x": 0.1,
          "xanchor": "right",
          "y": 0,
          "yanchor": "top"
         }
        ],
        "width": 1200,
        "xaxis": {
         "anchor": "y",
         "domain": [
          0,
          1
         ],
         "tickangle": -45,
         "title": {
          "text": "Year"
         }
        },
        "yaxis": {
         "anchor": "x",
         "domain": [
          0,
          1
         ],
         "title": {
          "text": "AvgResponse"
         }
        }
       }
      }
     },
     "metadata": {},
     "output_type": "display_data"
    }
   ],
   "source": [
    "fig = px.line(df, x = 'Year', y= 'AvgResponse', animation_frame= 'neighbourhood', title= 'YoY Trend of Avg request Response time for each Neighbourhoods', markers= True) \n",
    "fig.update_layout(width = 1200, height = 600, xaxis_tickangle=-45)\n",
    "fig.show()"
   ]
  },
  {
   "cell_type": "markdown",
   "id": "d9bdaa5c",
   "metadata": {},
   "source": [
    "### Plotting YoY Trend of Avg Request Response time for each Council"
   ]
  },
  {
   "cell_type": "code",
   "execution_count": 138,
   "id": "fbd9620c",
   "metadata": {},
   "outputs": [
    {
     "data": {
      "text/html": [
       "<div>\n",
       "<style scoped>\n",
       "    .dataframe tbody tr th:only-of-type {\n",
       "        vertical-align: middle;\n",
       "    }\n",
       "\n",
       "    .dataframe tbody tr th {\n",
       "        vertical-align: top;\n",
       "    }\n",
       "\n",
       "    .dataframe thead th {\n",
       "        text-align: right;\n",
       "    }\n",
       "</style>\n",
       "<table border=\"1\" class=\"dataframe\">\n",
       "  <thead>\n",
       "    <tr style=\"text-align: right;\">\n",
       "      <th></th>\n",
       "      <th>Year</th>\n",
       "      <th>council</th>\n",
       "      <th>AvgResponse</th>\n",
       "    </tr>\n",
       "  </thead>\n",
       "  <tbody>\n",
       "    <tr>\n",
       "      <th>0</th>\n",
       "      <td>2008</td>\n",
       "      <td>DELAWARE</td>\n",
       "      <td>21.704055</td>\n",
       "    </tr>\n",
       "    <tr>\n",
       "      <th>1</th>\n",
       "      <td>2009</td>\n",
       "      <td>DELAWARE</td>\n",
       "      <td>10.954017</td>\n",
       "    </tr>\n",
       "    <tr>\n",
       "      <th>2</th>\n",
       "      <td>2010</td>\n",
       "      <td>DELAWARE</td>\n",
       "      <td>17.542010</td>\n",
       "    </tr>\n",
       "    <tr>\n",
       "      <th>3</th>\n",
       "      <td>2011</td>\n",
       "      <td>DELAWARE</td>\n",
       "      <td>11.950660</td>\n",
       "    </tr>\n",
       "    <tr>\n",
       "      <th>4</th>\n",
       "      <td>2012</td>\n",
       "      <td>DELAWARE</td>\n",
       "      <td>8.950750</td>\n",
       "    </tr>\n",
       "  </tbody>\n",
       "</table>\n",
       "</div>"
      ],
      "text/plain": [
       "   Year   council  AvgResponse\n",
       "0  2008  DELAWARE    21.704055\n",
       "1  2009  DELAWARE    10.954017\n",
       "2  2010  DELAWARE    17.542010\n",
       "3  2011  DELAWARE    11.950660\n",
       "4  2012  DELAWARE     8.950750"
      ]
     },
     "execution_count": 138,
     "metadata": {},
     "output_type": "execute_result"
    }
   ],
   "source": [
    "\n",
    "df = pd.read_sql_query(\"\"\"SELECT strftime('%Y', DATE(opendate)) AS Year, a.council, AVG(JULIANDAY(c.closedate) - JULIANDAY(c.opendate)) AS AvgResponse \n",
    "                FROM CaseDetails c \n",
    "                JOIN Address a\n",
    "                ON a.AddressID = c.AddressID \n",
    "                WHERE c.closedate != 0 \n",
    "                GROUP BY Year, a.council\n",
    "                HAVING AvgResponse > 0\n",
    "                ORDER BY council, Year;\"\"\", conn)\n",
    "\n",
    "df.head()\n"
   ]
  },
  {
   "cell_type": "code",
   "execution_count": 139,
   "id": "313f395a",
   "metadata": {},
   "outputs": [
    {
     "data": {
      "application/vnd.plotly.v1+json": {
       "config": {
        "plotlyServerURL": "https://plot.ly"
       },
       "data": [
        {
         "hovertemplate": "council=DELAWARE<br>Year=%{x}<br>AvgResponse=%{y}<extra></extra>",
         "legendgroup": "DELAWARE",
         "line": {
          "color": "#636efa",
          "dash": "solid"
         },
         "marker": {
          "symbol": "circle"
         },
         "mode": "lines+markers",
         "name": "DELAWARE",
         "orientation": "v",
         "showlegend": true,
         "type": "scatter",
         "x": [
          "2008",
          "2009",
          "2010",
          "2011",
          "2012",
          "2013",
          "2014",
          "2015",
          "2016",
          "2017",
          "2018",
          "2019",
          "2020",
          "2021",
          "2022"
         ],
         "xaxis": "x",
         "y": [
          21.704055220017256,
          10.954016818751118,
          17.542010251838644,
          11.950660308143801,
          8.950749861136826,
          9.967382962394474,
          12.011645267243953,
          10.968208092485549,
          10.767112256401997,
          8.649468169550723,
          12.640758431031987,
          9.91027708547134,
          11.707154213036565,
          16.22100360576923,
          8.147515527950311
         ],
         "yaxis": "y"
        },
        {
         "hovertemplate": "council=ELLICOTT<br>Year=%{x}<br>AvgResponse=%{y}<extra></extra>",
         "legendgroup": "ELLICOTT",
         "line": {
          "color": "#EF553B",
          "dash": "solid"
         },
         "marker": {
          "symbol": "circle"
         },
         "mode": "lines+markers",
         "name": "ELLICOTT",
         "orientation": "v",
         "showlegend": true,
         "type": "scatter",
         "x": [
          "2008",
          "2009",
          "2010",
          "2011",
          "2012",
          "2013",
          "2014",
          "2015",
          "2016",
          "2017",
          "2018",
          "2019",
          "2020",
          "2021",
          "2022"
         ],
         "xaxis": "x",
         "y": [
          21.561672473867596,
          13.10343618513324,
          16.730540111199364,
          13.062857142857142,
          8.638666926525044,
          11.235720601237842,
          11.380598195917075,
          11.268057329360012,
          11.749725748315312,
          8.92125748502994,
          11.667638483965014,
          10.818107108615258,
          14.998222586819798,
          18.22482814395471,
          8.375592417061611
         ],
         "yaxis": "y"
        },
        {
         "hovertemplate": "council=FILLMORE<br>Year=%{x}<br>AvgResponse=%{y}<extra></extra>",
         "legendgroup": "FILLMORE",
         "line": {
          "color": "#00cc96",
          "dash": "solid"
         },
         "marker": {
          "symbol": "circle"
         },
         "mode": "lines+markers",
         "name": "FILLMORE",
         "orientation": "v",
         "showlegend": true,
         "type": "scatter",
         "x": [
          "2008",
          "2009",
          "2010",
          "2011",
          "2012",
          "2013",
          "2014",
          "2015",
          "2016",
          "2017",
          "2018",
          "2019",
          "2020",
          "2021",
          "2022"
         ],
         "xaxis": "x",
         "y": [
          29.830805687203792,
          12.342811422944362,
          14.109316251218493,
          11.343593913346497,
          8.081174438687393,
          8.541089911460281,
          9.633531932685273,
          10.52080371528765,
          10.83554346594129,
          8.297315587638169,
          11.907634307257304,
          9.569482846902202,
          11.464867380176827,
          16.714835811316718,
          8.466485430294792
         ],
         "yaxis": "y"
        },
        {
         "hovertemplate": "council=LOVEJOY<br>Year=%{x}<br>AvgResponse=%{y}<extra></extra>",
         "legendgroup": "LOVEJOY",
         "line": {
          "color": "#ab63fa",
          "dash": "solid"
         },
         "marker": {
          "symbol": "circle"
         },
         "mode": "lines+markers",
         "name": "LOVEJOY",
         "orientation": "v",
         "showlegend": true,
         "type": "scatter",
         "x": [
          "2008",
          "2009",
          "2010",
          "2011",
          "2012",
          "2013",
          "2014",
          "2015",
          "2016",
          "2017",
          "2018",
          "2019",
          "2020",
          "2021",
          "2022"
         ],
         "xaxis": "x",
         "y": [
          27.61148857319333,
          12.731402895656515,
          14.920286318529364,
          14.486172650878533,
          10.875977478886456,
          10.262562444901558,
          11.902032819005633,
          13.222111443447435,
          12.682736974262397,
          10.41793349168646,
          13.534517881394295,
          9.625800151893241,
          10.507744039127777,
          14.038318414965302,
          9.749360128922172
         ],
         "yaxis": "y"
        },
        {
         "hovertemplate": "council=MASTEN<br>Year=%{x}<br>AvgResponse=%{y}<extra></extra>",
         "legendgroup": "MASTEN",
         "line": {
          "color": "#FFA15A",
          "dash": "solid"
         },
         "marker": {
          "symbol": "circle"
         },
         "mode": "lines+markers",
         "name": "MASTEN",
         "orientation": "v",
         "showlegend": true,
         "type": "scatter",
         "x": [
          "2008",
          "2009",
          "2010",
          "2011",
          "2012",
          "2013",
          "2014",
          "2015",
          "2016",
          "2017",
          "2018",
          "2019",
          "2020",
          "2021",
          "2022"
         ],
         "xaxis": "x",
         "y": [
          25.39076284379865,
          12.174124513618677,
          14.816084689524411,
          12.699900440904566,
          8.724756690997568,
          9.333999143957769,
          9.404031440162273,
          9.366752260801608,
          10.957468101075808,
          9.42929044930027,
          13.083423854008256,
          10.500224567707164,
          12.58658551139754,
          15.507595878041007,
          9.932286828905815
         ],
         "yaxis": "y"
        },
        {
         "hovertemplate": "council=NIAGARA<br>Year=%{x}<br>AvgResponse=%{y}<extra></extra>",
         "legendgroup": "NIAGARA",
         "line": {
          "color": "#19d3f3",
          "dash": "solid"
         },
         "marker": {
          "symbol": "circle"
         },
         "mode": "lines+markers",
         "name": "NIAGARA",
         "orientation": "v",
         "showlegend": true,
         "type": "scatter",
         "x": [
          "2008",
          "2009",
          "2010",
          "2011",
          "2012",
          "2013",
          "2014",
          "2015",
          "2016",
          "2017",
          "2018",
          "2019",
          "2020",
          "2021",
          "2022"
         ],
         "xaxis": "x",
         "y": [
          23.100825471698112,
          11.752757642609518,
          15.257148570285942,
          11.693338096088587,
          8.831761878350896,
          9.893008474576272,
          13.601075268817205,
          11.46031746031746,
          11.790202177293935,
          9.561386615310544,
          12.63933971424608,
          12.21211217183771,
          12.416692474450294,
          14.173851789236405,
          6.847040737893928
         ],
         "yaxis": "y"
        },
        {
         "hovertemplate": "council=NORTH<br>Year=%{x}<br>AvgResponse=%{y}<extra></extra>",
         "legendgroup": "NORTH",
         "line": {
          "color": "#FF6692",
          "dash": "solid"
         },
         "marker": {
          "symbol": "circle"
         },
         "mode": "lines+markers",
         "name": "NORTH",
         "orientation": "v",
         "showlegend": true,
         "type": "scatter",
         "x": [
          "2008",
          "2009",
          "2010",
          "2011",
          "2012",
          "2013",
          "2014",
          "2015",
          "2016",
          "2017",
          "2018",
          "2019",
          "2020",
          "2021",
          "2022"
         ],
         "xaxis": "x",
         "y": [
          21.924668874172184,
          12.964575089504429,
          18.86130778842149,
          15.493421052631579,
          12.579900240162571,
          13.487979539641943,
          10.359414287827244,
          10.057080131723382,
          11.683671977781026,
          12.563869367507234,
          13.186931670563784,
          10.948547717842324,
          12.944151738672286,
          17.213444412525135,
          10.201313197636244
         ],
         "yaxis": "y"
        },
        {
         "hovertemplate": "council=SOUTH<br>Year=%{x}<br>AvgResponse=%{y}<extra></extra>",
         "legendgroup": "SOUTH",
         "line": {
          "color": "#B6E880",
          "dash": "solid"
         },
         "marker": {
          "symbol": "circle"
         },
         "mode": "lines+markers",
         "name": "SOUTH",
         "orientation": "v",
         "showlegend": true,
         "type": "scatter",
         "x": [
          "2008",
          "2009",
          "2010",
          "2011",
          "2012",
          "2013",
          "2014",
          "2015",
          "2016",
          "2017",
          "2018",
          "2019",
          "2020",
          "2021",
          "2022"
         ],
         "xaxis": "x",
         "y": [
          21.101105845181674,
          10.563325563325563,
          14.503108808290156,
          13.630257801899592,
          9.257032007759458,
          8.431749622926093,
          10.69058110713302,
          12.00804289544236,
          10.953823529411764,
          9.8005698005698,
          15.515134290180475,
          10.874277896017027,
          11.339200526402369,
          12.598984771573605,
          7.991276991276991
         ],
         "yaxis": "y"
        },
        {
         "hovertemplate": "council=UNIVERSITY<br>Year=%{x}<br>AvgResponse=%{y}<extra></extra>",
         "legendgroup": "UNIVERSITY",
         "line": {
          "color": "#FF97FF",
          "dash": "solid"
         },
         "marker": {
          "symbol": "circle"
         },
         "mode": "lines+markers",
         "name": "UNIVERSITY",
         "orientation": "v",
         "showlegend": true,
         "type": "scatter",
         "x": [
          "2008",
          "2009",
          "2010",
          "2011",
          "2012",
          "2013",
          "2014",
          "2015",
          "2016",
          "2017",
          "2018",
          "2019",
          "2020",
          "2021",
          "2022"
         ],
         "xaxis": "x",
         "y": [
          24.195500387897596,
          11.964531306550851,
          15.713950511945393,
          13.178039927404718,
          10.382055852644088,
          11.996659862683243,
          10.96313725490196,
          11.45037477384337,
          13.069142689371697,
          9.537200309358083,
          13.968030344080194,
          10.03993227035417,
          12.520608932931207,
          15.313884386817936,
          8.426274092467779
         ],
         "yaxis": "y"
        }
       ],
       "layout": {
        "height": 600,
        "legend": {
         "title": {
          "text": "council"
         },
         "tracegroupgap": 0
        },
        "template": {
         "data": {
          "bar": [
           {
            "error_x": {
             "color": "#2a3f5f"
            },
            "error_y": {
             "color": "#2a3f5f"
            },
            "marker": {
             "line": {
              "color": "#E5ECF6",
              "width": 0.5
             },
             "pattern": {
              "fillmode": "overlay",
              "size": 10,
              "solidity": 0.2
             }
            },
            "type": "bar"
           }
          ],
          "barpolar": [
           {
            "marker": {
             "line": {
              "color": "#E5ECF6",
              "width": 0.5
             },
             "pattern": {
              "fillmode": "overlay",
              "size": 10,
              "solidity": 0.2
             }
            },
            "type": "barpolar"
           }
          ],
          "carpet": [
           {
            "aaxis": {
             "endlinecolor": "#2a3f5f",
             "gridcolor": "white",
             "linecolor": "white",
             "minorgridcolor": "white",
             "startlinecolor": "#2a3f5f"
            },
            "baxis": {
             "endlinecolor": "#2a3f5f",
             "gridcolor": "white",
             "linecolor": "white",
             "minorgridcolor": "white",
             "startlinecolor": "#2a3f5f"
            },
            "type": "carpet"
           }
          ],
          "choropleth": [
           {
            "colorbar": {
             "outlinewidth": 0,
             "ticks": ""
            },
            "type": "choropleth"
           }
          ],
          "contour": [
           {
            "colorbar": {
             "outlinewidth": 0,
             "ticks": ""
            },
            "colorscale": [
             [
              0,
              "#0d0887"
             ],
             [
              0.1111111111111111,
              "#46039f"
             ],
             [
              0.2222222222222222,
              "#7201a8"
             ],
             [
              0.3333333333333333,
              "#9c179e"
             ],
             [
              0.4444444444444444,
              "#bd3786"
             ],
             [
              0.5555555555555556,
              "#d8576b"
             ],
             [
              0.6666666666666666,
              "#ed7953"
             ],
             [
              0.7777777777777778,
              "#fb9f3a"
             ],
             [
              0.8888888888888888,
              "#fdca26"
             ],
             [
              1,
              "#f0f921"
             ]
            ],
            "type": "contour"
           }
          ],
          "contourcarpet": [
           {
            "colorbar": {
             "outlinewidth": 0,
             "ticks": ""
            },
            "type": "contourcarpet"
           }
          ],
          "heatmap": [
           {
            "colorbar": {
             "outlinewidth": 0,
             "ticks": ""
            },
            "colorscale": [
             [
              0,
              "#0d0887"
             ],
             [
              0.1111111111111111,
              "#46039f"
             ],
             [
              0.2222222222222222,
              "#7201a8"
             ],
             [
              0.3333333333333333,
              "#9c179e"
             ],
             [
              0.4444444444444444,
              "#bd3786"
             ],
             [
              0.5555555555555556,
              "#d8576b"
             ],
             [
              0.6666666666666666,
              "#ed7953"
             ],
             [
              0.7777777777777778,
              "#fb9f3a"
             ],
             [
              0.8888888888888888,
              "#fdca26"
             ],
             [
              1,
              "#f0f921"
             ]
            ],
            "type": "heatmap"
           }
          ],
          "heatmapgl": [
           {
            "colorbar": {
             "outlinewidth": 0,
             "ticks": ""
            },
            "colorscale": [
             [
              0,
              "#0d0887"
             ],
             [
              0.1111111111111111,
              "#46039f"
             ],
             [
              0.2222222222222222,
              "#7201a8"
             ],
             [
              0.3333333333333333,
              "#9c179e"
             ],
             [
              0.4444444444444444,
              "#bd3786"
             ],
             [
              0.5555555555555556,
              "#d8576b"
             ],
             [
              0.6666666666666666,
              "#ed7953"
             ],
             [
              0.7777777777777778,
              "#fb9f3a"
             ],
             [
              0.8888888888888888,
              "#fdca26"
             ],
             [
              1,
              "#f0f921"
             ]
            ],
            "type": "heatmapgl"
           }
          ],
          "histogram": [
           {
            "marker": {
             "pattern": {
              "fillmode": "overlay",
              "size": 10,
              "solidity": 0.2
             }
            },
            "type": "histogram"
           }
          ],
          "histogram2d": [
           {
            "colorbar": {
             "outlinewidth": 0,
             "ticks": ""
            },
            "colorscale": [
             [
              0,
              "#0d0887"
             ],
             [
              0.1111111111111111,
              "#46039f"
             ],
             [
              0.2222222222222222,
              "#7201a8"
             ],
             [
              0.3333333333333333,
              "#9c179e"
             ],
             [
              0.4444444444444444,
              "#bd3786"
             ],
             [
              0.5555555555555556,
              "#d8576b"
             ],
             [
              0.6666666666666666,
              "#ed7953"
             ],
             [
              0.7777777777777778,
              "#fb9f3a"
             ],
             [
              0.8888888888888888,
              "#fdca26"
             ],
             [
              1,
              "#f0f921"
             ]
            ],
            "type": "histogram2d"
           }
          ],
          "histogram2dcontour": [
           {
            "colorbar": {
             "outlinewidth": 0,
             "ticks": ""
            },
            "colorscale": [
             [
              0,
              "#0d0887"
             ],
             [
              0.1111111111111111,
              "#46039f"
             ],
             [
              0.2222222222222222,
              "#7201a8"
             ],
             [
              0.3333333333333333,
              "#9c179e"
             ],
             [
              0.4444444444444444,
              "#bd3786"
             ],
             [
              0.5555555555555556,
              "#d8576b"
             ],
             [
              0.6666666666666666,
              "#ed7953"
             ],
             [
              0.7777777777777778,
              "#fb9f3a"
             ],
             [
              0.8888888888888888,
              "#fdca26"
             ],
             [
              1,
              "#f0f921"
             ]
            ],
            "type": "histogram2dcontour"
           }
          ],
          "mesh3d": [
           {
            "colorbar": {
             "outlinewidth": 0,
             "ticks": ""
            },
            "type": "mesh3d"
           }
          ],
          "parcoords": [
           {
            "line": {
             "colorbar": {
              "outlinewidth": 0,
              "ticks": ""
             }
            },
            "type": "parcoords"
           }
          ],
          "pie": [
           {
            "automargin": true,
            "type": "pie"
           }
          ],
          "scatter": [
           {
            "marker": {
             "colorbar": {
              "outlinewidth": 0,
              "ticks": ""
             }
            },
            "type": "scatter"
           }
          ],
          "scatter3d": [
           {
            "line": {
             "colorbar": {
              "outlinewidth": 0,
              "ticks": ""
             }
            },
            "marker": {
             "colorbar": {
              "outlinewidth": 0,
              "ticks": ""
             }
            },
            "type": "scatter3d"
           }
          ],
          "scattercarpet": [
           {
            "marker": {
             "colorbar": {
              "outlinewidth": 0,
              "ticks": ""
             }
            },
            "type": "scattercarpet"
           }
          ],
          "scattergeo": [
           {
            "marker": {
             "colorbar": {
              "outlinewidth": 0,
              "ticks": ""
             }
            },
            "type": "scattergeo"
           }
          ],
          "scattergl": [
           {
            "marker": {
             "colorbar": {
              "outlinewidth": 0,
              "ticks": ""
             }
            },
            "type": "scattergl"
           }
          ],
          "scattermapbox": [
           {
            "marker": {
             "colorbar": {
              "outlinewidth": 0,
              "ticks": ""
             }
            },
            "type": "scattermapbox"
           }
          ],
          "scatterpolar": [
           {
            "marker": {
             "colorbar": {
              "outlinewidth": 0,
              "ticks": ""
             }
            },
            "type": "scatterpolar"
           }
          ],
          "scatterpolargl": [
           {
            "marker": {
             "colorbar": {
              "outlinewidth": 0,
              "ticks": ""
             }
            },
            "type": "scatterpolargl"
           }
          ],
          "scatterternary": [
           {
            "marker": {
             "colorbar": {
              "outlinewidth": 0,
              "ticks": ""
             }
            },
            "type": "scatterternary"
           }
          ],
          "surface": [
           {
            "colorbar": {
             "outlinewidth": 0,
             "ticks": ""
            },
            "colorscale": [
             [
              0,
              "#0d0887"
             ],
             [
              0.1111111111111111,
              "#46039f"
             ],
             [
              0.2222222222222222,
              "#7201a8"
             ],
             [
              0.3333333333333333,
              "#9c179e"
             ],
             [
              0.4444444444444444,
              "#bd3786"
             ],
             [
              0.5555555555555556,
              "#d8576b"
             ],
             [
              0.6666666666666666,
              "#ed7953"
             ],
             [
              0.7777777777777778,
              "#fb9f3a"
             ],
             [
              0.8888888888888888,
              "#fdca26"
             ],
             [
              1,
              "#f0f921"
             ]
            ],
            "type": "surface"
           }
          ],
          "table": [
           {
            "cells": {
             "fill": {
              "color": "#EBF0F8"
             },
             "line": {
              "color": "white"
             }
            },
            "header": {
             "fill": {
              "color": "#C8D4E3"
             },
             "line": {
              "color": "white"
             }
            },
            "type": "table"
           }
          ]
         },
         "layout": {
          "annotationdefaults": {
           "arrowcolor": "#2a3f5f",
           "arrowhead": 0,
           "arrowwidth": 1
          },
          "autotypenumbers": "strict",
          "coloraxis": {
           "colorbar": {
            "outlinewidth": 0,
            "ticks": ""
           }
          },
          "colorscale": {
           "diverging": [
            [
             0,
             "#8e0152"
            ],
            [
             0.1,
             "#c51b7d"
            ],
            [
             0.2,
             "#de77ae"
            ],
            [
             0.3,
             "#f1b6da"
            ],
            [
             0.4,
             "#fde0ef"
            ],
            [
             0.5,
             "#f7f7f7"
            ],
            [
             0.6,
             "#e6f5d0"
            ],
            [
             0.7,
             "#b8e186"
            ],
            [
             0.8,
             "#7fbc41"
            ],
            [
             0.9,
             "#4d9221"
            ],
            [
             1,
             "#276419"
            ]
           ],
           "sequential": [
            [
             0,
             "#0d0887"
            ],
            [
             0.1111111111111111,
             "#46039f"
            ],
            [
             0.2222222222222222,
             "#7201a8"
            ],
            [
             0.3333333333333333,
             "#9c179e"
            ],
            [
             0.4444444444444444,
             "#bd3786"
            ],
            [
             0.5555555555555556,
             "#d8576b"
            ],
            [
             0.6666666666666666,
             "#ed7953"
            ],
            [
             0.7777777777777778,
             "#fb9f3a"
            ],
            [
             0.8888888888888888,
             "#fdca26"
            ],
            [
             1,
             "#f0f921"
            ]
           ],
           "sequentialminus": [
            [
             0,
             "#0d0887"
            ],
            [
             0.1111111111111111,
             "#46039f"
            ],
            [
             0.2222222222222222,
             "#7201a8"
            ],
            [
             0.3333333333333333,
             "#9c179e"
            ],
            [
             0.4444444444444444,
             "#bd3786"
            ],
            [
             0.5555555555555556,
             "#d8576b"
            ],
            [
             0.6666666666666666,
             "#ed7953"
            ],
            [
             0.7777777777777778,
             "#fb9f3a"
            ],
            [
             0.8888888888888888,
             "#fdca26"
            ],
            [
             1,
             "#f0f921"
            ]
           ]
          },
          "colorway": [
           "#636efa",
           "#EF553B",
           "#00cc96",
           "#ab63fa",
           "#FFA15A",
           "#19d3f3",
           "#FF6692",
           "#B6E880",
           "#FF97FF",
           "#FECB52"
          ],
          "font": {
           "color": "#2a3f5f"
          },
          "geo": {
           "bgcolor": "white",
           "lakecolor": "white",
           "landcolor": "#E5ECF6",
           "showlakes": true,
           "showland": true,
           "subunitcolor": "white"
          },
          "hoverlabel": {
           "align": "left"
          },
          "hovermode": "closest",
          "mapbox": {
           "style": "light"
          },
          "paper_bgcolor": "white",
          "plot_bgcolor": "#E5ECF6",
          "polar": {
           "angularaxis": {
            "gridcolor": "white",
            "linecolor": "white",
            "ticks": ""
           },
           "bgcolor": "#E5ECF6",
           "radialaxis": {
            "gridcolor": "white",
            "linecolor": "white",
            "ticks": ""
           }
          },
          "scene": {
           "xaxis": {
            "backgroundcolor": "#E5ECF6",
            "gridcolor": "white",
            "gridwidth": 2,
            "linecolor": "white",
            "showbackground": true,
            "ticks": "",
            "zerolinecolor": "white"
           },
           "yaxis": {
            "backgroundcolor": "#E5ECF6",
            "gridcolor": "white",
            "gridwidth": 2,
            "linecolor": "white",
            "showbackground": true,
            "ticks": "",
            "zerolinecolor": "white"
           },
           "zaxis": {
            "backgroundcolor": "#E5ECF6",
            "gridcolor": "white",
            "gridwidth": 2,
            "linecolor": "white",
            "showbackground": true,
            "ticks": "",
            "zerolinecolor": "white"
           }
          },
          "shapedefaults": {
           "line": {
            "color": "#2a3f5f"
           }
          },
          "ternary": {
           "aaxis": {
            "gridcolor": "white",
            "linecolor": "white",
            "ticks": ""
           },
           "baxis": {
            "gridcolor": "white",
            "linecolor": "white",
            "ticks": ""
           },
           "bgcolor": "#E5ECF6",
           "caxis": {
            "gridcolor": "white",
            "linecolor": "white",
            "ticks": ""
           }
          },
          "title": {
           "x": 0.05
          },
          "xaxis": {
           "automargin": true,
           "gridcolor": "white",
           "linecolor": "white",
           "ticks": "",
           "title": {
            "standoff": 15
           },
           "zerolinecolor": "white",
           "zerolinewidth": 2
          },
          "yaxis": {
           "automargin": true,
           "gridcolor": "white",
           "linecolor": "white",
           "ticks": "",
           "title": {
            "standoff": 15
           },
           "zerolinecolor": "white",
           "zerolinewidth": 2
          }
         }
        },
        "title": {
         "text": "YoY Trend of Avg Request Response time for each Council"
        },
        "width": 1200,
        "xaxis": {
         "anchor": "y",
         "domain": [
          0,
          1
         ],
         "tickangle": -45,
         "title": {
          "text": "Year"
         }
        },
        "yaxis": {
         "anchor": "x",
         "domain": [
          0,
          1
         ],
         "title": {
          "text": "AvgResponse"
         }
        }
       }
      }
     },
     "metadata": {},
     "output_type": "display_data"
    }
   ],
   "source": [
    "fig = px.line(df, x = 'Year', y= 'AvgResponse', color= 'council', title= 'YoY Trend of Avg Request Response time for each Council', markers= True) \n",
    "fig.update_layout(width = 1200, height = 600, xaxis_tickangle=-45)\n",
    "fig.show()"
   ]
  }
 ],
 "metadata": {
  "kernelspec": {
   "display_name": "Python 3 (ipykernel)",
   "language": "python",
   "name": "python3"
  },
  "language_info": {
   "codemirror_mode": {
    "name": "ipython",
    "version": 3
   },
   "file_extension": ".py",
   "mimetype": "text/x-python",
   "name": "python",
   "nbconvert_exporter": "python",
   "pygments_lexer": "ipython3",
   "version": "3.9.12"
  },
  "vscode": {
   "interpreter": {
    "hash": "502b3578dc0b92da769833a82225b802c2fbbfa9d592a70a2c643f901e4b59e9"
   }
  }
 },
 "nbformat": 4,
 "nbformat_minor": 5
}
